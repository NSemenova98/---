{
  "cells": [
    {
      "cell_type": "markdown",
      "id": "f24a8c6a",
      "metadata": {
        "id": "f24a8c6a"
      },
      "source": [
        "# Исследование надежности заемщиков."
      ]
    },
    {
      "cell_type": "markdown",
      "id": "9e7a0281",
      "metadata": {
        "id": "9e7a0281"
      },
      "source": [
        "**Какова цель исследования?** \n",
        "\n",
        "- Заказчик — кредитный отдел банка. Нужно разобраться, влияет ли семейное положение и количество детей клиента на факт погашения кредита в срок.\n",
        "\n",
        "**На каких данных проводится исследование?**\n",
        "- Входные данные от банка — статистика о платёжеспособности клиентов.\n",
        "\n",
        "**Что нужно выяснить?**\n",
        "- Есть ли зависимость между количеством детей и возвратом кредита в срок?\n",
        "- Есть ли зависимость между семейным положением и возвратом кредита в срок?\n",
        "- Есть ли зависимость между уровнем дохода и возвратом кредита в срок?\n",
        "- Как разные цели кредита влияют на его возврат в срок?\n",
        "\n",
        "**Что будем делать с результатами?**\n",
        "- Результаты исследования будут учтены при построении модели кредитного скоринга — специальной системы, которая оценивает способность потенциального заёмщика вернуть кредит банку."
      ]
    },
    {
      "cell_type": "markdown",
      "id": "ba5b2bb2",
      "metadata": {
        "id": "ba5b2bb2"
      },
      "source": [
        "### Шаг 1. Обзор данных"
      ]
    },
    {
      "cell_type": "code",
      "execution_count": null,
      "id": "b056536d",
      "metadata": {
        "id": "b056536d"
      },
      "outputs": [],
      "source": [
        "# импорт библиотеки pandas\n",
        "import pandas as pd"
      ]
    },
    {
      "cell_type": "code",
      "execution_count": null,
      "id": "5a6245c2",
      "metadata": {
        "id": "5a6245c2"
      },
      "outputs": [],
      "source": [
        "# чтение файла с данными и сохранение в df\n",
        "df = pd.read_csv('/datasets/data.csv')"
      ]
    },
    {
      "cell_type": "code",
      "execution_count": null,
      "id": "7884843f",
      "metadata": {
        "id": "7884843f",
        "outputId": "8a83de87-4809-4401-9932-8c491e77bb9f"
      },
      "outputs": [
        {
          "data": {
            "text/html": [
              "<div>\n",
              "<style scoped>\n",
              "    .dataframe tbody tr th:only-of-type {\n",
              "        vertical-align: middle;\n",
              "    }\n",
              "\n",
              "    .dataframe tbody tr th {\n",
              "        vertical-align: top;\n",
              "    }\n",
              "\n",
              "    .dataframe thead th {\n",
              "        text-align: right;\n",
              "    }\n",
              "</style>\n",
              "<table border=\"1\" class=\"dataframe\">\n",
              "  <thead>\n",
              "    <tr style=\"text-align: right;\">\n",
              "      <th></th>\n",
              "      <th>children</th>\n",
              "      <th>days_employed</th>\n",
              "      <th>dob_years</th>\n",
              "      <th>education</th>\n",
              "      <th>education_id</th>\n",
              "      <th>family_status</th>\n",
              "      <th>family_status_id</th>\n",
              "      <th>gender</th>\n",
              "      <th>income_type</th>\n",
              "      <th>debt</th>\n",
              "      <th>total_income</th>\n",
              "      <th>purpose</th>\n",
              "    </tr>\n",
              "  </thead>\n",
              "  <tbody>\n",
              "    <tr>\n",
              "      <th>0</th>\n",
              "      <td>1</td>\n",
              "      <td>-8437.673028</td>\n",
              "      <td>42</td>\n",
              "      <td>высшее</td>\n",
              "      <td>0</td>\n",
              "      <td>женат / замужем</td>\n",
              "      <td>0</td>\n",
              "      <td>F</td>\n",
              "      <td>сотрудник</td>\n",
              "      <td>0</td>\n",
              "      <td>253875.639453</td>\n",
              "      <td>покупка жилья</td>\n",
              "    </tr>\n",
              "    <tr>\n",
              "      <th>1</th>\n",
              "      <td>1</td>\n",
              "      <td>-4024.803754</td>\n",
              "      <td>36</td>\n",
              "      <td>среднее</td>\n",
              "      <td>1</td>\n",
              "      <td>женат / замужем</td>\n",
              "      <td>0</td>\n",
              "      <td>F</td>\n",
              "      <td>сотрудник</td>\n",
              "      <td>0</td>\n",
              "      <td>112080.014102</td>\n",
              "      <td>приобретение автомобиля</td>\n",
              "    </tr>\n",
              "    <tr>\n",
              "      <th>2</th>\n",
              "      <td>0</td>\n",
              "      <td>-5623.422610</td>\n",
              "      <td>33</td>\n",
              "      <td>Среднее</td>\n",
              "      <td>1</td>\n",
              "      <td>женат / замужем</td>\n",
              "      <td>0</td>\n",
              "      <td>M</td>\n",
              "      <td>сотрудник</td>\n",
              "      <td>0</td>\n",
              "      <td>145885.952297</td>\n",
              "      <td>покупка жилья</td>\n",
              "    </tr>\n",
              "    <tr>\n",
              "      <th>3</th>\n",
              "      <td>3</td>\n",
              "      <td>-4124.747207</td>\n",
              "      <td>32</td>\n",
              "      <td>среднее</td>\n",
              "      <td>1</td>\n",
              "      <td>женат / замужем</td>\n",
              "      <td>0</td>\n",
              "      <td>M</td>\n",
              "      <td>сотрудник</td>\n",
              "      <td>0</td>\n",
              "      <td>267628.550329</td>\n",
              "      <td>дополнительное образование</td>\n",
              "    </tr>\n",
              "    <tr>\n",
              "      <th>4</th>\n",
              "      <td>0</td>\n",
              "      <td>340266.072047</td>\n",
              "      <td>53</td>\n",
              "      <td>среднее</td>\n",
              "      <td>1</td>\n",
              "      <td>гражданский брак</td>\n",
              "      <td>1</td>\n",
              "      <td>F</td>\n",
              "      <td>пенсионер</td>\n",
              "      <td>0</td>\n",
              "      <td>158616.077870</td>\n",
              "      <td>сыграть свадьбу</td>\n",
              "    </tr>\n",
              "  </tbody>\n",
              "</table>\n",
              "</div>"
            ],
            "text/plain": [
              "   children  days_employed  dob_years education  education_id  \\\n",
              "0         1   -8437.673028         42    высшее             0   \n",
              "1         1   -4024.803754         36   среднее             1   \n",
              "2         0   -5623.422610         33   Среднее             1   \n",
              "3         3   -4124.747207         32   среднее             1   \n",
              "4         0  340266.072047         53   среднее             1   \n",
              "\n",
              "      family_status  family_status_id gender income_type  debt   total_income  \\\n",
              "0   женат / замужем                 0      F   сотрудник     0  253875.639453   \n",
              "1   женат / замужем                 0      F   сотрудник     0  112080.014102   \n",
              "2   женат / замужем                 0      M   сотрудник     0  145885.952297   \n",
              "3   женат / замужем                 0      M   сотрудник     0  267628.550329   \n",
              "4  гражданский брак                 1      F   пенсионер     0  158616.077870   \n",
              "\n",
              "                      purpose  \n",
              "0               покупка жилья  \n",
              "1     приобретение автомобиля  \n",
              "2               покупка жилья  \n",
              "3  дополнительное образование  \n",
              "4             сыграть свадьбу  "
            ]
          },
          "execution_count": 4,
          "metadata": {},
          "output_type": "execute_result"
        }
      ],
      "source": [
        "# получение первых 10 строк таблицы df\n",
        "df.head(5)"
      ]
    },
    {
      "cell_type": "code",
      "execution_count": null,
      "id": "3fe16b82",
      "metadata": {
        "id": "3fe16b82",
        "outputId": "f296a896-5e73-44eb-fdab-cd62bfcb1624"
      },
      "outputs": [
        {
          "name": "stdout",
          "output_type": "stream",
          "text": [
            "<class 'pandas.core.frame.DataFrame'>\n",
            "RangeIndex: 21525 entries, 0 to 21524\n",
            "Data columns (total 12 columns):\n",
            " #   Column            Non-Null Count  Dtype  \n",
            "---  ------            --------------  -----  \n",
            " 0   children          21525 non-null  int64  \n",
            " 1   days_employed     19351 non-null  float64\n",
            " 2   dob_years         21525 non-null  int64  \n",
            " 3   education         21525 non-null  object \n",
            " 4   education_id      21525 non-null  int64  \n",
            " 5   family_status     21525 non-null  object \n",
            " 6   family_status_id  21525 non-null  int64  \n",
            " 7   gender            21525 non-null  object \n",
            " 8   income_type       21525 non-null  object \n",
            " 9   debt              21525 non-null  int64  \n",
            " 10  total_income      19351 non-null  float64\n",
            " 11  purpose           21525 non-null  object \n",
            "dtypes: float64(2), int64(5), object(5)\n",
            "memory usage: 2.0+ MB\n"
          ]
        }
      ],
      "source": [
        "# просмотр типа данных в датафрейме\n",
        "df.info()"
      ]
    },
    {
      "cell_type": "markdown",
      "id": "a124499b",
      "metadata": {
        "id": "a124499b"
      },
      "source": [
        "В таблице 11 столбцов. Согласно документации к данным:\n",
        "\n",
        "- `children` — количество детей в семье\n",
        "- `days_employed` — общий трудовой стаж в днях\n",
        "- `dob_years` — возраст клиента в годах\n",
        "- `education` — уровень образования клиента\n",
        "- `education_id` — идентификатор уровня образования\n",
        "- `family_status` — семейное положение\n",
        "- `family_status_id` — идентификатор семейного положения\n",
        "- `gender` — пол клиента\n",
        "- `income_type` — тип занятости\n",
        "- `debt` — имел ли задолженность по возврату кредитов\n",
        "- `total_income` — ежемесячный доход\n",
        "- `purpose` — цель получения кредита\n"
      ]
    },
    {
      "cell_type": "markdown",
      "id": "925e11f6",
      "metadata": {
        "id": "925e11f6"
      },
      "source": [
        "### Шаг 2.1 Заполнение пропусков"
      ]
    },
    {
      "cell_type": "code",
      "execution_count": null,
      "id": "526f0330",
      "metadata": {
        "id": "526f0330",
        "outputId": "0c8a3b62-c42d-4a1b-bda5-b8ac0954514d"
      },
      "outputs": [
        {
          "data": {
            "text/plain": [
              "children             0.0\n",
              "days_employed       10.1\n",
              "dob_years            0.0\n",
              "education            0.0\n",
              "education_id         0.0\n",
              "family_status        0.0\n",
              "family_status_id     0.0\n",
              "gender               0.0\n",
              "income_type          0.0\n",
              "debt                 0.0\n",
              "total_income        10.1\n",
              "purpose              0.0\n",
              "dtype: float64"
            ]
          },
          "execution_count": 6,
          "metadata": {},
          "output_type": "execute_result"
        }
      ],
      "source": [
        "# подсчёт пропусков\n",
        "round((df.isna().sum()) * 100 / len(df), 2)"
      ]
    },
    {
      "cell_type": "code",
      "execution_count": null,
      "id": "c83ddc0f",
      "metadata": {
        "id": "c83ddc0f",
        "outputId": "72e78e82-22e7-4f54-e6ff-3dcdc4da6abc"
      },
      "outputs": [
        {
          "data": {
            "text/plain": [
              "children            0.000000\n",
              "days_employed       0.100999\n",
              "dob_years           0.000000\n",
              "education           0.000000\n",
              "education_id        0.000000\n",
              "family_status       0.000000\n",
              "family_status_id    0.000000\n",
              "gender              0.000000\n",
              "income_type         0.000000\n",
              "debt                0.000000\n",
              "total_income        0.100999\n",
              "purpose             0.000000\n",
              "dtype: float64"
            ]
          },
          "execution_count": 7,
          "metadata": {},
          "output_type": "execute_result"
        }
      ],
      "source": [
        "df.isna().mean()"
      ]
    },
    {
      "cell_type": "markdown",
      "id": "69b56917",
      "metadata": {
        "id": "69b56917"
      },
      "source": [
        "Пропуски обнаружились в двух столбцах - общем трудовом стаже в днях (`days_employed`) и ежемесячном доходе (`total_income`). Пропуски по второму могут повлиять на анализ зависимости между уровнем дохода и возвратом кредита в срок. Их доля составляет 10%.\n",
        "\n",
        "Пропущенные значения могли появиться по разным причинам. Например, из-за нежелания указывать данные в столбце `days_employed` именно в днях, а в столбце `total_income` - данные о доходах в принципе. Заполняющий мог просто упустить и не обратить внимание на колонки, возможно, их заполнение было необязательным условием. Также ошибки могли возникнуть при подготовке данных для аналитики и выгрузке из баз."
      ]
    },
    {
      "cell_type": "markdown",
      "id": "7190692c",
      "metadata": {
        "id": "7190692c"
      },
      "source": [
        "### Шаг 2.2 Проверка данных на аномалии и исправления."
      ]
    },
    {
      "cell_type": "markdown",
      "id": "5dc6d07e",
      "metadata": {
        "id": "5dc6d07e"
      },
      "source": [
        "В данных могут встречаться аномалии, которые стоит учесть при анализе. Попробуем оценить их наличие сначала для столбца `days_employed`."
      ]
    },
    {
      "cell_type": "code",
      "execution_count": null,
      "id": "c5fea474",
      "metadata": {
        "id": "c5fea474",
        "outputId": "c95e777c-3516-40f0-f196-9c380fb74f38"
      },
      "outputs": [
        {
          "data": {
            "text/html": [
              "<div>\n",
              "<style scoped>\n",
              "    .dataframe tbody tr th:only-of-type {\n",
              "        vertical-align: middle;\n",
              "    }\n",
              "\n",
              "    .dataframe tbody tr th {\n",
              "        vertical-align: top;\n",
              "    }\n",
              "\n",
              "    .dataframe thead th {\n",
              "        text-align: right;\n",
              "    }\n",
              "</style>\n",
              "<table border=\"1\" class=\"dataframe\">\n",
              "  <thead>\n",
              "    <tr style=\"text-align: right;\">\n",
              "      <th></th>\n",
              "      <th>children</th>\n",
              "      <th>days_employed</th>\n",
              "      <th>dob_years</th>\n",
              "      <th>education_id</th>\n",
              "      <th>family_status_id</th>\n",
              "      <th>debt</th>\n",
              "      <th>total_income</th>\n",
              "    </tr>\n",
              "  </thead>\n",
              "  <tbody>\n",
              "    <tr>\n",
              "      <th>count</th>\n",
              "      <td>21525.000000</td>\n",
              "      <td>19351.000000</td>\n",
              "      <td>21525.000000</td>\n",
              "      <td>21525.000000</td>\n",
              "      <td>21525.000000</td>\n",
              "      <td>21525.000000</td>\n",
              "      <td>1.935100e+04</td>\n",
              "    </tr>\n",
              "    <tr>\n",
              "      <th>mean</th>\n",
              "      <td>0.538908</td>\n",
              "      <td>63046.497661</td>\n",
              "      <td>43.293380</td>\n",
              "      <td>0.817236</td>\n",
              "      <td>0.972544</td>\n",
              "      <td>0.080883</td>\n",
              "      <td>1.674223e+05</td>\n",
              "    </tr>\n",
              "    <tr>\n",
              "      <th>std</th>\n",
              "      <td>1.381587</td>\n",
              "      <td>140827.311974</td>\n",
              "      <td>12.574584</td>\n",
              "      <td>0.548138</td>\n",
              "      <td>1.420324</td>\n",
              "      <td>0.272661</td>\n",
              "      <td>1.029716e+05</td>\n",
              "    </tr>\n",
              "    <tr>\n",
              "      <th>min</th>\n",
              "      <td>-1.000000</td>\n",
              "      <td>-18388.949901</td>\n",
              "      <td>0.000000</td>\n",
              "      <td>0.000000</td>\n",
              "      <td>0.000000</td>\n",
              "      <td>0.000000</td>\n",
              "      <td>2.066726e+04</td>\n",
              "    </tr>\n",
              "    <tr>\n",
              "      <th>25%</th>\n",
              "      <td>0.000000</td>\n",
              "      <td>-2747.423625</td>\n",
              "      <td>33.000000</td>\n",
              "      <td>1.000000</td>\n",
              "      <td>0.000000</td>\n",
              "      <td>0.000000</td>\n",
              "      <td>1.030532e+05</td>\n",
              "    </tr>\n",
              "    <tr>\n",
              "      <th>50%</th>\n",
              "      <td>0.000000</td>\n",
              "      <td>-1203.369529</td>\n",
              "      <td>42.000000</td>\n",
              "      <td>1.000000</td>\n",
              "      <td>0.000000</td>\n",
              "      <td>0.000000</td>\n",
              "      <td>1.450179e+05</td>\n",
              "    </tr>\n",
              "    <tr>\n",
              "      <th>75%</th>\n",
              "      <td>1.000000</td>\n",
              "      <td>-291.095954</td>\n",
              "      <td>53.000000</td>\n",
              "      <td>1.000000</td>\n",
              "      <td>1.000000</td>\n",
              "      <td>0.000000</td>\n",
              "      <td>2.034351e+05</td>\n",
              "    </tr>\n",
              "    <tr>\n",
              "      <th>max</th>\n",
              "      <td>20.000000</td>\n",
              "      <td>401755.400475</td>\n",
              "      <td>75.000000</td>\n",
              "      <td>4.000000</td>\n",
              "      <td>4.000000</td>\n",
              "      <td>1.000000</td>\n",
              "      <td>2.265604e+06</td>\n",
              "    </tr>\n",
              "  </tbody>\n",
              "</table>\n",
              "</div>"
            ],
            "text/plain": [
              "           children  days_employed     dob_years  education_id  \\\n",
              "count  21525.000000   19351.000000  21525.000000  21525.000000   \n",
              "mean       0.538908   63046.497661     43.293380      0.817236   \n",
              "std        1.381587  140827.311974     12.574584      0.548138   \n",
              "min       -1.000000  -18388.949901      0.000000      0.000000   \n",
              "25%        0.000000   -2747.423625     33.000000      1.000000   \n",
              "50%        0.000000   -1203.369529     42.000000      1.000000   \n",
              "75%        1.000000    -291.095954     53.000000      1.000000   \n",
              "max       20.000000  401755.400475     75.000000      4.000000   \n",
              "\n",
              "       family_status_id          debt  total_income  \n",
              "count      21525.000000  21525.000000  1.935100e+04  \n",
              "mean           0.972544      0.080883  1.674223e+05  \n",
              "std            1.420324      0.272661  1.029716e+05  \n",
              "min            0.000000      0.000000  2.066726e+04  \n",
              "25%            0.000000      0.000000  1.030532e+05  \n",
              "50%            0.000000      0.000000  1.450179e+05  \n",
              "75%            1.000000      0.000000  2.034351e+05  \n",
              "max            4.000000      1.000000  2.265604e+06  "
            ]
          },
          "execution_count": 8,
          "metadata": {},
          "output_type": "execute_result"
        }
      ],
      "source": [
        "df.describe()"
      ]
    },
    {
      "cell_type": "markdown",
      "id": "b81eb54d",
      "metadata": {
        "id": "b81eb54d"
      },
      "source": [
        "Среди данных большое количество отрицательных значений в столбце `days_employed`. К тому же для дней - слишком большие цифры, возможно, данные представлены в другом измерении, например, в часах или минутах. В столбце `total_income` в целом значения огромные."
      ]
    },
    {
      "cell_type": "markdown",
      "id": "49790985",
      "metadata": {
        "id": "49790985"
      },
      "source": [
        "Сначала попробуем сделать из отрицательных чисел положительные."
      ]
    },
    {
      "cell_type": "code",
      "execution_count": null,
      "id": "c4f873a5",
      "metadata": {
        "id": "c4f873a5"
      },
      "outputs": [],
      "source": [
        "df.loc[df['days_employed'] < 0, 'days_employed'] = df['days_employed'].abs()"
      ]
    },
    {
      "cell_type": "markdown",
      "id": "dff82cb5",
      "metadata": {
        "id": "dff82cb5"
      },
      "source": [
        "Как видим, отрицательных значений больше не осталось."
      ]
    },
    {
      "cell_type": "code",
      "execution_count": null,
      "id": "7b5082cb",
      "metadata": {
        "id": "7b5082cb",
        "outputId": "7180622f-fcb7-42ce-b14f-2802a755958e"
      },
      "outputs": [
        {
          "data": {
            "text/html": [
              "<div>\n",
              "<style scoped>\n",
              "    .dataframe tbody tr th:only-of-type {\n",
              "        vertical-align: middle;\n",
              "    }\n",
              "\n",
              "    .dataframe tbody tr th {\n",
              "        vertical-align: top;\n",
              "    }\n",
              "\n",
              "    .dataframe thead th {\n",
              "        text-align: right;\n",
              "    }\n",
              "</style>\n",
              "<table border=\"1\" class=\"dataframe\">\n",
              "  <thead>\n",
              "    <tr style=\"text-align: right;\">\n",
              "      <th></th>\n",
              "      <th>children</th>\n",
              "      <th>days_employed</th>\n",
              "      <th>dob_years</th>\n",
              "      <th>education_id</th>\n",
              "      <th>family_status_id</th>\n",
              "      <th>debt</th>\n",
              "      <th>total_income</th>\n",
              "    </tr>\n",
              "  </thead>\n",
              "  <tbody>\n",
              "    <tr>\n",
              "      <th>count</th>\n",
              "      <td>21525.000000</td>\n",
              "      <td>19351.000000</td>\n",
              "      <td>21525.000000</td>\n",
              "      <td>21525.000000</td>\n",
              "      <td>21525.000000</td>\n",
              "      <td>21525.000000</td>\n",
              "      <td>1.935100e+04</td>\n",
              "    </tr>\n",
              "    <tr>\n",
              "      <th>mean</th>\n",
              "      <td>0.538908</td>\n",
              "      <td>66914.728907</td>\n",
              "      <td>43.293380</td>\n",
              "      <td>0.817236</td>\n",
              "      <td>0.972544</td>\n",
              "      <td>0.080883</td>\n",
              "      <td>1.674223e+05</td>\n",
              "    </tr>\n",
              "    <tr>\n",
              "      <th>std</th>\n",
              "      <td>1.381587</td>\n",
              "      <td>139030.880527</td>\n",
              "      <td>12.574584</td>\n",
              "      <td>0.548138</td>\n",
              "      <td>1.420324</td>\n",
              "      <td>0.272661</td>\n",
              "      <td>1.029716e+05</td>\n",
              "    </tr>\n",
              "    <tr>\n",
              "      <th>min</th>\n",
              "      <td>-1.000000</td>\n",
              "      <td>24.141633</td>\n",
              "      <td>0.000000</td>\n",
              "      <td>0.000000</td>\n",
              "      <td>0.000000</td>\n",
              "      <td>0.000000</td>\n",
              "      <td>2.066726e+04</td>\n",
              "    </tr>\n",
              "    <tr>\n",
              "      <th>25%</th>\n",
              "      <td>0.000000</td>\n",
              "      <td>927.009265</td>\n",
              "      <td>33.000000</td>\n",
              "      <td>1.000000</td>\n",
              "      <td>0.000000</td>\n",
              "      <td>0.000000</td>\n",
              "      <td>1.030532e+05</td>\n",
              "    </tr>\n",
              "    <tr>\n",
              "      <th>50%</th>\n",
              "      <td>0.000000</td>\n",
              "      <td>2194.220567</td>\n",
              "      <td>42.000000</td>\n",
              "      <td>1.000000</td>\n",
              "      <td>0.000000</td>\n",
              "      <td>0.000000</td>\n",
              "      <td>1.450179e+05</td>\n",
              "    </tr>\n",
              "    <tr>\n",
              "      <th>75%</th>\n",
              "      <td>1.000000</td>\n",
              "      <td>5537.882441</td>\n",
              "      <td>53.000000</td>\n",
              "      <td>1.000000</td>\n",
              "      <td>1.000000</td>\n",
              "      <td>0.000000</td>\n",
              "      <td>2.034351e+05</td>\n",
              "    </tr>\n",
              "    <tr>\n",
              "      <th>max</th>\n",
              "      <td>20.000000</td>\n",
              "      <td>401755.400475</td>\n",
              "      <td>75.000000</td>\n",
              "      <td>4.000000</td>\n",
              "      <td>4.000000</td>\n",
              "      <td>1.000000</td>\n",
              "      <td>2.265604e+06</td>\n",
              "    </tr>\n",
              "  </tbody>\n",
              "</table>\n",
              "</div>"
            ],
            "text/plain": [
              "           children  days_employed     dob_years  education_id  \\\n",
              "count  21525.000000   19351.000000  21525.000000  21525.000000   \n",
              "mean       0.538908   66914.728907     43.293380      0.817236   \n",
              "std        1.381587  139030.880527     12.574584      0.548138   \n",
              "min       -1.000000      24.141633      0.000000      0.000000   \n",
              "25%        0.000000     927.009265     33.000000      1.000000   \n",
              "50%        0.000000    2194.220567     42.000000      1.000000   \n",
              "75%        1.000000    5537.882441     53.000000      1.000000   \n",
              "max       20.000000  401755.400475     75.000000      4.000000   \n",
              "\n",
              "       family_status_id          debt  total_income  \n",
              "count      21525.000000  21525.000000  1.935100e+04  \n",
              "mean           0.972544      0.080883  1.674223e+05  \n",
              "std            1.420324      0.272661  1.029716e+05  \n",
              "min            0.000000      0.000000  2.066726e+04  \n",
              "25%            0.000000      0.000000  1.030532e+05  \n",
              "50%            0.000000      0.000000  1.450179e+05  \n",
              "75%            1.000000      0.000000  2.034351e+05  \n",
              "max            4.000000      1.000000  2.265604e+06  "
            ]
          },
          "execution_count": 10,
          "metadata": {},
          "output_type": "execute_result"
        }
      ],
      "source": [
        "df.describe()"
      ]
    },
    {
      "cell_type": "markdown",
      "id": "46a25c38",
      "metadata": {
        "id": "46a25c38"
      },
      "source": [
        "С огромными числами в столбце `days_employed` нужно что-то сделать. Вероятно, это все же данные, указанные в часах. Посмотрим на примере нескольких чисел из столбца. Разделим на 24, чтобы узнать, сколько дней составил трудовой стаж и на 365, чтобы узнать показатель в годах."
      ]
    },
    {
      "cell_type": "code",
      "execution_count": null,
      "id": "0fd3eced",
      "metadata": {
        "id": "0fd3eced",
        "outputId": "8a47d1b1-ac9a-4b18-f5ef-4c3277f7125c"
      },
      "outputs": [
        {
          "data": {
            "text/plain": [
              "2.2090182648401826"
            ]
          },
          "execution_count": 11,
          "metadata": {},
          "output_type": "execute_result"
        }
      ],
      "source": [
        "(19351.000000/24)/365"
      ]
    },
    {
      "cell_type": "code",
      "execution_count": null,
      "id": "deb8fc38",
      "metadata": {
        "id": "deb8fc38",
        "outputId": "09504b9d-9a9e-4a8e-db78-9443fd0bdd32"
      },
      "outputs": [
        {
          "data": {
            "text/plain": [
              "45.86248863869862"
            ]
          },
          "execution_count": 12,
          "metadata": {},
          "output_type": "execute_result"
        }
      ],
      "source": [
        "(401755.400475/24)/365"
      ]
    },
    {
      "cell_type": "code",
      "execution_count": null,
      "id": "27afee0e",
      "metadata": {
        "id": "27afee0e",
        "outputId": "b1d3514b-a3e3-46fe-9344-d7eceda34c06"
      },
      "outputs": [
        {
          "data": {
            "text/plain": [
              "0.0027558941780821914"
            ]
          },
          "execution_count": 13,
          "metadata": {},
          "output_type": "execute_result"
        }
      ],
      "source": [
        "(24.141633/24)/365"
      ]
    },
    {
      "cell_type": "markdown",
      "id": "c8e3848f",
      "metadata": {
        "id": "c8e3848f"
      },
      "source": [
        "Получилось примерно 2 года, 45 лет и менее года трудового стажа. Теперь попробуем все числа перевести в дни, исходя из гипотезы, что сейчас в данных ошибка, и они указаны в часах. "
      ]
    },
    {
      "cell_type": "code",
      "execution_count": null,
      "id": "46d7f94d",
      "metadata": {
        "id": "46d7f94d"
      },
      "outputs": [],
      "source": [
        "df['days_employed'] = df['days_employed']/24"
      ]
    },
    {
      "cell_type": "code",
      "execution_count": null,
      "id": "56ad3e74",
      "metadata": {
        "id": "56ad3e74",
        "outputId": "068881fa-38e0-4dfa-b1d1-1dbcae40fa78"
      },
      "outputs": [
        {
          "data": {
            "text/html": [
              "<div>\n",
              "<style scoped>\n",
              "    .dataframe tbody tr th:only-of-type {\n",
              "        vertical-align: middle;\n",
              "    }\n",
              "\n",
              "    .dataframe tbody tr th {\n",
              "        vertical-align: top;\n",
              "    }\n",
              "\n",
              "    .dataframe thead th {\n",
              "        text-align: right;\n",
              "    }\n",
              "</style>\n",
              "<table border=\"1\" class=\"dataframe\">\n",
              "  <thead>\n",
              "    <tr style=\"text-align: right;\">\n",
              "      <th></th>\n",
              "      <th>children</th>\n",
              "      <th>days_employed</th>\n",
              "      <th>dob_years</th>\n",
              "      <th>education</th>\n",
              "      <th>education_id</th>\n",
              "      <th>family_status</th>\n",
              "      <th>family_status_id</th>\n",
              "      <th>gender</th>\n",
              "      <th>income_type</th>\n",
              "      <th>debt</th>\n",
              "      <th>total_income</th>\n",
              "      <th>purpose</th>\n",
              "    </tr>\n",
              "  </thead>\n",
              "  <tbody>\n",
              "    <tr>\n",
              "      <th>0</th>\n",
              "      <td>1</td>\n",
              "      <td>351.569709</td>\n",
              "      <td>42</td>\n",
              "      <td>высшее</td>\n",
              "      <td>0</td>\n",
              "      <td>женат / замужем</td>\n",
              "      <td>0</td>\n",
              "      <td>F</td>\n",
              "      <td>сотрудник</td>\n",
              "      <td>0</td>\n",
              "      <td>253875.639453</td>\n",
              "      <td>покупка жилья</td>\n",
              "    </tr>\n",
              "    <tr>\n",
              "      <th>1</th>\n",
              "      <td>1</td>\n",
              "      <td>167.700156</td>\n",
              "      <td>36</td>\n",
              "      <td>среднее</td>\n",
              "      <td>1</td>\n",
              "      <td>женат / замужем</td>\n",
              "      <td>0</td>\n",
              "      <td>F</td>\n",
              "      <td>сотрудник</td>\n",
              "      <td>0</td>\n",
              "      <td>112080.014102</td>\n",
              "      <td>приобретение автомобиля</td>\n",
              "    </tr>\n",
              "    <tr>\n",
              "      <th>2</th>\n",
              "      <td>0</td>\n",
              "      <td>234.309275</td>\n",
              "      <td>33</td>\n",
              "      <td>Среднее</td>\n",
              "      <td>1</td>\n",
              "      <td>женат / замужем</td>\n",
              "      <td>0</td>\n",
              "      <td>M</td>\n",
              "      <td>сотрудник</td>\n",
              "      <td>0</td>\n",
              "      <td>145885.952297</td>\n",
              "      <td>покупка жилья</td>\n",
              "    </tr>\n",
              "    <tr>\n",
              "      <th>3</th>\n",
              "      <td>3</td>\n",
              "      <td>171.864467</td>\n",
              "      <td>32</td>\n",
              "      <td>среднее</td>\n",
              "      <td>1</td>\n",
              "      <td>женат / замужем</td>\n",
              "      <td>0</td>\n",
              "      <td>M</td>\n",
              "      <td>сотрудник</td>\n",
              "      <td>0</td>\n",
              "      <td>267628.550329</td>\n",
              "      <td>дополнительное образование</td>\n",
              "    </tr>\n",
              "    <tr>\n",
              "      <th>4</th>\n",
              "      <td>0</td>\n",
              "      <td>14177.753002</td>\n",
              "      <td>53</td>\n",
              "      <td>среднее</td>\n",
              "      <td>1</td>\n",
              "      <td>гражданский брак</td>\n",
              "      <td>1</td>\n",
              "      <td>F</td>\n",
              "      <td>пенсионер</td>\n",
              "      <td>0</td>\n",
              "      <td>158616.077870</td>\n",
              "      <td>сыграть свадьбу</td>\n",
              "    </tr>\n",
              "  </tbody>\n",
              "</table>\n",
              "</div>"
            ],
            "text/plain": [
              "   children  days_employed  dob_years education  education_id  \\\n",
              "0         1     351.569709         42    высшее             0   \n",
              "1         1     167.700156         36   среднее             1   \n",
              "2         0     234.309275         33   Среднее             1   \n",
              "3         3     171.864467         32   среднее             1   \n",
              "4         0   14177.753002         53   среднее             1   \n",
              "\n",
              "      family_status  family_status_id gender income_type  debt   total_income  \\\n",
              "0   женат / замужем                 0      F   сотрудник     0  253875.639453   \n",
              "1   женат / замужем                 0      F   сотрудник     0  112080.014102   \n",
              "2   женат / замужем                 0      M   сотрудник     0  145885.952297   \n",
              "3   женат / замужем                 0      M   сотрудник     0  267628.550329   \n",
              "4  гражданский брак                 1      F   пенсионер     0  158616.077870   \n",
              "\n",
              "                      purpose  \n",
              "0               покупка жилья  \n",
              "1     приобретение автомобиля  \n",
              "2               покупка жилья  \n",
              "3  дополнительное образование  \n",
              "4             сыграть свадьбу  "
            ]
          },
          "execution_count": 15,
          "metadata": {},
          "output_type": "execute_result"
        }
      ],
      "source": [
        "df.head()"
      ]
    },
    {
      "cell_type": "markdown",
      "id": "cab223ad",
      "metadata": {
        "id": "cab223ad"
      },
      "source": [
        "Итак, в столбце `days_employed` мы получили данные трудового стажа в днях. Учитывая то, что это количественные переменные, а данных, чтобы заполнить пропуски точными значениями, у нас нет, используем медиану. Она устойчива к выбросам, особенно, когда некоторые значения сильно выделяются среди большинства."
      ]
    },
    {
      "cell_type": "code",
      "execution_count": null,
      "id": "aaca7fb6",
      "metadata": {
        "id": "aaca7fb6"
      },
      "outputs": [],
      "source": [
        "#расчет медианы\n",
        "age_avg = df['days_employed'].median()\n",
        "\n",
        "#заполнение пропусков медианой\n",
        "df['days_employed'] = df['days_employed'].fillna(age_avg)"
      ]
    },
    {
      "cell_type": "code",
      "execution_count": null,
      "id": "00804d7f",
      "metadata": {
        "id": "00804d7f",
        "outputId": "65f4ebca-e2c0-4251-f4d1-4a768020fa5e"
      },
      "outputs": [
        {
          "data": {
            "text/html": [
              "<div>\n",
              "<style scoped>\n",
              "    .dataframe tbody tr th:only-of-type {\n",
              "        vertical-align: middle;\n",
              "    }\n",
              "\n",
              "    .dataframe tbody tr th {\n",
              "        vertical-align: top;\n",
              "    }\n",
              "\n",
              "    .dataframe thead th {\n",
              "        text-align: right;\n",
              "    }\n",
              "</style>\n",
              "<table border=\"1\" class=\"dataframe\">\n",
              "  <thead>\n",
              "    <tr style=\"text-align: right;\">\n",
              "      <th></th>\n",
              "      <th>children</th>\n",
              "      <th>days_employed</th>\n",
              "      <th>dob_years</th>\n",
              "      <th>education</th>\n",
              "      <th>education_id</th>\n",
              "      <th>family_status</th>\n",
              "      <th>family_status_id</th>\n",
              "      <th>gender</th>\n",
              "      <th>income_type</th>\n",
              "      <th>debt</th>\n",
              "      <th>total_income</th>\n",
              "      <th>purpose</th>\n",
              "    </tr>\n",
              "  </thead>\n",
              "  <tbody>\n",
              "    <tr>\n",
              "      <th>0</th>\n",
              "      <td>1</td>\n",
              "      <td>351.569709</td>\n",
              "      <td>42</td>\n",
              "      <td>высшее</td>\n",
              "      <td>0</td>\n",
              "      <td>женат / замужем</td>\n",
              "      <td>0</td>\n",
              "      <td>F</td>\n",
              "      <td>сотрудник</td>\n",
              "      <td>0</td>\n",
              "      <td>253875.639453</td>\n",
              "      <td>покупка жилья</td>\n",
              "    </tr>\n",
              "    <tr>\n",
              "      <th>1</th>\n",
              "      <td>1</td>\n",
              "      <td>167.700156</td>\n",
              "      <td>36</td>\n",
              "      <td>среднее</td>\n",
              "      <td>1</td>\n",
              "      <td>женат / замужем</td>\n",
              "      <td>0</td>\n",
              "      <td>F</td>\n",
              "      <td>сотрудник</td>\n",
              "      <td>0</td>\n",
              "      <td>112080.014102</td>\n",
              "      <td>приобретение автомобиля</td>\n",
              "    </tr>\n",
              "    <tr>\n",
              "      <th>2</th>\n",
              "      <td>0</td>\n",
              "      <td>234.309275</td>\n",
              "      <td>33</td>\n",
              "      <td>Среднее</td>\n",
              "      <td>1</td>\n",
              "      <td>женат / замужем</td>\n",
              "      <td>0</td>\n",
              "      <td>M</td>\n",
              "      <td>сотрудник</td>\n",
              "      <td>0</td>\n",
              "      <td>145885.952297</td>\n",
              "      <td>покупка жилья</td>\n",
              "    </tr>\n",
              "    <tr>\n",
              "      <th>3</th>\n",
              "      <td>3</td>\n",
              "      <td>171.864467</td>\n",
              "      <td>32</td>\n",
              "      <td>среднее</td>\n",
              "      <td>1</td>\n",
              "      <td>женат / замужем</td>\n",
              "      <td>0</td>\n",
              "      <td>M</td>\n",
              "      <td>сотрудник</td>\n",
              "      <td>0</td>\n",
              "      <td>267628.550329</td>\n",
              "      <td>дополнительное образование</td>\n",
              "    </tr>\n",
              "    <tr>\n",
              "      <th>4</th>\n",
              "      <td>0</td>\n",
              "      <td>14177.753002</td>\n",
              "      <td>53</td>\n",
              "      <td>среднее</td>\n",
              "      <td>1</td>\n",
              "      <td>гражданский брак</td>\n",
              "      <td>1</td>\n",
              "      <td>F</td>\n",
              "      <td>пенсионер</td>\n",
              "      <td>0</td>\n",
              "      <td>158616.077870</td>\n",
              "      <td>сыграть свадьбу</td>\n",
              "    </tr>\n",
              "    <tr>\n",
              "      <th>5</th>\n",
              "      <td>0</td>\n",
              "      <td>38.591076</td>\n",
              "      <td>27</td>\n",
              "      <td>высшее</td>\n",
              "      <td>0</td>\n",
              "      <td>гражданский брак</td>\n",
              "      <td>1</td>\n",
              "      <td>M</td>\n",
              "      <td>компаньон</td>\n",
              "      <td>0</td>\n",
              "      <td>255763.565419</td>\n",
              "      <td>покупка жилья</td>\n",
              "    </tr>\n",
              "    <tr>\n",
              "      <th>6</th>\n",
              "      <td>0</td>\n",
              "      <td>119.966752</td>\n",
              "      <td>43</td>\n",
              "      <td>высшее</td>\n",
              "      <td>0</td>\n",
              "      <td>женат / замужем</td>\n",
              "      <td>0</td>\n",
              "      <td>F</td>\n",
              "      <td>компаньон</td>\n",
              "      <td>0</td>\n",
              "      <td>240525.971920</td>\n",
              "      <td>операции с жильем</td>\n",
              "    </tr>\n",
              "    <tr>\n",
              "      <th>7</th>\n",
              "      <td>0</td>\n",
              "      <td>6.365815</td>\n",
              "      <td>50</td>\n",
              "      <td>СРЕДНЕЕ</td>\n",
              "      <td>1</td>\n",
              "      <td>женат / замужем</td>\n",
              "      <td>0</td>\n",
              "      <td>M</td>\n",
              "      <td>сотрудник</td>\n",
              "      <td>0</td>\n",
              "      <td>135823.934197</td>\n",
              "      <td>образование</td>\n",
              "    </tr>\n",
              "    <tr>\n",
              "      <th>8</th>\n",
              "      <td>2</td>\n",
              "      <td>288.744387</td>\n",
              "      <td>35</td>\n",
              "      <td>ВЫСШЕЕ</td>\n",
              "      <td>0</td>\n",
              "      <td>гражданский брак</td>\n",
              "      <td>1</td>\n",
              "      <td>F</td>\n",
              "      <td>сотрудник</td>\n",
              "      <td>0</td>\n",
              "      <td>95856.832424</td>\n",
              "      <td>на проведение свадьбы</td>\n",
              "    </tr>\n",
              "    <tr>\n",
              "      <th>9</th>\n",
              "      <td>0</td>\n",
              "      <td>91.198185</td>\n",
              "      <td>41</td>\n",
              "      <td>среднее</td>\n",
              "      <td>1</td>\n",
              "      <td>женат / замужем</td>\n",
              "      <td>0</td>\n",
              "      <td>M</td>\n",
              "      <td>сотрудник</td>\n",
              "      <td>0</td>\n",
              "      <td>144425.938277</td>\n",
              "      <td>покупка жилья для семьи</td>\n",
              "    </tr>\n",
              "  </tbody>\n",
              "</table>\n",
              "</div>"
            ],
            "text/plain": [
              "   children  days_employed  dob_years education  education_id  \\\n",
              "0         1     351.569709         42    высшее             0   \n",
              "1         1     167.700156         36   среднее             1   \n",
              "2         0     234.309275         33   Среднее             1   \n",
              "3         3     171.864467         32   среднее             1   \n",
              "4         0   14177.753002         53   среднее             1   \n",
              "5         0      38.591076         27    высшее             0   \n",
              "6         0     119.966752         43    высшее             0   \n",
              "7         0       6.365815         50   СРЕДНЕЕ             1   \n",
              "8         2     288.744387         35    ВЫСШЕЕ             0   \n",
              "9         0      91.198185         41   среднее             1   \n",
              "\n",
              "      family_status  family_status_id gender income_type  debt   total_income  \\\n",
              "0   женат / замужем                 0      F   сотрудник     0  253875.639453   \n",
              "1   женат / замужем                 0      F   сотрудник     0  112080.014102   \n",
              "2   женат / замужем                 0      M   сотрудник     0  145885.952297   \n",
              "3   женат / замужем                 0      M   сотрудник     0  267628.550329   \n",
              "4  гражданский брак                 1      F   пенсионер     0  158616.077870   \n",
              "5  гражданский брак                 1      M   компаньон     0  255763.565419   \n",
              "6   женат / замужем                 0      F   компаньон     0  240525.971920   \n",
              "7   женат / замужем                 0      M   сотрудник     0  135823.934197   \n",
              "8  гражданский брак                 1      F   сотрудник     0   95856.832424   \n",
              "9   женат / замужем                 0      M   сотрудник     0  144425.938277   \n",
              "\n",
              "                      purpose  \n",
              "0               покупка жилья  \n",
              "1     приобретение автомобиля  \n",
              "2               покупка жилья  \n",
              "3  дополнительное образование  \n",
              "4             сыграть свадьбу  \n",
              "5               покупка жилья  \n",
              "6           операции с жильем  \n",
              "7                 образование  \n",
              "8       на проведение свадьбы  \n",
              "9     покупка жилья для семьи  "
            ]
          },
          "execution_count": 17,
          "metadata": {},
          "output_type": "execute_result"
        }
      ],
      "source": [
        "df.head(10)"
      ]
    },
    {
      "cell_type": "code",
      "execution_count": null,
      "id": "9004d923",
      "metadata": {
        "id": "9004d923",
        "outputId": "3cbf6d83-b8b0-4e3b-b9fd-aa5ddfc08d9d"
      },
      "outputs": [
        {
          "name": "stdout",
          "output_type": "stream",
          "text": [
            "0\n"
          ]
        }
      ],
      "source": [
        "#проверка, исчезли ли пропуски\n",
        "print(df['days_employed'].isna().sum())"
      ]
    },
    {
      "cell_type": "markdown",
      "id": "502ac896",
      "metadata": {
        "id": "502ac896"
      },
      "source": [
        "### Шаг 2.3. Изменение типов данных."
      ]
    },
    {
      "cell_type": "markdown",
      "id": "cff5278a",
      "metadata": {
        "id": "cff5278a"
      },
      "source": [
        "Пропуски в столбце `total_income` также заполним медианой."
      ]
    },
    {
      "cell_type": "code",
      "execution_count": null,
      "id": "11e733b9",
      "metadata": {
        "id": "11e733b9"
      },
      "outputs": [],
      "source": [
        "#расчет медианы\n",
        "total_income_avg = df['total_income'].median()\n",
        "\n",
        "#заполнение пропусков медианой\n",
        "df['total_income'] = df['total_income'].fillna(total_income_avg)"
      ]
    },
    {
      "cell_type": "code",
      "execution_count": null,
      "id": "44cb55c1",
      "metadata": {
        "id": "44cb55c1",
        "outputId": "7a08013c-9941-4b0b-d93d-ceeffc81c489"
      },
      "outputs": [
        {
          "data": {
            "text/html": [
              "<div>\n",
              "<style scoped>\n",
              "    .dataframe tbody tr th:only-of-type {\n",
              "        vertical-align: middle;\n",
              "    }\n",
              "\n",
              "    .dataframe tbody tr th {\n",
              "        vertical-align: top;\n",
              "    }\n",
              "\n",
              "    .dataframe thead th {\n",
              "        text-align: right;\n",
              "    }\n",
              "</style>\n",
              "<table border=\"1\" class=\"dataframe\">\n",
              "  <thead>\n",
              "    <tr style=\"text-align: right;\">\n",
              "      <th></th>\n",
              "      <th>children</th>\n",
              "      <th>days_employed</th>\n",
              "      <th>dob_years</th>\n",
              "      <th>education</th>\n",
              "      <th>education_id</th>\n",
              "      <th>family_status</th>\n",
              "      <th>family_status_id</th>\n",
              "      <th>gender</th>\n",
              "      <th>income_type</th>\n",
              "      <th>debt</th>\n",
              "      <th>total_income</th>\n",
              "      <th>purpose</th>\n",
              "    </tr>\n",
              "  </thead>\n",
              "  <tbody>\n",
              "    <tr>\n",
              "      <th>0</th>\n",
              "      <td>1</td>\n",
              "      <td>351.569709</td>\n",
              "      <td>42</td>\n",
              "      <td>высшее</td>\n",
              "      <td>0</td>\n",
              "      <td>женат / замужем</td>\n",
              "      <td>0</td>\n",
              "      <td>F</td>\n",
              "      <td>сотрудник</td>\n",
              "      <td>0</td>\n",
              "      <td>253875.639453</td>\n",
              "      <td>покупка жилья</td>\n",
              "    </tr>\n",
              "    <tr>\n",
              "      <th>1</th>\n",
              "      <td>1</td>\n",
              "      <td>167.700156</td>\n",
              "      <td>36</td>\n",
              "      <td>среднее</td>\n",
              "      <td>1</td>\n",
              "      <td>женат / замужем</td>\n",
              "      <td>0</td>\n",
              "      <td>F</td>\n",
              "      <td>сотрудник</td>\n",
              "      <td>0</td>\n",
              "      <td>112080.014102</td>\n",
              "      <td>приобретение автомобиля</td>\n",
              "    </tr>\n",
              "    <tr>\n",
              "      <th>2</th>\n",
              "      <td>0</td>\n",
              "      <td>234.309275</td>\n",
              "      <td>33</td>\n",
              "      <td>Среднее</td>\n",
              "      <td>1</td>\n",
              "      <td>женат / замужем</td>\n",
              "      <td>0</td>\n",
              "      <td>M</td>\n",
              "      <td>сотрудник</td>\n",
              "      <td>0</td>\n",
              "      <td>145885.952297</td>\n",
              "      <td>покупка жилья</td>\n",
              "    </tr>\n",
              "    <tr>\n",
              "      <th>3</th>\n",
              "      <td>3</td>\n",
              "      <td>171.864467</td>\n",
              "      <td>32</td>\n",
              "      <td>среднее</td>\n",
              "      <td>1</td>\n",
              "      <td>женат / замужем</td>\n",
              "      <td>0</td>\n",
              "      <td>M</td>\n",
              "      <td>сотрудник</td>\n",
              "      <td>0</td>\n",
              "      <td>267628.550329</td>\n",
              "      <td>дополнительное образование</td>\n",
              "    </tr>\n",
              "    <tr>\n",
              "      <th>4</th>\n",
              "      <td>0</td>\n",
              "      <td>14177.753002</td>\n",
              "      <td>53</td>\n",
              "      <td>среднее</td>\n",
              "      <td>1</td>\n",
              "      <td>гражданский брак</td>\n",
              "      <td>1</td>\n",
              "      <td>F</td>\n",
              "      <td>пенсионер</td>\n",
              "      <td>0</td>\n",
              "      <td>158616.077870</td>\n",
              "      <td>сыграть свадьбу</td>\n",
              "    </tr>\n",
              "  </tbody>\n",
              "</table>\n",
              "</div>"
            ],
            "text/plain": [
              "   children  days_employed  dob_years education  education_id  \\\n",
              "0         1     351.569709         42    высшее             0   \n",
              "1         1     167.700156         36   среднее             1   \n",
              "2         0     234.309275         33   Среднее             1   \n",
              "3         3     171.864467         32   среднее             1   \n",
              "4         0   14177.753002         53   среднее             1   \n",
              "\n",
              "      family_status  family_status_id gender income_type  debt   total_income  \\\n",
              "0   женат / замужем                 0      F   сотрудник     0  253875.639453   \n",
              "1   женат / замужем                 0      F   сотрудник     0  112080.014102   \n",
              "2   женат / замужем                 0      M   сотрудник     0  145885.952297   \n",
              "3   женат / замужем                 0      M   сотрудник     0  267628.550329   \n",
              "4  гражданский брак                 1      F   пенсионер     0  158616.077870   \n",
              "\n",
              "                      purpose  \n",
              "0               покупка жилья  \n",
              "1     приобретение автомобиля  \n",
              "2               покупка жилья  \n",
              "3  дополнительное образование  \n",
              "4             сыграть свадьбу  "
            ]
          },
          "execution_count": 20,
          "metadata": {},
          "output_type": "execute_result"
        }
      ],
      "source": [
        "df.head()"
      ]
    },
    {
      "cell_type": "code",
      "execution_count": null,
      "id": "2f539747",
      "metadata": {
        "id": "2f539747",
        "outputId": "cbb2bd20-0431-405f-fb5e-147edb749a1d"
      },
      "outputs": [
        {
          "data": {
            "text/html": [
              "<div>\n",
              "<style scoped>\n",
              "    .dataframe tbody tr th:only-of-type {\n",
              "        vertical-align: middle;\n",
              "    }\n",
              "\n",
              "    .dataframe tbody tr th {\n",
              "        vertical-align: top;\n",
              "    }\n",
              "\n",
              "    .dataframe thead th {\n",
              "        text-align: right;\n",
              "    }\n",
              "</style>\n",
              "<table border=\"1\" class=\"dataframe\">\n",
              "  <thead>\n",
              "    <tr style=\"text-align: right;\">\n",
              "      <th></th>\n",
              "      <th>children</th>\n",
              "      <th>days_employed</th>\n",
              "      <th>dob_years</th>\n",
              "      <th>education</th>\n",
              "      <th>education_id</th>\n",
              "      <th>family_status</th>\n",
              "      <th>family_status_id</th>\n",
              "      <th>gender</th>\n",
              "      <th>income_type</th>\n",
              "      <th>debt</th>\n",
              "      <th>total_income</th>\n",
              "      <th>purpose</th>\n",
              "    </tr>\n",
              "  </thead>\n",
              "  <tbody>\n",
              "    <tr>\n",
              "      <th>0</th>\n",
              "      <td>1</td>\n",
              "      <td>351.569709</td>\n",
              "      <td>42</td>\n",
              "      <td>высшее</td>\n",
              "      <td>0</td>\n",
              "      <td>женат / замужем</td>\n",
              "      <td>0</td>\n",
              "      <td>F</td>\n",
              "      <td>сотрудник</td>\n",
              "      <td>0</td>\n",
              "      <td>253875</td>\n",
              "      <td>покупка жилья</td>\n",
              "    </tr>\n",
              "    <tr>\n",
              "      <th>1</th>\n",
              "      <td>1</td>\n",
              "      <td>167.700156</td>\n",
              "      <td>36</td>\n",
              "      <td>среднее</td>\n",
              "      <td>1</td>\n",
              "      <td>женат / замужем</td>\n",
              "      <td>0</td>\n",
              "      <td>F</td>\n",
              "      <td>сотрудник</td>\n",
              "      <td>0</td>\n",
              "      <td>112080</td>\n",
              "      <td>приобретение автомобиля</td>\n",
              "    </tr>\n",
              "    <tr>\n",
              "      <th>2</th>\n",
              "      <td>0</td>\n",
              "      <td>234.309275</td>\n",
              "      <td>33</td>\n",
              "      <td>Среднее</td>\n",
              "      <td>1</td>\n",
              "      <td>женат / замужем</td>\n",
              "      <td>0</td>\n",
              "      <td>M</td>\n",
              "      <td>сотрудник</td>\n",
              "      <td>0</td>\n",
              "      <td>145885</td>\n",
              "      <td>покупка жилья</td>\n",
              "    </tr>\n",
              "    <tr>\n",
              "      <th>3</th>\n",
              "      <td>3</td>\n",
              "      <td>171.864467</td>\n",
              "      <td>32</td>\n",
              "      <td>среднее</td>\n",
              "      <td>1</td>\n",
              "      <td>женат / замужем</td>\n",
              "      <td>0</td>\n",
              "      <td>M</td>\n",
              "      <td>сотрудник</td>\n",
              "      <td>0</td>\n",
              "      <td>267628</td>\n",
              "      <td>дополнительное образование</td>\n",
              "    </tr>\n",
              "    <tr>\n",
              "      <th>4</th>\n",
              "      <td>0</td>\n",
              "      <td>14177.753002</td>\n",
              "      <td>53</td>\n",
              "      <td>среднее</td>\n",
              "      <td>1</td>\n",
              "      <td>гражданский брак</td>\n",
              "      <td>1</td>\n",
              "      <td>F</td>\n",
              "      <td>пенсионер</td>\n",
              "      <td>0</td>\n",
              "      <td>158616</td>\n",
              "      <td>сыграть свадьбу</td>\n",
              "    </tr>\n",
              "  </tbody>\n",
              "</table>\n",
              "</div>"
            ],
            "text/plain": [
              "   children  days_employed  dob_years education  education_id  \\\n",
              "0         1     351.569709         42    высшее             0   \n",
              "1         1     167.700156         36   среднее             1   \n",
              "2         0     234.309275         33   Среднее             1   \n",
              "3         3     171.864467         32   среднее             1   \n",
              "4         0   14177.753002         53   среднее             1   \n",
              "\n",
              "      family_status  family_status_id gender income_type  debt  total_income  \\\n",
              "0   женат / замужем                 0      F   сотрудник     0        253875   \n",
              "1   женат / замужем                 0      F   сотрудник     0        112080   \n",
              "2   женат / замужем                 0      M   сотрудник     0        145885   \n",
              "3   женат / замужем                 0      M   сотрудник     0        267628   \n",
              "4  гражданский брак                 1      F   пенсионер     0        158616   \n",
              "\n",
              "                      purpose  \n",
              "0               покупка жилья  \n",
              "1     приобретение автомобиля  \n",
              "2               покупка жилья  \n",
              "3  дополнительное образование  \n",
              "4             сыграть свадьбу  "
            ]
          },
          "execution_count": 21,
          "metadata": {},
          "output_type": "execute_result"
        }
      ],
      "source": [
        "#перевод из вещественного числа в целочисленный\n",
        "df['total_income'] = df['total_income'].astype('int')\n",
        "df.head()"
      ]
    },
    {
      "cell_type": "markdown",
      "id": "cf8aabed",
      "metadata": {
        "id": "cf8aabed"
      },
      "source": [
        "Проверим, произошла ли замена, выбрав случайную строку с данными"
      ]
    },
    {
      "cell_type": "code",
      "execution_count": null,
      "id": "34594982",
      "metadata": {
        "id": "34594982",
        "outputId": "bfa0ace7-5be4-411b-c8ce-b257e0f2b093"
      },
      "outputs": [
        {
          "name": "stdout",
          "output_type": "stream",
          "text": [
            "<class 'numpy.int64'>\n"
          ]
        }
      ],
      "source": [
        "total_income_check = df['total_income']\n",
        "\n",
        "print(type(total_income_check[567]))"
      ]
    },
    {
      "cell_type": "markdown",
      "id": "6c80bea8",
      "metadata": {
        "id": "6c80bea8"
      },
      "source": [
        "### Шаг 2.4. Удаление дубликатов."
      ]
    },
    {
      "cell_type": "markdown",
      "id": "8179de43",
      "metadata": {
        "id": "8179de43"
      },
      "source": [
        "#### Проверка дубликатов в столбцах"
      ]
    },
    {
      "cell_type": "markdown",
      "id": "89668c4f",
      "metadata": {
        "id": "89668c4f"
      },
      "source": [
        "Чтобы посмотреть количество повторов, воспользуемся методом `duplicated().sum()`. Его применение даст общее представление о количестве дубликатов. Для того, чтобы узнать, какие именно повторы и в каком регистре встречаются в датафрейме, используем метод `value_counts()`. Так, мы узнаем, какие повторы и в каком количестве встретились в столбце."
      ]
    },
    {
      "cell_type": "markdown",
      "id": "2ce22ace",
      "metadata": {
        "id": "2ce22ace"
      },
      "source": [
        "##### В столбце 'education'"
      ]
    },
    {
      "cell_type": "code",
      "execution_count": null,
      "id": "814dcfd9",
      "metadata": {
        "id": "814dcfd9",
        "outputId": "9b5ab41a-80ab-456a-b9fd-cdd75f7c9ba7"
      },
      "outputs": [
        {
          "name": "stdout",
          "output_type": "stream",
          "text": [
            "Дубликатов в столбце: 21510\n",
            "\n",
            "среднее                13750\n",
            "высшее                  4718\n",
            "СРЕДНЕЕ                  772\n",
            "Среднее                  711\n",
            "неоконченное высшее      668\n",
            "ВЫСШЕЕ                   274\n",
            "Высшее                   268\n",
            "начальное                250\n",
            "Неоконченное высшее       47\n",
            "НЕОКОНЧЕННОЕ ВЫСШЕЕ       29\n",
            "НАЧАЛЬНОЕ                 17\n",
            "Начальное                 15\n",
            "ученая степень             4\n",
            "УЧЕНАЯ СТЕПЕНЬ             1\n",
            "Ученая степень             1\n",
            "Name: education, dtype: int64\n"
          ]
        }
      ],
      "source": [
        "print ('Дубликатов в столбце:', df['education'].duplicated().sum())\n",
        "print()\n",
        "print(df['education'].value_counts())"
      ]
    },
    {
      "cell_type": "code",
      "execution_count": null,
      "id": "5779edfd",
      "metadata": {
        "id": "5779edfd"
      },
      "outputs": [],
      "source": [
        "#приведем к нижнему регистру все дубликаты столбца 'education'\n",
        "df['education'] = df['education'].str.lower()"
      ]
    },
    {
      "cell_type": "code",
      "execution_count": null,
      "id": "8cd3c129",
      "metadata": {
        "id": "8cd3c129",
        "outputId": "bb72dfff-c252-49db-9504-a29e09368624"
      },
      "outputs": [
        {
          "data": {
            "text/plain": [
              "среднее                15233\n",
              "высшее                  5260\n",
              "неоконченное высшее      744\n",
              "начальное                282\n",
              "ученая степень             6\n",
              "Name: education, dtype: int64"
            ]
          },
          "execution_count": 25,
          "metadata": {},
          "output_type": "execute_result"
        }
      ],
      "source": [
        "df['education'].value_counts()"
      ]
    },
    {
      "cell_type": "markdown",
      "id": "25c4097d",
      "metadata": {
        "id": "25c4097d"
      },
      "source": [
        "##### В столбце 'family_status'"
      ]
    },
    {
      "cell_type": "code",
      "execution_count": null,
      "id": "0e531f9a",
      "metadata": {
        "id": "0e531f9a",
        "outputId": "46099fe9-7a4a-461c-b454-b4c84580937e"
      },
      "outputs": [
        {
          "name": "stdout",
          "output_type": "stream",
          "text": [
            "женат / замужем          12380\n",
            "гражданский брак          4177\n",
            "Не женат / не замужем     2813\n",
            "в разводе                 1195\n",
            "вдовец / вдова             960\n",
            "Name: family_status, dtype: int64\n"
          ]
        }
      ],
      "source": [
        "print(df['family_status'].value_counts())"
      ]
    },
    {
      "cell_type": "markdown",
      "id": "055efa0a",
      "metadata": {
        "id": "055efa0a"
      },
      "source": [
        "##### В столбце 'income_type'"
      ]
    },
    {
      "cell_type": "code",
      "execution_count": null,
      "id": "30b85d58",
      "metadata": {
        "id": "30b85d58",
        "outputId": "f5090475-dbf8-46c6-de94-1930f24d2d18"
      },
      "outputs": [
        {
          "data": {
            "text/plain": [
              "сотрудник          11119\n",
              "компаньон           5085\n",
              "пенсионер           3856\n",
              "госслужащий         1459\n",
              "безработный            2\n",
              "предприниматель        2\n",
              "в декрете              1\n",
              "студент                1\n",
              "Name: income_type, dtype: int64"
            ]
          },
          "execution_count": 27,
          "metadata": {},
          "output_type": "execute_result"
        }
      ],
      "source": [
        "df['income_type'].value_counts()"
      ]
    },
    {
      "cell_type": "markdown",
      "id": "f4821642",
      "metadata": {
        "id": "f4821642"
      },
      "source": [
        "##### В столбце 'purpose'"
      ]
    },
    {
      "cell_type": "code",
      "execution_count": null,
      "id": "95c1876d",
      "metadata": {
        "id": "95c1876d",
        "outputId": "62ad1964-28bf-4531-e1f8-6d19c3159a82"
      },
      "outputs": [
        {
          "data": {
            "text/plain": [
              "свадьба                                   797\n",
              "на проведение свадьбы                     777\n",
              "сыграть свадьбу                           774\n",
              "операции с недвижимостью                  676\n",
              "покупка коммерческой недвижимости         664\n",
              "покупка жилья для сдачи                   653\n",
              "операции с жильем                         653\n",
              "операции с коммерческой недвижимостью     651\n",
              "жилье                                     647\n",
              "покупка жилья                             647\n",
              "покупка жилья для семьи                   641\n",
              "строительство собственной недвижимости    635\n",
              "недвижимость                              634\n",
              "операции со своей недвижимостью           630\n",
              "строительство жилой недвижимости          626\n",
              "покупка недвижимости                      624\n",
              "покупка своего жилья                      620\n",
              "строительство недвижимости                620\n",
              "ремонт жилью                              612\n",
              "покупка жилой недвижимости                607\n",
              "на покупку своего автомобиля              505\n",
              "заняться высшим образованием              496\n",
              "автомобиль                                495\n",
              "сделка с подержанным автомобилем          489\n",
              "свой автомобиль                           480\n",
              "на покупку подержанного автомобиля        479\n",
              "автомобили                                478\n",
              "на покупку автомобиля                     472\n",
              "приобретение автомобиля                   462\n",
              "дополнительное образование                462\n",
              "сделка с автомобилем                      455\n",
              "высшее образование                        453\n",
              "образование                               447\n",
              "получение дополнительного образования     447\n",
              "получение образования                     443\n",
              "профильное образование                    436\n",
              "получение высшего образования             426\n",
              "заняться образованием                     412\n",
              "Name: purpose, dtype: int64"
            ]
          },
          "execution_count": 28,
          "metadata": {},
          "output_type": "execute_result"
        }
      ],
      "source": [
        "df['purpose'].value_counts().sort_values(ascending = False)"
      ]
    },
    {
      "cell_type": "markdown",
      "id": "fd2ad005",
      "metadata": {
        "id": "fd2ad005"
      },
      "source": [
        "##### В столбце 'children'"
      ]
    },
    {
      "cell_type": "code",
      "execution_count": null,
      "id": "a81c9a2e",
      "metadata": {
        "id": "a81c9a2e",
        "outputId": "5409c505-735a-4643-bec7-90fb1440dc45"
      },
      "outputs": [
        {
          "data": {
            "text/plain": [
              " 0     14149\n",
              " 1      4818\n",
              " 2      2055\n",
              " 3       330\n",
              " 20       76\n",
              "-1        47\n",
              " 4        41\n",
              " 5         9\n",
              "Name: children, dtype: int64"
            ]
          },
          "execution_count": 29,
          "metadata": {},
          "output_type": "execute_result"
        }
      ],
      "source": [
        "df['children'].value_counts()"
      ]
    },
    {
      "cell_type": "markdown",
      "id": "a9efed35",
      "metadata": {
        "id": "a9efed35"
      },
      "source": [
        "Значение -1 заменим на положительное, это явная ошибка."
      ]
    },
    {
      "cell_type": "code",
      "execution_count": null,
      "id": "e1c62810",
      "metadata": {
        "id": "e1c62810"
      },
      "outputs": [],
      "source": [
        "df['children'] = df['children'].replace(-1, 1)"
      ]
    },
    {
      "cell_type": "markdown",
      "id": "a43c9184",
      "metadata": {
        "id": "a43c9184"
      },
      "source": [
        "В теории у женщины может родиться 20 детей, однако считаю, что это все же ошибка при выгрузке, поэтому можно удалить. Значений слишком мало, глобально на выборку они не влияют."
      ]
    },
    {
      "cell_type": "code",
      "execution_count": null,
      "id": "304cf4a8",
      "metadata": {
        "id": "304cf4a8"
      },
      "outputs": [],
      "source": [
        "df= df.drop(df[df['children'] ==20].index)"
      ]
    },
    {
      "cell_type": "code",
      "execution_count": null,
      "id": "27cee8f5",
      "metadata": {
        "id": "27cee8f5",
        "outputId": "7eabb591-c418-4dce-a72a-8b594d7510a1"
      },
      "outputs": [
        {
          "data": {
            "text/plain": [
              "0    14149\n",
              "1     4865\n",
              "2     2055\n",
              "3      330\n",
              "4       41\n",
              "5        9\n",
              "Name: children, dtype: int64"
            ]
          },
          "execution_count": 32,
          "metadata": {},
          "output_type": "execute_result"
        }
      ],
      "source": [
        "df['children'].value_counts()"
      ]
    },
    {
      "cell_type": "markdown",
      "id": "eb27e5a7",
      "metadata": {
        "id": "eb27e5a7"
      },
      "source": [
        "##### В столбце 'debt'"
      ]
    },
    {
      "cell_type": "code",
      "execution_count": null,
      "id": "3cca934a",
      "metadata": {
        "id": "3cca934a",
        "outputId": "e0137aa5-fe12-4853-fa24-579c5b52c7c5"
      },
      "outputs": [
        {
          "data": {
            "text/plain": [
              "0    19716\n",
              "1     1733\n",
              "Name: debt, dtype: int64"
            ]
          },
          "execution_count": 33,
          "metadata": {},
          "output_type": "execute_result"
        }
      ],
      "source": [
        "df['debt'].value_counts()"
      ]
    },
    {
      "cell_type": "markdown",
      "id": "b370641c",
      "metadata": {
        "id": "b370641c"
      },
      "source": [
        "##### В столбце 'gender'"
      ]
    },
    {
      "cell_type": "code",
      "execution_count": null,
      "id": "b443442a",
      "metadata": {
        "id": "b443442a",
        "outputId": "14ad9345-8d63-432e-beeb-3b014b01cae4"
      },
      "outputs": [
        {
          "data": {
            "text/plain": [
              "F      14189\n",
              "M       7259\n",
              "XNA        1\n",
              "Name: gender, dtype: int64"
            ]
          },
          "execution_count": 34,
          "metadata": {},
          "output_type": "execute_result"
        }
      ],
      "source": [
        "df['gender'].value_counts()"
      ]
    },
    {
      "cell_type": "code",
      "execution_count": null,
      "id": "83e00bd3",
      "metadata": {
        "scrolled": true,
        "id": "83e00bd3",
        "outputId": "969a15ea-b951-4800-f8df-6ed543ac7627"
      },
      "outputs": [
        {
          "data": {
            "text/html": [
              "<div>\n",
              "<style scoped>\n",
              "    .dataframe tbody tr th:only-of-type {\n",
              "        vertical-align: middle;\n",
              "    }\n",
              "\n",
              "    .dataframe tbody tr th {\n",
              "        vertical-align: top;\n",
              "    }\n",
              "\n",
              "    .dataframe thead th {\n",
              "        text-align: right;\n",
              "    }\n",
              "</style>\n",
              "<table border=\"1\" class=\"dataframe\">\n",
              "  <thead>\n",
              "    <tr style=\"text-align: right;\">\n",
              "      <th></th>\n",
              "      <th>children</th>\n",
              "      <th>days_employed</th>\n",
              "      <th>dob_years</th>\n",
              "      <th>education</th>\n",
              "      <th>education_id</th>\n",
              "      <th>family_status</th>\n",
              "      <th>family_status_id</th>\n",
              "      <th>gender</th>\n",
              "      <th>income_type</th>\n",
              "      <th>debt</th>\n",
              "      <th>total_income</th>\n",
              "      <th>purpose</th>\n",
              "    </tr>\n",
              "  </thead>\n",
              "  <tbody>\n",
              "    <tr>\n",
              "      <th>10701</th>\n",
              "      <td>0</td>\n",
              "      <td>98.275021</td>\n",
              "      <td>24</td>\n",
              "      <td>неоконченное высшее</td>\n",
              "      <td>2</td>\n",
              "      <td>гражданский брак</td>\n",
              "      <td>1</td>\n",
              "      <td>XNA</td>\n",
              "      <td>компаньон</td>\n",
              "      <td>0</td>\n",
              "      <td>203905</td>\n",
              "      <td>покупка недвижимости</td>\n",
              "    </tr>\n",
              "  </tbody>\n",
              "</table>\n",
              "</div>"
            ],
            "text/plain": [
              "       children  days_employed  dob_years            education  education_id  \\\n",
              "10701         0      98.275021         24  неоконченное высшее             2   \n",
              "\n",
              "          family_status  family_status_id gender income_type  debt  \\\n",
              "10701  гражданский брак                 1    XNA   компаньон     0   \n",
              "\n",
              "       total_income               purpose  \n",
              "10701        203905  покупка недвижимости  "
            ]
          },
          "execution_count": 35,
          "metadata": {},
          "output_type": "execute_result"
        }
      ],
      "source": [
        "#посмотрим на строчку со значением XNA в столбце `gender`\n",
        "df.loc[df.loc[:, 'gender'] == 'XNA']"
      ]
    },
    {
      "cell_type": "markdown",
      "id": "737da88c",
      "metadata": {
        "id": "737da88c"
      },
      "source": [
        "Значение XNА мы определить не можем, поэтому придется его удалить и не учитывать при конечных результатах."
      ]
    },
    {
      "cell_type": "code",
      "execution_count": null,
      "id": "c75f90d5",
      "metadata": {
        "id": "c75f90d5"
      },
      "outputs": [],
      "source": [
        "df= df.drop(df[df['gender'] == 'XNA'].index)"
      ]
    },
    {
      "cell_type": "code",
      "execution_count": null,
      "id": "b94c678b",
      "metadata": {
        "id": "b94c678b",
        "outputId": "3ff10880-8d0a-4cb9-ad2d-2e185ca20539"
      },
      "outputs": [
        {
          "data": {
            "text/plain": [
              "F    14189\n",
              "M     7259\n",
              "Name: gender, dtype: int64"
            ]
          },
          "execution_count": 37,
          "metadata": {},
          "output_type": "execute_result"
        }
      ],
      "source": [
        "df['gender'].value_counts()"
      ]
    },
    {
      "cell_type": "markdown",
      "id": "28f253fc",
      "metadata": {
        "id": "28f253fc"
      },
      "source": [
        "#### Проверка устранения дубликатов"
      ]
    },
    {
      "cell_type": "code",
      "execution_count": null,
      "id": "e734a6de",
      "metadata": {
        "id": "e734a6de",
        "outputId": "ecf4c196-b766-4343-8240-379432915f25"
      },
      "outputs": [
        {
          "name": "stdout",
          "output_type": "stream",
          "text": [
            "Дубликатов в таблице: 71\n"
          ]
        }
      ],
      "source": [
        "print ('Дубликатов в таблице:', df.duplicated().sum())"
      ]
    },
    {
      "cell_type": "code",
      "execution_count": null,
      "id": "f503f479",
      "metadata": {
        "id": "f503f479"
      },
      "outputs": [],
      "source": [
        "#удалим оставшиеся дубликаты\n",
        "df = df.drop_duplicates().reset_index(drop=True)"
      ]
    },
    {
      "cell_type": "markdown",
      "id": "25dbb11b",
      "metadata": {
        "id": "25dbb11b"
      },
      "source": [
        "### Создание новых датафреймов"
      ]
    },
    {
      "cell_type": "markdown",
      "id": "778b826b",
      "metadata": {
        "id": "778b826b"
      },
      "source": [
        "Создадим два новых датафрейма, в которых:\n",
        "- каждому уникальному значению из education соответствует уникальное значение education_id — в первом;\n",
        "- каждому уникальному значению из family_status соответствует уникальное значение family_status_id — во втором.\n"
      ]
    },
    {
      "cell_type": "code",
      "execution_count": null,
      "id": "ef4e7942",
      "metadata": {
        "id": "ef4e7942"
      },
      "outputs": [],
      "source": [
        "education_df = df[['education', 'education_id']]"
      ]
    },
    {
      "cell_type": "code",
      "execution_count": null,
      "id": "0842b154",
      "metadata": {
        "id": "0842b154",
        "outputId": "f7903c1e-1da6-4291-afa7-9c1206e6d413"
      },
      "outputs": [
        {
          "data": {
            "text/html": [
              "<div>\n",
              "<style scoped>\n",
              "    .dataframe tbody tr th:only-of-type {\n",
              "        vertical-align: middle;\n",
              "    }\n",
              "\n",
              "    .dataframe tbody tr th {\n",
              "        vertical-align: top;\n",
              "    }\n",
              "\n",
              "    .dataframe thead th {\n",
              "        text-align: right;\n",
              "    }\n",
              "</style>\n",
              "<table border=\"1\" class=\"dataframe\">\n",
              "  <thead>\n",
              "    <tr style=\"text-align: right;\">\n",
              "      <th></th>\n",
              "      <th>education</th>\n",
              "      <th>education_id</th>\n",
              "    </tr>\n",
              "  </thead>\n",
              "  <tbody>\n",
              "    <tr>\n",
              "      <th>0</th>\n",
              "      <td>высшее</td>\n",
              "      <td>0</td>\n",
              "    </tr>\n",
              "    <tr>\n",
              "      <th>1</th>\n",
              "      <td>среднее</td>\n",
              "      <td>1</td>\n",
              "    </tr>\n",
              "    <tr>\n",
              "      <th>2</th>\n",
              "      <td>среднее</td>\n",
              "      <td>1</td>\n",
              "    </tr>\n",
              "    <tr>\n",
              "      <th>3</th>\n",
              "      <td>среднее</td>\n",
              "      <td>1</td>\n",
              "    </tr>\n",
              "    <tr>\n",
              "      <th>4</th>\n",
              "      <td>среднее</td>\n",
              "      <td>1</td>\n",
              "    </tr>\n",
              "    <tr>\n",
              "      <th>...</th>\n",
              "      <td>...</td>\n",
              "      <td>...</td>\n",
              "    </tr>\n",
              "    <tr>\n",
              "      <th>21372</th>\n",
              "      <td>среднее</td>\n",
              "      <td>1</td>\n",
              "    </tr>\n",
              "    <tr>\n",
              "      <th>21373</th>\n",
              "      <td>среднее</td>\n",
              "      <td>1</td>\n",
              "    </tr>\n",
              "    <tr>\n",
              "      <th>21374</th>\n",
              "      <td>среднее</td>\n",
              "      <td>1</td>\n",
              "    </tr>\n",
              "    <tr>\n",
              "      <th>21375</th>\n",
              "      <td>среднее</td>\n",
              "      <td>1</td>\n",
              "    </tr>\n",
              "    <tr>\n",
              "      <th>21376</th>\n",
              "      <td>среднее</td>\n",
              "      <td>1</td>\n",
              "    </tr>\n",
              "  </tbody>\n",
              "</table>\n",
              "<p>21377 rows × 2 columns</p>\n",
              "</div>"
            ],
            "text/plain": [
              "      education  education_id\n",
              "0        высшее             0\n",
              "1       среднее             1\n",
              "2       среднее             1\n",
              "3       среднее             1\n",
              "4       среднее             1\n",
              "...         ...           ...\n",
              "21372   среднее             1\n",
              "21373   среднее             1\n",
              "21374   среднее             1\n",
              "21375   среднее             1\n",
              "21376   среднее             1\n",
              "\n",
              "[21377 rows x 2 columns]"
            ]
          },
          "execution_count": 41,
          "metadata": {},
          "output_type": "execute_result"
        }
      ],
      "source": [
        "education_df"
      ]
    },
    {
      "cell_type": "code",
      "execution_count": null,
      "id": "5348867a",
      "metadata": {
        "id": "5348867a",
        "outputId": "1ba052a8-0cd8-4804-f27f-dd0e2253bf6f"
      },
      "outputs": [
        {
          "data": {
            "text/plain": [
              "21372"
            ]
          },
          "execution_count": 43,
          "metadata": {},
          "output_type": "execute_result"
        }
      ],
      "source": [
        "education_df.duplicated().sum()"
      ]
    },
    {
      "cell_type": "code",
      "execution_count": null,
      "id": "a0deba73",
      "metadata": {
        "id": "a0deba73",
        "outputId": "915935e6-986c-40fc-9cc0-5b67261bfccc"
      },
      "outputs": [
        {
          "data": {
            "text/plain": [
              "education            education_id\n",
              "среднее              1               15112\n",
              "высшее               0                5236\n",
              "неоконченное высшее  2                 741\n",
              "начальное            3                 282\n",
              "ученая степень       4                   6\n",
              "dtype: int64"
            ]
          },
          "execution_count": 44,
          "metadata": {},
          "output_type": "execute_result"
        }
      ],
      "source": [
        "education_df.value_counts()"
      ]
    },
    {
      "cell_type": "code",
      "execution_count": null,
      "id": "82b0ce4a",
      "metadata": {
        "id": "82b0ce4a"
      },
      "outputs": [],
      "source": [
        "education_df = education_df.drop_duplicates().reset_index(drop=True)"
      ]
    },
    {
      "cell_type": "code",
      "execution_count": null,
      "id": "05ae5d40",
      "metadata": {
        "id": "05ae5d40",
        "outputId": "28fdea3e-978c-48c4-cfd8-a44bc16eeec9"
      },
      "outputs": [
        {
          "name": "stdout",
          "output_type": "stream",
          "text": [
            "             education  education_id\n",
            "0               высшее             0\n",
            "1              среднее             1\n",
            "2  неоконченное высшее             2\n",
            "3            начальное             3\n",
            "4       ученая степень             4\n"
          ]
        }
      ],
      "source": [
        "print(education_df)"
      ]
    },
    {
      "cell_type": "code",
      "execution_count": null,
      "id": "b4baa656",
      "metadata": {
        "id": "b4baa656"
      },
      "outputs": [],
      "source": [
        "family_df = df[['family_status', 'family_status_id']]"
      ]
    },
    {
      "cell_type": "code",
      "execution_count": null,
      "id": "39e70661",
      "metadata": {
        "id": "39e70661",
        "outputId": "8667506b-5b87-4ce1-fb7b-47e8ef886a3b"
      },
      "outputs": [
        {
          "data": {
            "text/html": [
              "<div>\n",
              "<style scoped>\n",
              "    .dataframe tbody tr th:only-of-type {\n",
              "        vertical-align: middle;\n",
              "    }\n",
              "\n",
              "    .dataframe tbody tr th {\n",
              "        vertical-align: top;\n",
              "    }\n",
              "\n",
              "    .dataframe thead th {\n",
              "        text-align: right;\n",
              "    }\n",
              "</style>\n",
              "<table border=\"1\" class=\"dataframe\">\n",
              "  <thead>\n",
              "    <tr style=\"text-align: right;\">\n",
              "      <th></th>\n",
              "      <th>family_status</th>\n",
              "      <th>family_status_id</th>\n",
              "    </tr>\n",
              "  </thead>\n",
              "  <tbody>\n",
              "    <tr>\n",
              "      <th>0</th>\n",
              "      <td>женат / замужем</td>\n",
              "      <td>0</td>\n",
              "    </tr>\n",
              "    <tr>\n",
              "      <th>1</th>\n",
              "      <td>женат / замужем</td>\n",
              "      <td>0</td>\n",
              "    </tr>\n",
              "    <tr>\n",
              "      <th>2</th>\n",
              "      <td>женат / замужем</td>\n",
              "      <td>0</td>\n",
              "    </tr>\n",
              "    <tr>\n",
              "      <th>3</th>\n",
              "      <td>женат / замужем</td>\n",
              "      <td>0</td>\n",
              "    </tr>\n",
              "    <tr>\n",
              "      <th>4</th>\n",
              "      <td>гражданский брак</td>\n",
              "      <td>1</td>\n",
              "    </tr>\n",
              "    <tr>\n",
              "      <th>...</th>\n",
              "      <td>...</td>\n",
              "      <td>...</td>\n",
              "    </tr>\n",
              "    <tr>\n",
              "      <th>21372</th>\n",
              "      <td>гражданский брак</td>\n",
              "      <td>1</td>\n",
              "    </tr>\n",
              "    <tr>\n",
              "      <th>21373</th>\n",
              "      <td>женат / замужем</td>\n",
              "      <td>0</td>\n",
              "    </tr>\n",
              "    <tr>\n",
              "      <th>21374</th>\n",
              "      <td>гражданский брак</td>\n",
              "      <td>1</td>\n",
              "    </tr>\n",
              "    <tr>\n",
              "      <th>21375</th>\n",
              "      <td>женат / замужем</td>\n",
              "      <td>0</td>\n",
              "    </tr>\n",
              "    <tr>\n",
              "      <th>21376</th>\n",
              "      <td>женат / замужем</td>\n",
              "      <td>0</td>\n",
              "    </tr>\n",
              "  </tbody>\n",
              "</table>\n",
              "<p>21377 rows × 2 columns</p>\n",
              "</div>"
            ],
            "text/plain": [
              "          family_status  family_status_id\n",
              "0       женат / замужем                 0\n",
              "1       женат / замужем                 0\n",
              "2       женат / замужем                 0\n",
              "3       женат / замужем                 0\n",
              "4      гражданский брак                 1\n",
              "...                 ...               ...\n",
              "21372  гражданский брак                 1\n",
              "21373   женат / замужем                 0\n",
              "21374  гражданский брак                 1\n",
              "21375   женат / замужем                 0\n",
              "21376   женат / замужем                 0\n",
              "\n",
              "[21377 rows x 2 columns]"
            ]
          },
          "execution_count": 48,
          "metadata": {},
          "output_type": "execute_result"
        }
      ],
      "source": [
        "family_df"
      ]
    },
    {
      "cell_type": "code",
      "execution_count": null,
      "id": "d439c056",
      "metadata": {
        "id": "d439c056",
        "outputId": "57400075-83b1-40f2-9d8e-c886076f6264"
      },
      "outputs": [
        {
          "data": {
            "text/plain": [
              "21372"
            ]
          },
          "execution_count": 49,
          "metadata": {},
          "output_type": "execute_result"
        }
      ],
      "source": [
        "family_df.duplicated().sum()"
      ]
    },
    {
      "cell_type": "code",
      "execution_count": null,
      "id": "4143e733",
      "metadata": {
        "id": "4143e733",
        "outputId": "6296710b-278c-49e4-fef9-1621b4ac580f"
      },
      "outputs": [
        {
          "data": {
            "text/plain": [
              "family_status          family_status_id\n",
              "женат / замужем        0                   12290\n",
              "гражданский брак       1                    4138\n",
              "Не женат / не замужем  4                    2801\n",
              "в разводе              3                    1193\n",
              "вдовец / вдова         2                     955\n",
              "dtype: int64"
            ]
          },
          "execution_count": 50,
          "metadata": {},
          "output_type": "execute_result"
        }
      ],
      "source": [
        "family_df.value_counts()"
      ]
    },
    {
      "cell_type": "code",
      "execution_count": null,
      "id": "f5a03aba",
      "metadata": {
        "id": "f5a03aba"
      },
      "outputs": [],
      "source": [
        "family_df = family_df.drop_duplicates().reset_index(drop=True)"
      ]
    },
    {
      "cell_type": "code",
      "execution_count": null,
      "id": "1cb9b996",
      "metadata": {
        "id": "1cb9b996",
        "outputId": "02f42fda-0ee0-4618-8146-6faaadeb9b87"
      },
      "outputs": [
        {
          "name": "stdout",
          "output_type": "stream",
          "text": [
            "           family_status  family_status_id\n",
            "0        женат / замужем                 0\n",
            "1       гражданский брак                 1\n",
            "2         вдовец / вдова                 2\n",
            "3              в разводе                 3\n",
            "4  Не женат / не замужем                 4\n"
          ]
        }
      ],
      "source": [
        "print(family_df)"
      ]
    },
    {
      "cell_type": "markdown",
      "id": "56e27eda",
      "metadata": {
        "id": "56e27eda"
      },
      "source": [
        "Удалим из исходного датафрейма столбцы education и family_status, оставив только их идентификаторы: education_id и family_status_id."
      ]
    },
    {
      "cell_type": "code",
      "execution_count": null,
      "id": "4ba50a2e",
      "metadata": {
        "id": "4ba50a2e"
      },
      "outputs": [],
      "source": [
        "df = df.drop(columns=['education', 'family_status'])"
      ]
    },
    {
      "cell_type": "code",
      "execution_count": null,
      "id": "ead13c60",
      "metadata": {
        "id": "ead13c60",
        "outputId": "176ae50c-ab86-4e3a-fbeb-9fa148f3ed7d"
      },
      "outputs": [
        {
          "data": {
            "text/html": [
              "<div>\n",
              "<style scoped>\n",
              "    .dataframe tbody tr th:only-of-type {\n",
              "        vertical-align: middle;\n",
              "    }\n",
              "\n",
              "    .dataframe tbody tr th {\n",
              "        vertical-align: top;\n",
              "    }\n",
              "\n",
              "    .dataframe thead th {\n",
              "        text-align: right;\n",
              "    }\n",
              "</style>\n",
              "<table border=\"1\" class=\"dataframe\">\n",
              "  <thead>\n",
              "    <tr style=\"text-align: right;\">\n",
              "      <th></th>\n",
              "      <th>children</th>\n",
              "      <th>days_employed</th>\n",
              "      <th>dob_years</th>\n",
              "      <th>education_id</th>\n",
              "      <th>family_status_id</th>\n",
              "      <th>gender</th>\n",
              "      <th>income_type</th>\n",
              "      <th>debt</th>\n",
              "      <th>total_income</th>\n",
              "      <th>purpose</th>\n",
              "    </tr>\n",
              "  </thead>\n",
              "  <tbody>\n",
              "    <tr>\n",
              "      <th>0</th>\n",
              "      <td>1</td>\n",
              "      <td>351.569709</td>\n",
              "      <td>42</td>\n",
              "      <td>0</td>\n",
              "      <td>0</td>\n",
              "      <td>F</td>\n",
              "      <td>сотрудник</td>\n",
              "      <td>0</td>\n",
              "      <td>253875</td>\n",
              "      <td>покупка жилья</td>\n",
              "    </tr>\n",
              "    <tr>\n",
              "      <th>1</th>\n",
              "      <td>1</td>\n",
              "      <td>167.700156</td>\n",
              "      <td>36</td>\n",
              "      <td>1</td>\n",
              "      <td>0</td>\n",
              "      <td>F</td>\n",
              "      <td>сотрудник</td>\n",
              "      <td>0</td>\n",
              "      <td>112080</td>\n",
              "      <td>приобретение автомобиля</td>\n",
              "    </tr>\n",
              "    <tr>\n",
              "      <th>2</th>\n",
              "      <td>0</td>\n",
              "      <td>234.309275</td>\n",
              "      <td>33</td>\n",
              "      <td>1</td>\n",
              "      <td>0</td>\n",
              "      <td>M</td>\n",
              "      <td>сотрудник</td>\n",
              "      <td>0</td>\n",
              "      <td>145885</td>\n",
              "      <td>покупка жилья</td>\n",
              "    </tr>\n",
              "    <tr>\n",
              "      <th>3</th>\n",
              "      <td>3</td>\n",
              "      <td>171.864467</td>\n",
              "      <td>32</td>\n",
              "      <td>1</td>\n",
              "      <td>0</td>\n",
              "      <td>M</td>\n",
              "      <td>сотрудник</td>\n",
              "      <td>0</td>\n",
              "      <td>267628</td>\n",
              "      <td>дополнительное образование</td>\n",
              "    </tr>\n",
              "    <tr>\n",
              "      <th>4</th>\n",
              "      <td>0</td>\n",
              "      <td>14177.753002</td>\n",
              "      <td>53</td>\n",
              "      <td>1</td>\n",
              "      <td>1</td>\n",
              "      <td>F</td>\n",
              "      <td>пенсионер</td>\n",
              "      <td>0</td>\n",
              "      <td>158616</td>\n",
              "      <td>сыграть свадьбу</td>\n",
              "    </tr>\n",
              "  </tbody>\n",
              "</table>\n",
              "</div>"
            ],
            "text/plain": [
              "   children  days_employed  dob_years  education_id  family_status_id gender  \\\n",
              "0         1     351.569709         42             0                 0      F   \n",
              "1         1     167.700156         36             1                 0      F   \n",
              "2         0     234.309275         33             1                 0      M   \n",
              "3         3     171.864467         32             1                 0      M   \n",
              "4         0   14177.753002         53             1                 1      F   \n",
              "\n",
              "  income_type  debt  total_income                     purpose  \n",
              "0   сотрудник     0        253875               покупка жилья  \n",
              "1   сотрудник     0        112080     приобретение автомобиля  \n",
              "2   сотрудник     0        145885               покупка жилья  \n",
              "3   сотрудник     0        267628  дополнительное образование  \n",
              "4   пенсионер     0        158616             сыграть свадьбу  "
            ]
          },
          "execution_count": 54,
          "metadata": {},
          "output_type": "execute_result"
        }
      ],
      "source": [
        "df.head()"
      ]
    },
    {
      "cell_type": "markdown",
      "id": "43b9ad8c",
      "metadata": {
        "id": "43b9ad8c"
      },
      "source": [
        "### Шаг 2.6. Категоризация дохода."
      ]
    },
    {
      "cell_type": "markdown",
      "id": "62aae3e6",
      "metadata": {
        "id": "62aae3e6"
      },
      "source": [
        "На основании диапазонов, указанных ниже, создадим столбец total_income_category с категориями:\n",
        "- 0–30000 — 'E';\n",
        "- 30001–50000 — 'D';\n",
        "- 50001–200000 — 'C';\n",
        "- 200001–1000000 — 'B';\n",
        "- 1000001 и выше — 'A'.\n",
        "\n",
        "Например, кредитополучателю с доходом 25000 нужно назначить категорию 'E', а клиенту, получающему 235000, — 'B'."
      ]
    },
    {
      "cell_type": "code",
      "execution_count": null,
      "id": "25f56bb4",
      "metadata": {
        "id": "25f56bb4",
        "outputId": "9d4e9e19-b184-4029-ae66-066ae1f509f7"
      },
      "outputs": [
        {
          "name": "stdout",
          "output_type": "stream",
          "text": [
            "A\n"
          ]
        }
      ],
      "source": [
        "def total_income_group(row):\n",
        "    \n",
        "    income = row['total_income']\n",
        "    \n",
        "    if 0 <= income <= 30000:\n",
        "            return 'E'\n",
        "    \n",
        "    if 30001 <= income <= 50000:\n",
        "            return 'D'\n",
        "    \n",
        "    if 50001 <= income <= 200000:\n",
        "            return 'C'\n",
        "    \n",
        "    if 200001 <= income <= 1000000:\n",
        "            return 'B'\n",
        "        \n",
        "    if income >= 1000001:\n",
        "            return 'A'\n",
        "        \n",
        "    return 'доход неизвестен'\n",
        "\n",
        "row_value = 348625684684 #проверочное значение дохода \n",
        "row_column = ['total_income'] #название столбца\n",
        "row = pd.Series(data=row_value, index=row_column) #формирование строки \n",
        "\n",
        "print(total_income_group(row))\n"
      ]
    },
    {
      "cell_type": "code",
      "execution_count": null,
      "id": "4d8dd5a9",
      "metadata": {
        "id": "4d8dd5a9",
        "outputId": "bd33bac8-e2e3-4c9c-d32d-26d13ad322f2"
      },
      "outputs": [
        {
          "data": {
            "text/html": [
              "<div>\n",
              "<style scoped>\n",
              "    .dataframe tbody tr th:only-of-type {\n",
              "        vertical-align: middle;\n",
              "    }\n",
              "\n",
              "    .dataframe tbody tr th {\n",
              "        vertical-align: top;\n",
              "    }\n",
              "\n",
              "    .dataframe thead th {\n",
              "        text-align: right;\n",
              "    }\n",
              "</style>\n",
              "<table border=\"1\" class=\"dataframe\">\n",
              "  <thead>\n",
              "    <tr style=\"text-align: right;\">\n",
              "      <th></th>\n",
              "      <th>children</th>\n",
              "      <th>days_employed</th>\n",
              "      <th>dob_years</th>\n",
              "      <th>education_id</th>\n",
              "      <th>family_status_id</th>\n",
              "      <th>gender</th>\n",
              "      <th>income_type</th>\n",
              "      <th>debt</th>\n",
              "      <th>total_income</th>\n",
              "      <th>purpose</th>\n",
              "      <th>total_income_category</th>\n",
              "    </tr>\n",
              "  </thead>\n",
              "  <tbody>\n",
              "    <tr>\n",
              "      <th>0</th>\n",
              "      <td>1</td>\n",
              "      <td>351.569709</td>\n",
              "      <td>42</td>\n",
              "      <td>0</td>\n",
              "      <td>0</td>\n",
              "      <td>F</td>\n",
              "      <td>сотрудник</td>\n",
              "      <td>0</td>\n",
              "      <td>253875</td>\n",
              "      <td>покупка жилья</td>\n",
              "      <td>B</td>\n",
              "    </tr>\n",
              "    <tr>\n",
              "      <th>1</th>\n",
              "      <td>1</td>\n",
              "      <td>167.700156</td>\n",
              "      <td>36</td>\n",
              "      <td>1</td>\n",
              "      <td>0</td>\n",
              "      <td>F</td>\n",
              "      <td>сотрудник</td>\n",
              "      <td>0</td>\n",
              "      <td>112080</td>\n",
              "      <td>приобретение автомобиля</td>\n",
              "      <td>C</td>\n",
              "    </tr>\n",
              "    <tr>\n",
              "      <th>2</th>\n",
              "      <td>0</td>\n",
              "      <td>234.309275</td>\n",
              "      <td>33</td>\n",
              "      <td>1</td>\n",
              "      <td>0</td>\n",
              "      <td>M</td>\n",
              "      <td>сотрудник</td>\n",
              "      <td>0</td>\n",
              "      <td>145885</td>\n",
              "      <td>покупка жилья</td>\n",
              "      <td>C</td>\n",
              "    </tr>\n",
              "    <tr>\n",
              "      <th>3</th>\n",
              "      <td>3</td>\n",
              "      <td>171.864467</td>\n",
              "      <td>32</td>\n",
              "      <td>1</td>\n",
              "      <td>0</td>\n",
              "      <td>M</td>\n",
              "      <td>сотрудник</td>\n",
              "      <td>0</td>\n",
              "      <td>267628</td>\n",
              "      <td>дополнительное образование</td>\n",
              "      <td>B</td>\n",
              "    </tr>\n",
              "    <tr>\n",
              "      <th>4</th>\n",
              "      <td>0</td>\n",
              "      <td>14177.753002</td>\n",
              "      <td>53</td>\n",
              "      <td>1</td>\n",
              "      <td>1</td>\n",
              "      <td>F</td>\n",
              "      <td>пенсионер</td>\n",
              "      <td>0</td>\n",
              "      <td>158616</td>\n",
              "      <td>сыграть свадьбу</td>\n",
              "      <td>C</td>\n",
              "    </tr>\n",
              "  </tbody>\n",
              "</table>\n",
              "</div>"
            ],
            "text/plain": [
              "   children  days_employed  dob_years  education_id  family_status_id gender  \\\n",
              "0         1     351.569709         42             0                 0      F   \n",
              "1         1     167.700156         36             1                 0      F   \n",
              "2         0     234.309275         33             1                 0      M   \n",
              "3         3     171.864467         32             1                 0      M   \n",
              "4         0   14177.753002         53             1                 1      F   \n",
              "\n",
              "  income_type  debt  total_income                     purpose  \\\n",
              "0   сотрудник     0        253875               покупка жилья   \n",
              "1   сотрудник     0        112080     приобретение автомобиля   \n",
              "2   сотрудник     0        145885               покупка жилья   \n",
              "3   сотрудник     0        267628  дополнительное образование   \n",
              "4   пенсионер     0        158616             сыграть свадьбу   \n",
              "\n",
              "  total_income_category  \n",
              "0                     B  \n",
              "1                     C  \n",
              "2                     C  \n",
              "3                     B  \n",
              "4                     C  "
            ]
          },
          "execution_count": 56,
          "metadata": {},
          "output_type": "execute_result"
        }
      ],
      "source": [
        "df['total_income_category'] = df.apply(total_income_group, axis=1) #добавляем столбец в датафрейм\n",
        "df.head()"
      ]
    },
    {
      "cell_type": "code",
      "execution_count": null,
      "id": "86257aa3",
      "metadata": {
        "id": "86257aa3",
        "outputId": "8cddd6f3-05fa-4544-d418-b530322cab01"
      },
      "outputs": [
        {
          "name": "stdout",
          "output_type": "stream",
          "text": [
            "C    15960\n",
            "B     5020\n",
            "D      350\n",
            "A       25\n",
            "E       22\n",
            "Name: total_income_category, dtype: int64\n"
          ]
        }
      ],
      "source": [
        "print(df['total_income_category'].value_counts()) #смотрим распределение категорий дохода"
      ]
    },
    {
      "cell_type": "markdown",
      "id": "aae842d0",
      "metadata": {
        "id": "aae842d0"
      },
      "source": [
        "Судя по цифрам, большинство людей зарабатывает в диапазоне от 50 до 1 млн рублей. "
      ]
    },
    {
      "cell_type": "markdown",
      "id": "7f5b70b7",
      "metadata": {
        "id": "7f5b70b7"
      },
      "source": [
        "### Шаг 2.7. Категоризация целей кредита."
      ]
    },
    {
      "cell_type": "markdown",
      "id": "d11dbeeb",
      "metadata": {
        "id": "d11dbeeb"
      },
      "source": [
        "Создадим функцию, которая на основании данных из столбца purpose сформирует новый столбец purpose_category, в который войдут следующие категории:\n",
        "- 'операции с автомобилем',\n",
        "- 'операции с недвижимостью',\n",
        "- 'проведение свадьбы',\n",
        "- 'получение образования'.\n",
        "\n",
        "Например, если в столбце purpose находится подстрока 'на покупку автомобиля', то в столбце purpose_category должна появиться строка 'операции с автомобилем'."
      ]
    },
    {
      "cell_type": "markdown",
      "id": "76ed7757",
      "metadata": {
        "id": "76ed7757"
      },
      "source": [
        "Для этой цели посмотрим уникальные значения в столбце `purpose`, которые помогут сформировать представления о общих целях кредитования. Значения по смыслу явно пересекаются и объединены общими тематиками, которые неплохо привести к единству. Для этого посмотрим, какие уникальные тематики представлены в таблице, а затем на их основе переименуем каждую."
      ]
    },
    {
      "cell_type": "code",
      "execution_count": null,
      "id": "a10af9e2",
      "metadata": {
        "id": "a10af9e2"
      },
      "outputs": [],
      "source": [
        "#df['purpose'].unique()"
      ]
    },
    {
      "cell_type": "markdown",
      "id": "c2fc4d4f",
      "metadata": {
        "id": "c2fc4d4f"
      },
      "source": [
        "Как видим, среди общих тематик встречаются подготовка к свадьбе, покупки авто и жилья и т.д. Приведем цели с одинаковым смыслом к короткому названию. Для этого создадим функцию, которая распределит их по категориям:\n",
        "- проведение свадьбы\n",
        "- получение образования\n",
        "- операции с автомобилем\n",
        "- операции с недвижимостью "
      ]
    },
    {
      "cell_type": "code",
      "execution_count": null,
      "id": "106c482e",
      "metadata": {
        "id": "106c482e"
      },
      "outputs": [],
      "source": [
        "def categorize_purpose(row):\n",
        "    try:\n",
        "        if 'автом' in row:\n",
        "            return 'операции с автомобилем'\n",
        "        elif 'жил' in row or 'недвиж' in row:\n",
        "            return 'операции с недвижимостью'\n",
        "        elif 'свад' in row:\n",
        "            return 'проведение свадьбы'\n",
        "        elif 'образов' in row:\n",
        "            return 'получение образования'\n",
        "    except:\n",
        "        return 'нет категории'\n",
        "\n",
        "df['purpose_category'] = df['purpose'].apply(categorize_purpose) #добавляем столбец в датафрейм"
      ]
    },
    {
      "cell_type": "code",
      "execution_count": null,
      "id": "edd4e9d0",
      "metadata": {
        "id": "edd4e9d0",
        "outputId": "43763e3f-2752-4151-a426-26abee1545dc"
      },
      "outputs": [
        {
          "data": {
            "text/html": [
              "<div>\n",
              "<style scoped>\n",
              "    .dataframe tbody tr th:only-of-type {\n",
              "        vertical-align: middle;\n",
              "    }\n",
              "\n",
              "    .dataframe tbody tr th {\n",
              "        vertical-align: top;\n",
              "    }\n",
              "\n",
              "    .dataframe thead th {\n",
              "        text-align: right;\n",
              "    }\n",
              "</style>\n",
              "<table border=\"1\" class=\"dataframe\">\n",
              "  <thead>\n",
              "    <tr style=\"text-align: right;\">\n",
              "      <th></th>\n",
              "      <th>children</th>\n",
              "      <th>days_employed</th>\n",
              "      <th>dob_years</th>\n",
              "      <th>education_id</th>\n",
              "      <th>family_status_id</th>\n",
              "      <th>gender</th>\n",
              "      <th>income_type</th>\n",
              "      <th>debt</th>\n",
              "      <th>total_income</th>\n",
              "      <th>purpose</th>\n",
              "      <th>total_income_category</th>\n",
              "      <th>purpose_category</th>\n",
              "    </tr>\n",
              "  </thead>\n",
              "  <tbody>\n",
              "    <tr>\n",
              "      <th>0</th>\n",
              "      <td>1</td>\n",
              "      <td>351.569709</td>\n",
              "      <td>42</td>\n",
              "      <td>0</td>\n",
              "      <td>0</td>\n",
              "      <td>F</td>\n",
              "      <td>сотрудник</td>\n",
              "      <td>0</td>\n",
              "      <td>253875</td>\n",
              "      <td>покупка жилья</td>\n",
              "      <td>B</td>\n",
              "      <td>операции с недвижимостью</td>\n",
              "    </tr>\n",
              "    <tr>\n",
              "      <th>1</th>\n",
              "      <td>1</td>\n",
              "      <td>167.700156</td>\n",
              "      <td>36</td>\n",
              "      <td>1</td>\n",
              "      <td>0</td>\n",
              "      <td>F</td>\n",
              "      <td>сотрудник</td>\n",
              "      <td>0</td>\n",
              "      <td>112080</td>\n",
              "      <td>приобретение автомобиля</td>\n",
              "      <td>C</td>\n",
              "      <td>операции с автомобилем</td>\n",
              "    </tr>\n",
              "    <tr>\n",
              "      <th>2</th>\n",
              "      <td>0</td>\n",
              "      <td>234.309275</td>\n",
              "      <td>33</td>\n",
              "      <td>1</td>\n",
              "      <td>0</td>\n",
              "      <td>M</td>\n",
              "      <td>сотрудник</td>\n",
              "      <td>0</td>\n",
              "      <td>145885</td>\n",
              "      <td>покупка жилья</td>\n",
              "      <td>C</td>\n",
              "      <td>операции с недвижимостью</td>\n",
              "    </tr>\n",
              "    <tr>\n",
              "      <th>3</th>\n",
              "      <td>3</td>\n",
              "      <td>171.864467</td>\n",
              "      <td>32</td>\n",
              "      <td>1</td>\n",
              "      <td>0</td>\n",
              "      <td>M</td>\n",
              "      <td>сотрудник</td>\n",
              "      <td>0</td>\n",
              "      <td>267628</td>\n",
              "      <td>дополнительное образование</td>\n",
              "      <td>B</td>\n",
              "      <td>получение образования</td>\n",
              "    </tr>\n",
              "    <tr>\n",
              "      <th>4</th>\n",
              "      <td>0</td>\n",
              "      <td>14177.753002</td>\n",
              "      <td>53</td>\n",
              "      <td>1</td>\n",
              "      <td>1</td>\n",
              "      <td>F</td>\n",
              "      <td>пенсионер</td>\n",
              "      <td>0</td>\n",
              "      <td>158616</td>\n",
              "      <td>сыграть свадьбу</td>\n",
              "      <td>C</td>\n",
              "      <td>проведение свадьбы</td>\n",
              "    </tr>\n",
              "  </tbody>\n",
              "</table>\n",
              "</div>"
            ],
            "text/plain": [
              "   children  days_employed  dob_years  education_id  family_status_id gender  \\\n",
              "0         1     351.569709         42             0                 0      F   \n",
              "1         1     167.700156         36             1                 0      F   \n",
              "2         0     234.309275         33             1                 0      M   \n",
              "3         3     171.864467         32             1                 0      M   \n",
              "4         0   14177.753002         53             1                 1      F   \n",
              "\n",
              "  income_type  debt  total_income                     purpose  \\\n",
              "0   сотрудник     0        253875               покупка жилья   \n",
              "1   сотрудник     0        112080     приобретение автомобиля   \n",
              "2   сотрудник     0        145885               покупка жилья   \n",
              "3   сотрудник     0        267628  дополнительное образование   \n",
              "4   пенсионер     0        158616             сыграть свадьбу   \n",
              "\n",
              "  total_income_category          purpose_category  \n",
              "0                     B  операции с недвижимостью  \n",
              "1                     C    операции с автомобилем  \n",
              "2                     C  операции с недвижимостью  \n",
              "3                     B     получение образования  \n",
              "4                     C        проведение свадьбы  "
            ]
          },
          "execution_count": 67,
          "metadata": {},
          "output_type": "execute_result"
        }
      ],
      "source": [
        "df.head()"
      ]
    },
    {
      "cell_type": "code",
      "execution_count": null,
      "id": "e4123148",
      "metadata": {
        "id": "e4123148",
        "outputId": "ef07a547-b6a6-4d75-bb12-919d751c2609"
      },
      "outputs": [
        {
          "name": "stdout",
          "output_type": "stream",
          "text": [
            "операции с недвижимостью    10774\n",
            "операции с автомобилем       4290\n",
            "получение образования        3998\n",
            "проведение свадьбы           2315\n",
            "Name: purpose_category, dtype: int64\n"
          ]
        }
      ],
      "source": [
        "print(df['purpose_category'].value_counts()) #смотрим распределение категорий цели"
      ]
    },
    {
      "cell_type": "markdown",
      "id": "0a9e967c",
      "metadata": {
        "id": "0a9e967c"
      },
      "source": [
        "Клиенты чаще заинтересованы в недвижимости, а на проведение свадьбы кредиты получает меньшинство"
      ]
    },
    {
      "cell_type": "markdown",
      "id": "69505f39",
      "metadata": {
        "id": "69505f39"
      },
      "source": [
        "### Ответы на вопросы."
      ]
    },
    {
      "cell_type": "markdown",
      "id": "1f15b04f",
      "metadata": {
        "id": "1f15b04f"
      },
      "source": [
        "#### Вопрос 1: Есть ли зависимость между количеством детей и возвратом кредита в срок?"
      ]
    },
    {
      "cell_type": "code",
      "execution_count": null,
      "id": "4e890921",
      "metadata": {
        "id": "4e890921",
        "outputId": "883c75b6-d056-49a5-db01-a3ef3e6c49d9"
      },
      "outputs": [
        {
          "data": {
            "text/html": [
              "<div>\n",
              "<style scoped>\n",
              "    .dataframe tbody tr th:only-of-type {\n",
              "        vertical-align: middle;\n",
              "    }\n",
              "\n",
              "    .dataframe tbody tr th {\n",
              "        vertical-align: top;\n",
              "    }\n",
              "\n",
              "    .dataframe thead th {\n",
              "        text-align: right;\n",
              "    }\n",
              "</style>\n",
              "<table border=\"1\" class=\"dataframe\">\n",
              "  <thead>\n",
              "    <tr style=\"text-align: right;\">\n",
              "      <th></th>\n",
              "      <th>children_count</th>\n",
              "      <th>children_sum</th>\n",
              "      <th>children_result</th>\n",
              "    </tr>\n",
              "    <tr>\n",
              "      <th>children</th>\n",
              "      <th></th>\n",
              "      <th></th>\n",
              "      <th></th>\n",
              "    </tr>\n",
              "  </thead>\n",
              "  <tbody>\n",
              "    <tr>\n",
              "      <th>4</th>\n",
              "      <td>41</td>\n",
              "      <td>4</td>\n",
              "      <td>0.097561</td>\n",
              "    </tr>\n",
              "    <tr>\n",
              "      <th>2</th>\n",
              "      <td>2052</td>\n",
              "      <td>194</td>\n",
              "      <td>0.094542</td>\n",
              "    </tr>\n",
              "    <tr>\n",
              "      <th>1</th>\n",
              "      <td>4855</td>\n",
              "      <td>445</td>\n",
              "      <td>0.091658</td>\n",
              "    </tr>\n",
              "    <tr>\n",
              "      <th>3</th>\n",
              "      <td>330</td>\n",
              "      <td>27</td>\n",
              "      <td>0.081818</td>\n",
              "    </tr>\n",
              "    <tr>\n",
              "      <th>0</th>\n",
              "      <td>14090</td>\n",
              "      <td>1063</td>\n",
              "      <td>0.075444</td>\n",
              "    </tr>\n",
              "    <tr>\n",
              "      <th>5</th>\n",
              "      <td>9</td>\n",
              "      <td>0</td>\n",
              "      <td>0.000000</td>\n",
              "    </tr>\n",
              "  </tbody>\n",
              "</table>\n",
              "</div>"
            ],
            "text/plain": [
              "          children_count  children_sum  children_result\n",
              "children                                               \n",
              "4                     41             4         0.097561\n",
              "2                   2052           194         0.094542\n",
              "1                   4855           445         0.091658\n",
              "3                    330            27         0.081818\n",
              "0                  14090          1063         0.075444\n",
              "5                      9             0         0.000000"
            ]
          },
          "execution_count": 69,
          "metadata": {},
          "output_type": "execute_result"
        }
      ],
      "source": [
        "#создадим новый датафрейм для выявления коэффициента зависимости\n",
        "children_debt = pd.DataFrame()\n",
        "\n",
        "#посчитаем и суммируем количество детей, сгруппировав их по колонкам датафрейма\n",
        "children_debt['children_count'] = df.groupby('children')['debt'].count()\n",
        "children_debt['children_sum'] = df.groupby('children')['debt'].sum()\n",
        "\n",
        "#рассчитаем коэффициент зависимости\n",
        "children_debt['children_result'] = children_debt['children_sum'] / children_debt['children_count']\n",
        "children_debt.sort_values('children_result', ascending = False)"
      ]
    },
    {
      "cell_type": "markdown",
      "id": "52c8e6fc",
      "metadata": {
        "id": "52c8e6fc"
      },
      "source": [
        "Люди, не имеющие детей, реже имеют долги по кредитам. Думаю, зависимость здесь есть. Платить труднее тем, у кого есть дети."
      ]
    },
    {
      "cell_type": "markdown",
      "id": "b07f2686",
      "metadata": {
        "id": "b07f2686"
      },
      "source": [
        "#### Вопрос 2: Есть ли зависимость между семейным положением и возвратом кредита в срок?"
      ]
    },
    {
      "cell_type": "code",
      "execution_count": null,
      "id": "ddc790a1",
      "metadata": {
        "id": "ddc790a1",
        "outputId": "f16763b9-ecfd-4b7d-e321-d5dcc970d17a"
      },
      "outputs": [
        {
          "data": {
            "text/html": [
              "<div>\n",
              "<style scoped>\n",
              "    .dataframe tbody tr th:only-of-type {\n",
              "        vertical-align: middle;\n",
              "    }\n",
              "\n",
              "    .dataframe tbody tr th {\n",
              "        vertical-align: top;\n",
              "    }\n",
              "\n",
              "    .dataframe thead th {\n",
              "        text-align: right;\n",
              "    }\n",
              "</style>\n",
              "<table border=\"1\" class=\"dataframe\">\n",
              "  <thead>\n",
              "    <tr style=\"text-align: right;\">\n",
              "      <th></th>\n",
              "      <th>family_count</th>\n",
              "      <th>family_sum</th>\n",
              "      <th>family_result</th>\n",
              "    </tr>\n",
              "    <tr>\n",
              "      <th>family_status_id</th>\n",
              "      <th></th>\n",
              "      <th></th>\n",
              "      <th></th>\n",
              "    </tr>\n",
              "  </thead>\n",
              "  <tbody>\n",
              "    <tr>\n",
              "      <th>4</th>\n",
              "      <td>2801</td>\n",
              "      <td>273</td>\n",
              "      <td>0.097465</td>\n",
              "    </tr>\n",
              "    <tr>\n",
              "      <th>1</th>\n",
              "      <td>4138</td>\n",
              "      <td>385</td>\n",
              "      <td>0.093040</td>\n",
              "    </tr>\n",
              "    <tr>\n",
              "      <th>0</th>\n",
              "      <td>12290</td>\n",
              "      <td>928</td>\n",
              "      <td>0.075509</td>\n",
              "    </tr>\n",
              "    <tr>\n",
              "      <th>3</th>\n",
              "      <td>1193</td>\n",
              "      <td>84</td>\n",
              "      <td>0.070411</td>\n",
              "    </tr>\n",
              "    <tr>\n",
              "      <th>2</th>\n",
              "      <td>955</td>\n",
              "      <td>63</td>\n",
              "      <td>0.065969</td>\n",
              "    </tr>\n",
              "  </tbody>\n",
              "</table>\n",
              "</div>"
            ],
            "text/plain": [
              "                  family_count  family_sum  family_result\n",
              "family_status_id                                         \n",
              "4                         2801         273       0.097465\n",
              "1                         4138         385       0.093040\n",
              "0                        12290         928       0.075509\n",
              "3                         1193          84       0.070411\n",
              "2                          955          63       0.065969"
            ]
          },
          "execution_count": 70,
          "metadata": {},
          "output_type": "execute_result"
        }
      ],
      "source": [
        "#создадим новый датафрейм для выявления коэффициента зависимости\n",
        "family_debt = pd.DataFrame()\n",
        "\n",
        "#посчитаем и суммируем количество семенйных статусов, сгруппировав их по колонкам датафрейма\n",
        "family_debt['family_count'] = df.groupby('family_status_id')['debt'].count()\n",
        "family_debt['family_sum'] = df.groupby('family_status_id')['debt'].sum()\n",
        "\n",
        "#рассчитаем коэффициент зависимости\n",
        "family_debt['family_result'] = family_debt['family_sum'] / family_debt['family_count']\n",
        "family_debt.sort_values('family_result', ascending = False)"
      ]
    },
    {
      "cell_type": "code",
      "execution_count": null,
      "id": "2a359a68",
      "metadata": {
        "id": "2a359a68",
        "outputId": "c4409ff0-0f27-4d6c-d66b-ca1b7815b4f5"
      },
      "outputs": [
        {
          "name": "stdout",
          "output_type": "stream",
          "text": [
            "family_status          family_status_id\n",
            "Не женат / не замужем  4                   1\n",
            "в разводе              3                   1\n",
            "вдовец / вдова         2                   1\n",
            "гражданский брак       1                   1\n",
            "женат / замужем        0                   1\n",
            "dtype: int64\n"
          ]
        }
      ],
      "source": [
        "print(family_df.value_counts())"
      ]
    },
    {
      "cell_type": "markdown",
      "id": "7dddfb90",
      "metadata": {
        "id": "7dddfb90"
      },
      "source": [
        "Чаще всего не возвращают кредиты в срок люди, которые не обременены условиями брака. Хотя, на мой взгляд, зависимость здесь небольшая. Грешат задолженностями и те, и те другие в схожих масштабах."
      ]
    },
    {
      "cell_type": "markdown",
      "id": "d0d2b2ae",
      "metadata": {
        "id": "d0d2b2ae"
      },
      "source": [
        "#### Вопрос 3: Есть ли зависимость между уровнем дохода и возвратом кредита в срок?"
      ]
    },
    {
      "cell_type": "code",
      "execution_count": null,
      "id": "3b06d900",
      "metadata": {
        "id": "3b06d900",
        "outputId": "0513960e-386a-4a2e-d646-ffdf22cb82e3"
      },
      "outputs": [
        {
          "data": {
            "text/html": [
              "<div>\n",
              "<style scoped>\n",
              "    .dataframe tbody tr th:only-of-type {\n",
              "        vertical-align: middle;\n",
              "    }\n",
              "\n",
              "    .dataframe tbody tr th {\n",
              "        vertical-align: top;\n",
              "    }\n",
              "\n",
              "    .dataframe thead th {\n",
              "        text-align: right;\n",
              "    }\n",
              "</style>\n",
              "<table border=\"1\" class=\"dataframe\">\n",
              "  <thead>\n",
              "    <tr style=\"text-align: right;\">\n",
              "      <th></th>\n",
              "      <th>income_count</th>\n",
              "      <th>income_sum</th>\n",
              "      <th>income_result</th>\n",
              "    </tr>\n",
              "    <tr>\n",
              "      <th>total_income_category</th>\n",
              "      <th></th>\n",
              "      <th></th>\n",
              "      <th></th>\n",
              "    </tr>\n",
              "  </thead>\n",
              "  <tbody>\n",
              "    <tr>\n",
              "      <th>E</th>\n",
              "      <td>22</td>\n",
              "      <td>2</td>\n",
              "      <td>0.090909</td>\n",
              "    </tr>\n",
              "    <tr>\n",
              "      <th>C</th>\n",
              "      <td>15960</td>\n",
              "      <td>1354</td>\n",
              "      <td>0.084837</td>\n",
              "    </tr>\n",
              "    <tr>\n",
              "      <th>A</th>\n",
              "      <td>25</td>\n",
              "      <td>2</td>\n",
              "      <td>0.080000</td>\n",
              "    </tr>\n",
              "    <tr>\n",
              "      <th>B</th>\n",
              "      <td>5020</td>\n",
              "      <td>354</td>\n",
              "      <td>0.070518</td>\n",
              "    </tr>\n",
              "    <tr>\n",
              "      <th>D</th>\n",
              "      <td>350</td>\n",
              "      <td>21</td>\n",
              "      <td>0.060000</td>\n",
              "    </tr>\n",
              "  </tbody>\n",
              "</table>\n",
              "</div>"
            ],
            "text/plain": [
              "                       income_count  income_sum  income_result\n",
              "total_income_category                                         \n",
              "E                                22           2       0.090909\n",
              "C                             15960        1354       0.084837\n",
              "A                                25           2       0.080000\n",
              "B                              5020         354       0.070518\n",
              "D                               350          21       0.060000"
            ]
          },
          "execution_count": 72,
          "metadata": {},
          "output_type": "execute_result"
        }
      ],
      "source": [
        "#создадим новый датафрейм для выявления коэффициента зависимости\n",
        "income_debt = pd.DataFrame()\n",
        "\n",
        "#посчитаем и суммируем количество доходов, сгруппировав их по колонкам датафрейма\n",
        "income_debt['income_count'] = df.groupby('total_income_category')['debt'].count()\n",
        "income_debt['income_sum'] = df.groupby('total_income_category')['debt'].sum()\n",
        "\n",
        "#рассчитаем коэффициент зависимости\n",
        "income_debt['income_result'] = income_debt['income_sum'] / income_debt['income_count']\n",
        "income_debt.sort_values('income_result', ascending = False)"
      ]
    },
    {
      "cell_type": "markdown",
      "id": "e3fe3506",
      "metadata": {
        "id": "e3fe3506"
      },
      "source": [
        "- 0–30000 — 'E';\n",
        "- 30001–50000 — 'D';\n",
        "- 50001–200000 — 'C';\n",
        "- 200001–1000000 — 'B';\n",
        "- 1000001 и выше — 'A'."
      ]
    },
    {
      "cell_type": "markdown",
      "id": "9e7f2ec6",
      "metadata": {
        "id": "9e7f2ec6"
      },
      "source": [
        "Судя по результатам, как таковой зависимости нет. Поскольку странно, что люди, имеющие доход в пределах категории D реже имеют задолженность, чем те, кто получает доходы выше - категории C или А. Возможно, это связано с тем, что у людей с более высоким заработком и траты выше, следовательно, им не менее трудно выплачивать кредит."
      ]
    },
    {
      "cell_type": "markdown",
      "id": "2987fc3a",
      "metadata": {
        "id": "2987fc3a"
      },
      "source": [
        "#### Вопрос 4: Как разные цели кредита влияют на его возврат в срок?"
      ]
    },
    {
      "cell_type": "code",
      "execution_count": null,
      "id": "12a31424",
      "metadata": {
        "id": "12a31424",
        "outputId": "5f5cf377-dfb9-4b24-9635-a2becb82e4b0"
      },
      "outputs": [
        {
          "data": {
            "text/html": [
              "<div>\n",
              "<style scoped>\n",
              "    .dataframe tbody tr th:only-of-type {\n",
              "        vertical-align: middle;\n",
              "    }\n",
              "\n",
              "    .dataframe tbody tr th {\n",
              "        vertical-align: top;\n",
              "    }\n",
              "\n",
              "    .dataframe thead th {\n",
              "        text-align: right;\n",
              "    }\n",
              "</style>\n",
              "<table border=\"1\" class=\"dataframe\">\n",
              "  <thead>\n",
              "    <tr style=\"text-align: right;\">\n",
              "      <th></th>\n",
              "      <th>purpose_count</th>\n",
              "      <th>purpose_sum</th>\n",
              "      <th>purpose_result</th>\n",
              "    </tr>\n",
              "    <tr>\n",
              "      <th>purpose_category</th>\n",
              "      <th></th>\n",
              "      <th></th>\n",
              "      <th></th>\n",
              "    </tr>\n",
              "  </thead>\n",
              "  <tbody>\n",
              "    <tr>\n",
              "      <th>операции с автомобилем</th>\n",
              "      <td>4290</td>\n",
              "      <td>401</td>\n",
              "      <td>0.093473</td>\n",
              "    </tr>\n",
              "    <tr>\n",
              "      <th>получение образования</th>\n",
              "      <td>3998</td>\n",
              "      <td>369</td>\n",
              "      <td>0.092296</td>\n",
              "    </tr>\n",
              "    <tr>\n",
              "      <th>проведение свадьбы</th>\n",
              "      <td>2315</td>\n",
              "      <td>183</td>\n",
              "      <td>0.079050</td>\n",
              "    </tr>\n",
              "    <tr>\n",
              "      <th>операции с недвижимостью</th>\n",
              "      <td>10774</td>\n",
              "      <td>780</td>\n",
              "      <td>0.072397</td>\n",
              "    </tr>\n",
              "  </tbody>\n",
              "</table>\n",
              "</div>"
            ],
            "text/plain": [
              "                          purpose_count  purpose_sum  purpose_result\n",
              "purpose_category                                                    \n",
              "операции с автомобилем             4290          401        0.093473\n",
              "получение образования              3998          369        0.092296\n",
              "проведение свадьбы                 2315          183        0.079050\n",
              "операции с недвижимостью          10774          780        0.072397"
            ]
          },
          "execution_count": 73,
          "metadata": {},
          "output_type": "execute_result"
        }
      ],
      "source": [
        "#создадим новый датафрейм для выявления коэффициента зависимости\n",
        "purpose_debt = pd.DataFrame()\n",
        "\n",
        "#посчитаем и суммируем количество целей, сгруппировав их по колонкам датафрейма\n",
        "purpose_debt['purpose_count'] = df.groupby('purpose_category')['debt'].count()\n",
        "purpose_debt['purpose_sum'] = df.groupby('purpose_category')['debt'].sum()\n",
        "\n",
        "#рассчитаем коэффициент зависимости\n",
        "purpose_debt['purpose_result'] = purpose_debt['purpose_sum'] / purpose_debt['purpose_count']\n",
        "purpose_debt.sort_values('purpose_result', ascending = False)"
      ]
    },
    {
      "cell_type": "markdown",
      "id": "10961a6a",
      "metadata": {
        "id": "10961a6a"
      },
      "source": [
        "Кредиты, которые берут на разовые события вроде свадьбы или покупки недвижимости, возвращают чаще, чем на длительные процессы вроде получения образования и операций с авто. "
      ]
    },
    {
      "cell_type": "markdown",
      "id": "ea8344fa",
      "metadata": {
        "id": "ea8344fa"
      },
      "source": [
        "## Общий вывод:"
      ]
    },
    {
      "cell_type": "markdown",
      "id": "0e474530",
      "metadata": {
        "id": "0e474530"
      },
      "source": [
        "**Шаги, которые были выполнены по проекту:**\n",
        "- На первом этапе был произведен обзор данных: подсчитаны пропуски, аномалии, дубликаты. Пропущенные значения количественных переменных были заменены медианой, устойчивой к выбросам. Аномалии обработаны, а дубликаты удалены.\n",
        "- На втором этапе удалось категоризировать данные по уровню дохода и целям кредитования. \n",
        "- На третьем этапе были рассчитаны коэффициенты зависимости по каждому вопросу заказчика."
      ]
    },
    {
      "cell_type": "markdown",
      "id": "0c2f6a5f",
      "metadata": {
        "id": "0c2f6a5f"
      },
      "source": [
        "**Выводы по результатам исследования:**\n",
        "- На степень задолженности по кредитам влияет количество людей в семье - то есть наличие партнеров и детей. Те, кто их не имеет платят намного быстрее, что, наверное, связано с тем, что доход легче распределять только на собственные нужды, а не на дополнительное число членов семьи. \n",
        "- Люди, берущие кредит на разовую покупку, возвращают его гораздо быстрее, чем те, кто склонен выплачивать частями в результате длительного процесса.\n",
        "- Вне зависимости от уровня дохода люди могут быть не дисциплинированы в выплатах кредита в срок. В целом считаю, что доход не влияет на формирование долга."
      ]
    }
  ],
  "metadata": {
    "ExecuteTimeLog": [
      {
        "duration": 404,
        "start_time": "2022-04-24T17:35:05.565Z"
      },
      {
        "duration": 60,
        "start_time": "2022-04-24T17:36:08.025Z"
      },
      {
        "duration": 24,
        "start_time": "2022-04-24T17:36:23.010Z"
      },
      {
        "duration": 13,
        "start_time": "2022-04-24T17:50:20.366Z"
      },
      {
        "duration": 12,
        "start_time": "2022-04-24T17:50:33.334Z"
      },
      {
        "duration": 20,
        "start_time": "2022-04-24T17:50:46.751Z"
      },
      {
        "duration": 21,
        "start_time": "2022-04-24T17:50:53.313Z"
      },
      {
        "duration": 15,
        "start_time": "2022-04-24T17:53:35.417Z"
      },
      {
        "duration": 4,
        "start_time": "2022-04-24T17:57:32.376Z"
      },
      {
        "duration": 20,
        "start_time": "2022-04-24T17:58:13.746Z"
      },
      {
        "duration": 9,
        "start_time": "2022-04-24T17:58:16.879Z"
      },
      {
        "duration": 405,
        "start_time": "2022-04-28T20:27:47.942Z"
      },
      {
        "duration": 60,
        "start_time": "2022-04-28T20:27:49.805Z"
      },
      {
        "duration": 18,
        "start_time": "2022-04-28T20:27:52.326Z"
      },
      {
        "duration": 15,
        "start_time": "2022-04-28T20:27:55.465Z"
      },
      {
        "duration": 9,
        "start_time": "2022-04-28T20:28:01.832Z"
      },
      {
        "duration": 61,
        "start_time": "2022-04-28T20:37:45.405Z"
      },
      {
        "duration": 8,
        "start_time": "2022-04-28T20:37:55.068Z"
      },
      {
        "duration": 7,
        "start_time": "2022-04-28T20:38:29.985Z"
      },
      {
        "duration": 7,
        "start_time": "2022-04-28T20:38:35.117Z"
      },
      {
        "duration": 8,
        "start_time": "2022-04-28T20:38:43.005Z"
      },
      {
        "duration": 4,
        "start_time": "2022-04-28T20:39:13.215Z"
      },
      {
        "duration": 4,
        "start_time": "2022-04-28T20:40:10.292Z"
      },
      {
        "duration": 6,
        "start_time": "2022-04-28T20:48:37.171Z"
      },
      {
        "duration": 5,
        "start_time": "2022-04-28T20:49:42.341Z"
      },
      {
        "duration": 18,
        "start_time": "2022-04-28T20:53:37.843Z"
      },
      {
        "duration": 17,
        "start_time": "2022-04-28T20:53:59.904Z"
      },
      {
        "duration": 10,
        "start_time": "2022-04-28T20:55:13.615Z"
      },
      {
        "duration": 7,
        "start_time": "2022-04-28T20:55:28.949Z"
      },
      {
        "duration": 927,
        "start_time": "2022-04-28T21:05:11.475Z"
      },
      {
        "duration": 213,
        "start_time": "2022-04-28T21:05:19.073Z"
      },
      {
        "duration": 9,
        "start_time": "2022-04-28T21:08:32.519Z"
      },
      {
        "duration": 96,
        "start_time": "2022-04-28T21:09:09.327Z"
      },
      {
        "duration": 18,
        "start_time": "2022-04-28T21:10:03.629Z"
      },
      {
        "duration": 109,
        "start_time": "2022-04-28T21:10:07.227Z"
      },
      {
        "duration": 110,
        "start_time": "2022-04-28T21:10:23.039Z"
      },
      {
        "duration": 95,
        "start_time": "2022-04-28T21:10:47.908Z"
      },
      {
        "duration": 651,
        "start_time": "2022-04-28T21:17:42.398Z"
      },
      {
        "duration": 9,
        "start_time": "2022-04-28T21:18:49.799Z"
      },
      {
        "duration": 13,
        "start_time": "2022-04-28T21:19:18.536Z"
      },
      {
        "duration": 13,
        "start_time": "2022-04-28T21:20:48.722Z"
      },
      {
        "duration": 30,
        "start_time": "2022-04-28T21:25:33.379Z"
      },
      {
        "duration": 480,
        "start_time": "2022-04-28T21:30:30.238Z"
      },
      {
        "duration": 21,
        "start_time": "2022-04-28T21:30:47.431Z"
      },
      {
        "duration": 13,
        "start_time": "2022-04-28T21:31:01.019Z"
      },
      {
        "duration": 4,
        "start_time": "2022-04-28T21:31:44.915Z"
      },
      {
        "duration": 9,
        "start_time": "2022-04-28T21:32:41.385Z"
      },
      {
        "duration": 82,
        "start_time": "2022-04-28T21:33:25.976Z"
      },
      {
        "duration": 10,
        "start_time": "2022-04-28T21:36:32.038Z"
      },
      {
        "duration": 8,
        "start_time": "2022-04-28T21:36:41.839Z"
      },
      {
        "duration": 10,
        "start_time": "2022-04-28T21:37:34.172Z"
      },
      {
        "duration": 34,
        "start_time": "2022-04-28T21:38:17.174Z"
      },
      {
        "duration": 28,
        "start_time": "2022-04-28T21:40:05.919Z"
      },
      {
        "duration": 84,
        "start_time": "2022-04-28T21:43:39.739Z"
      },
      {
        "duration": 29,
        "start_time": "2022-04-28T21:44:56.685Z"
      },
      {
        "duration": 154,
        "start_time": "2022-04-28T21:46:00.495Z"
      },
      {
        "duration": 13,
        "start_time": "2022-04-28T21:48:22.095Z"
      },
      {
        "duration": 10,
        "start_time": "2022-04-28T21:53:51.924Z"
      },
      {
        "duration": 9,
        "start_time": "2022-04-28T21:54:11.248Z"
      },
      {
        "duration": 8,
        "start_time": "2022-04-28T21:54:19.216Z"
      },
      {
        "duration": 8,
        "start_time": "2022-04-28T21:55:26.865Z"
      },
      {
        "duration": 8,
        "start_time": "2022-04-28T21:55:45.108Z"
      },
      {
        "duration": 9,
        "start_time": "2022-04-28T21:55:59.410Z"
      },
      {
        "duration": 9,
        "start_time": "2022-04-28T21:56:44.677Z"
      },
      {
        "duration": 9,
        "start_time": "2022-04-28T22:02:21.896Z"
      },
      {
        "duration": 13,
        "start_time": "2022-04-28T22:02:28.523Z"
      },
      {
        "duration": 13,
        "start_time": "2022-04-28T22:02:36.930Z"
      },
      {
        "duration": 9,
        "start_time": "2022-04-28T22:03:28.202Z"
      },
      {
        "duration": 6,
        "start_time": "2022-04-28T22:04:16.974Z"
      },
      {
        "duration": 7,
        "start_time": "2022-04-28T22:04:26.224Z"
      },
      {
        "duration": 17,
        "start_time": "2022-04-28T22:04:40.127Z"
      },
      {
        "duration": 5,
        "start_time": "2022-04-28T22:05:03.715Z"
      },
      {
        "duration": 17,
        "start_time": "2022-04-28T22:05:07.670Z"
      },
      {
        "duration": 13,
        "start_time": "2022-04-28T22:05:16.590Z"
      },
      {
        "duration": 10,
        "start_time": "2022-04-28T22:07:17.749Z"
      },
      {
        "duration": 400,
        "start_time": "2022-05-12T20:34:59.669Z"
      },
      {
        "duration": 82,
        "start_time": "2022-05-12T20:35:00.362Z"
      },
      {
        "duration": 22,
        "start_time": "2022-05-12T20:35:01.094Z"
      },
      {
        "duration": 18,
        "start_time": "2022-05-12T20:35:01.902Z"
      },
      {
        "duration": 9,
        "start_time": "2022-05-12T20:35:05.352Z"
      },
      {
        "duration": 5,
        "start_time": "2022-05-12T20:35:09.878Z"
      },
      {
        "duration": 832,
        "start_time": "2022-05-12T20:35:15.784Z"
      },
      {
        "duration": 141,
        "start_time": "2022-05-12T20:35:28.137Z"
      },
      {
        "duration": 3,
        "start_time": "2022-05-12T20:59:23.975Z"
      },
      {
        "duration": 4,
        "start_time": "2022-05-12T20:59:26.229Z"
      },
      {
        "duration": 432,
        "start_time": "2022-05-12T20:59:49.378Z"
      },
      {
        "duration": 82,
        "start_time": "2022-05-12T20:59:50.197Z"
      },
      {
        "duration": 19,
        "start_time": "2022-05-12T20:59:51.201Z"
      },
      {
        "duration": 16,
        "start_time": "2022-05-12T20:59:52.160Z"
      },
      {
        "duration": 10,
        "start_time": "2022-05-12T20:59:54.695Z"
      },
      {
        "duration": 4,
        "start_time": "2022-05-12T20:59:56.399Z"
      },
      {
        "duration": 364,
        "start_time": "2022-05-12T21:03:15.177Z"
      },
      {
        "duration": 164,
        "start_time": "2022-05-12T21:05:11.648Z"
      },
      {
        "duration": 87,
        "start_time": "2022-05-12T21:07:40.790Z"
      },
      {
        "duration": 94,
        "start_time": "2022-05-12T21:08:09.642Z"
      },
      {
        "duration": 127,
        "start_time": "2022-05-12T21:11:48.354Z"
      },
      {
        "duration": 5,
        "start_time": "2022-05-12T21:13:36.414Z"
      },
      {
        "duration": 5,
        "start_time": "2022-05-12T21:13:43.143Z"
      },
      {
        "duration": 5,
        "start_time": "2022-05-12T21:13:58.941Z"
      },
      {
        "duration": 134,
        "start_time": "2022-05-12T21:19:47.382Z"
      },
      {
        "duration": 5,
        "start_time": "2022-05-12T21:20:27.448Z"
      },
      {
        "duration": 4,
        "start_time": "2022-05-12T21:23:27.314Z"
      },
      {
        "duration": 74,
        "start_time": "2022-05-12T21:23:36.412Z"
      },
      {
        "duration": 12,
        "start_time": "2022-05-12T21:26:18.989Z"
      },
      {
        "duration": 11,
        "start_time": "2022-05-12T21:38:30.001Z"
      },
      {
        "duration": 11,
        "start_time": "2022-05-12T21:38:42.207Z"
      },
      {
        "duration": 10,
        "start_time": "2022-05-12T21:38:49.438Z"
      },
      {
        "duration": 11,
        "start_time": "2022-05-12T21:40:13.534Z"
      },
      {
        "duration": 9,
        "start_time": "2022-05-12T21:40:29.140Z"
      },
      {
        "duration": 11,
        "start_time": "2022-05-12T21:41:35.971Z"
      },
      {
        "duration": 10,
        "start_time": "2022-05-12T21:41:46.625Z"
      },
      {
        "duration": 10,
        "start_time": "2022-05-12T21:42:02.092Z"
      },
      {
        "duration": 10,
        "start_time": "2022-05-12T21:50:20.256Z"
      },
      {
        "duration": 10,
        "start_time": "2022-05-12T21:50:26.408Z"
      },
      {
        "duration": 11,
        "start_time": "2022-05-12T21:50:50.607Z"
      },
      {
        "duration": 11,
        "start_time": "2022-05-12T21:51:30.262Z"
      },
      {
        "duration": 10,
        "start_time": "2022-05-12T21:53:18.691Z"
      },
      {
        "duration": 3,
        "start_time": "2022-05-12T21:53:25.509Z"
      },
      {
        "duration": 420,
        "start_time": "2022-05-12T21:53:28.079Z"
      },
      {
        "duration": 58,
        "start_time": "2022-05-12T21:53:31.696Z"
      },
      {
        "duration": 14,
        "start_time": "2022-05-12T21:53:32.697Z"
      },
      {
        "duration": 11,
        "start_time": "2022-05-12T21:53:39.269Z"
      },
      {
        "duration": 4,
        "start_time": "2022-05-12T21:53:41.337Z"
      },
      {
        "duration": 2,
        "start_time": "2022-05-12T21:53:44.718Z"
      },
      {
        "duration": 85,
        "start_time": "2022-05-12T21:53:45.798Z"
      },
      {
        "duration": 87,
        "start_time": "2022-05-12T21:53:48.315Z"
      },
      {
        "duration": 148,
        "start_time": "2022-05-12T21:53:50.238Z"
      },
      {
        "duration": 4,
        "start_time": "2022-05-12T21:53:52.128Z"
      },
      {
        "duration": 8,
        "start_time": "2022-05-12T21:53:54.963Z"
      },
      {
        "duration": 14,
        "start_time": "2022-05-12T21:54:09.487Z"
      },
      {
        "duration": 4,
        "start_time": "2022-05-12T21:55:41.714Z"
      },
      {
        "duration": 4,
        "start_time": "2022-05-12T21:57:56.920Z"
      },
      {
        "duration": 14,
        "start_time": "2022-05-12T21:57:59.161Z"
      },
      {
        "duration": 10,
        "start_time": "2022-05-12T21:58:03.341Z"
      },
      {
        "duration": 38,
        "start_time": "2022-05-12T22:11:59.669Z"
      },
      {
        "duration": 9,
        "start_time": "2022-05-12T22:14:09.742Z"
      },
      {
        "duration": 13,
        "start_time": "2022-05-12T22:14:36.728Z"
      },
      {
        "duration": 14,
        "start_time": "2022-05-12T22:15:07.491Z"
      },
      {
        "duration": 14,
        "start_time": "2022-05-12T22:16:14.302Z"
      },
      {
        "duration": 53,
        "start_time": "2022-05-12T22:16:49.743Z"
      },
      {
        "duration": 12,
        "start_time": "2022-05-12T22:16:55.173Z"
      },
      {
        "duration": 11,
        "start_time": "2022-05-12T22:17:45.047Z"
      },
      {
        "duration": 13,
        "start_time": "2022-05-12T22:18:16.676Z"
      },
      {
        "duration": 13,
        "start_time": "2022-05-12T22:18:29.619Z"
      },
      {
        "duration": 12,
        "start_time": "2022-05-12T22:18:37.395Z"
      },
      {
        "duration": 4,
        "start_time": "2022-05-12T22:20:46.013Z"
      },
      {
        "duration": 22,
        "start_time": "2022-05-12T22:20:52.924Z"
      },
      {
        "duration": 419,
        "start_time": "2022-06-12T13:57:52.807Z"
      },
      {
        "duration": 300,
        "start_time": "2022-06-12T13:57:55.148Z"
      },
      {
        "duration": 21,
        "start_time": "2022-06-12T13:57:56.625Z"
      },
      {
        "duration": 18,
        "start_time": "2022-06-12T13:57:59.315Z"
      },
      {
        "duration": 17,
        "start_time": "2022-06-12T13:58:03.889Z"
      },
      {
        "duration": 5,
        "start_time": "2022-06-12T13:58:06.185Z"
      },
      {
        "duration": 943,
        "start_time": "2022-06-12T13:58:08.921Z"
      },
      {
        "duration": 154,
        "start_time": "2022-06-12T13:58:11.600Z"
      },
      {
        "duration": 97,
        "start_time": "2022-06-12T13:58:14.077Z"
      },
      {
        "duration": 135,
        "start_time": "2022-06-12T13:58:16.453Z"
      },
      {
        "duration": 7,
        "start_time": "2022-06-12T13:58:19.017Z"
      },
      {
        "duration": 8,
        "start_time": "2022-06-12T13:58:22.405Z"
      },
      {
        "duration": 18,
        "start_time": "2022-06-12T13:58:24.392Z"
      },
      {
        "duration": 5,
        "start_time": "2022-06-12T13:58:28.869Z"
      },
      {
        "duration": 5,
        "start_time": "2022-06-12T13:58:31.345Z"
      },
      {
        "duration": 16,
        "start_time": "2022-06-12T13:58:35.139Z"
      },
      {
        "duration": 19,
        "start_time": "2022-06-12T13:58:38.088Z"
      },
      {
        "duration": 20,
        "start_time": "2022-06-12T13:58:42.362Z"
      },
      {
        "duration": 98,
        "start_time": "2022-06-12T14:16:12.608Z"
      },
      {
        "duration": 4,
        "start_time": "2022-06-12T14:16:21.855Z"
      },
      {
        "duration": 4,
        "start_time": "2022-06-12T14:16:30.010Z"
      },
      {
        "duration": 3,
        "start_time": "2022-06-12T14:16:46.780Z"
      },
      {
        "duration": 3,
        "start_time": "2022-06-12T14:19:40.874Z"
      },
      {
        "duration": 3,
        "start_time": "2022-06-12T14:19:53.145Z"
      },
      {
        "duration": 5,
        "start_time": "2022-06-12T14:20:00.266Z"
      },
      {
        "duration": 3,
        "start_time": "2022-06-12T14:20:04.381Z"
      },
      {
        "duration": 3,
        "start_time": "2022-06-12T14:20:35.052Z"
      },
      {
        "duration": 2,
        "start_time": "2022-06-12T14:31:11.583Z"
      },
      {
        "duration": 17,
        "start_time": "2022-06-12T14:37:14.590Z"
      },
      {
        "duration": 4,
        "start_time": "2022-06-12T14:43:54.120Z"
      },
      {
        "duration": 7,
        "start_time": "2022-06-12T14:44:27.946Z"
      },
      {
        "duration": 8,
        "start_time": "2022-06-12T15:00:17.538Z"
      },
      {
        "duration": 8,
        "start_time": "2022-06-12T15:00:33.276Z"
      },
      {
        "duration": 10,
        "start_time": "2022-06-12T15:16:57.433Z"
      },
      {
        "duration": 11,
        "start_time": "2022-06-12T15:17:57.670Z"
      },
      {
        "duration": 7,
        "start_time": "2022-06-12T15:18:06.306Z"
      },
      {
        "duration": 8,
        "start_time": "2022-06-12T15:24:53.870Z"
      },
      {
        "duration": 8,
        "start_time": "2022-06-12T15:26:44.764Z"
      },
      {
        "duration": 10,
        "start_time": "2022-06-12T15:27:24.492Z"
      },
      {
        "duration": 7,
        "start_time": "2022-06-12T15:27:58.246Z"
      },
      {
        "duration": 7,
        "start_time": "2022-06-12T15:29:20.217Z"
      },
      {
        "duration": 7,
        "start_time": "2022-06-12T15:29:30.242Z"
      },
      {
        "duration": 6,
        "start_time": "2022-06-12T15:29:36.421Z"
      },
      {
        "duration": 379,
        "start_time": "2022-06-12T16:46:18.724Z"
      },
      {
        "duration": 345,
        "start_time": "2022-06-12T16:47:12.326Z"
      },
      {
        "duration": 16,
        "start_time": "2022-06-12T16:47:37.504Z"
      },
      {
        "duration": 30,
        "start_time": "2022-06-12T16:47:58.578Z"
      },
      {
        "duration": 419,
        "start_time": "2022-06-14T19:39:05.264Z"
      },
      {
        "duration": 308,
        "start_time": "2022-06-14T19:39:06.866Z"
      },
      {
        "duration": 23,
        "start_time": "2022-06-14T19:39:09.029Z"
      },
      {
        "duration": 16,
        "start_time": "2022-06-14T19:39:11.562Z"
      },
      {
        "duration": 13,
        "start_time": "2022-06-14T19:39:15.236Z"
      },
      {
        "duration": 5,
        "start_time": "2022-06-14T19:39:17.722Z"
      },
      {
        "duration": 434,
        "start_time": "2022-06-14T19:39:21.230Z"
      },
      {
        "duration": 114,
        "start_time": "2022-06-14T19:39:23.743Z"
      },
      {
        "duration": 121,
        "start_time": "2022-06-14T19:39:26.757Z"
      },
      {
        "duration": 160,
        "start_time": "2022-06-14T19:39:29.387Z"
      },
      {
        "duration": 9,
        "start_time": "2022-06-14T19:39:32.153Z"
      },
      {
        "duration": 9,
        "start_time": "2022-06-14T19:39:34.776Z"
      },
      {
        "duration": 15,
        "start_time": "2022-06-14T19:39:37.322Z"
      },
      {
        "duration": 4,
        "start_time": "2022-06-14T19:39:40.620Z"
      },
      {
        "duration": 4,
        "start_time": "2022-06-14T19:39:43.119Z"
      },
      {
        "duration": 13,
        "start_time": "2022-06-14T19:39:45.650Z"
      },
      {
        "duration": 15,
        "start_time": "2022-06-14T19:39:48.941Z"
      },
      {
        "duration": 22,
        "start_time": "2022-06-14T19:39:51.900Z"
      },
      {
        "duration": 12,
        "start_time": "2022-06-14T19:40:03.868Z"
      },
      {
        "duration": 4,
        "start_time": "2022-06-14T19:40:07.970Z"
      },
      {
        "duration": 13,
        "start_time": "2022-06-14T19:40:19.905Z"
      },
      {
        "duration": 13,
        "start_time": "2022-06-14T19:40:25.005Z"
      },
      {
        "duration": 16,
        "start_time": "2022-06-14T19:40:32.438Z"
      },
      {
        "duration": 70,
        "start_time": "2022-06-14T19:40:47.630Z"
      },
      {
        "duration": 13,
        "start_time": "2022-06-14T19:40:52.531Z"
      },
      {
        "duration": 15,
        "start_time": "2022-06-14T19:41:01.581Z"
      },
      {
        "duration": 10,
        "start_time": "2022-06-14T19:41:34.411Z"
      },
      {
        "duration": 12,
        "start_time": "2022-06-14T19:41:36.582Z"
      },
      {
        "duration": 9,
        "start_time": "2022-06-14T19:41:38.496Z"
      },
      {
        "duration": 8,
        "start_time": "2022-06-14T19:41:41.129Z"
      },
      {
        "duration": 7,
        "start_time": "2022-06-14T19:41:43.471Z"
      },
      {
        "duration": 8,
        "start_time": "2022-06-14T19:43:06.121Z"
      },
      {
        "duration": 15,
        "start_time": "2022-06-14T19:48:59.487Z"
      },
      {
        "duration": 7,
        "start_time": "2022-06-14T19:49:45.550Z"
      },
      {
        "duration": 7,
        "start_time": "2022-06-14T19:50:45.225Z"
      },
      {
        "duration": 7,
        "start_time": "2022-06-14T19:51:23.338Z"
      },
      {
        "duration": 7,
        "start_time": "2022-06-14T19:54:44.611Z"
      },
      {
        "duration": 7,
        "start_time": "2022-06-14T19:54:51.925Z"
      },
      {
        "duration": 10,
        "start_time": "2022-06-14T19:57:09.190Z"
      },
      {
        "duration": 8,
        "start_time": "2022-06-14T19:57:36.994Z"
      },
      {
        "duration": 7,
        "start_time": "2022-06-14T19:57:55.113Z"
      },
      {
        "duration": 11,
        "start_time": "2022-06-14T20:00:48.167Z"
      },
      {
        "duration": 6,
        "start_time": "2022-06-14T20:03:02.362Z"
      },
      {
        "duration": 21,
        "start_time": "2022-06-14T20:03:31.314Z"
      },
      {
        "duration": 7,
        "start_time": "2022-06-14T20:04:22.326Z"
      },
      {
        "duration": 7,
        "start_time": "2022-06-14T20:04:37.438Z"
      },
      {
        "duration": 8,
        "start_time": "2022-06-14T20:06:23.696Z"
      },
      {
        "duration": 19,
        "start_time": "2022-06-14T20:06:29.170Z"
      },
      {
        "duration": 15,
        "start_time": "2022-06-14T20:11:32.509Z"
      },
      {
        "duration": 29,
        "start_time": "2022-06-14T20:11:40.228Z"
      },
      {
        "duration": 31,
        "start_time": "2022-06-14T20:14:00.771Z"
      },
      {
        "duration": 41,
        "start_time": "2022-06-14T20:17:32.243Z"
      },
      {
        "duration": 36,
        "start_time": "2022-06-14T20:17:40.343Z"
      },
      {
        "duration": 39,
        "start_time": "2022-06-14T20:17:54.416Z"
      },
      {
        "duration": 39,
        "start_time": "2022-06-14T20:18:03.001Z"
      },
      {
        "duration": 47,
        "start_time": "2022-06-14T20:18:16.155Z"
      },
      {
        "duration": 47,
        "start_time": "2022-06-14T20:22:31.681Z"
      },
      {
        "duration": 53,
        "start_time": "2022-06-14T20:41:21.231Z"
      },
      {
        "duration": 44,
        "start_time": "2022-06-14T20:41:33.737Z"
      },
      {
        "duration": 7,
        "start_time": "2022-06-14T20:41:56.869Z"
      },
      {
        "duration": 43,
        "start_time": "2022-06-14T20:42:28.247Z"
      },
      {
        "duration": 9,
        "start_time": "2022-06-14T20:43:08.521Z"
      },
      {
        "duration": 7,
        "start_time": "2022-06-14T20:45:06.599Z"
      },
      {
        "duration": 32,
        "start_time": "2022-06-14T20:45:14.421Z"
      },
      {
        "duration": 8,
        "start_time": "2022-06-14T20:45:34.754Z"
      },
      {
        "duration": 9,
        "start_time": "2022-06-14T20:45:43.958Z"
      },
      {
        "duration": 35,
        "start_time": "2022-06-14T20:46:55.802Z"
      },
      {
        "duration": 13,
        "start_time": "2022-06-14T20:46:59.233Z"
      },
      {
        "duration": 18,
        "start_time": "2022-06-14T20:47:03.502Z"
      },
      {
        "duration": 11,
        "start_time": "2022-06-14T20:47:28.623Z"
      },
      {
        "duration": 22,
        "start_time": "2022-06-14T20:47:33.039Z"
      },
      {
        "duration": 37,
        "start_time": "2022-06-14T20:49:56.991Z"
      },
      {
        "duration": 13,
        "start_time": "2022-06-14T20:50:02.300Z"
      },
      {
        "duration": 25,
        "start_time": "2022-06-14T20:50:06.418Z"
      },
      {
        "duration": 9,
        "start_time": "2022-06-14T20:50:10.949Z"
      },
      {
        "duration": 8,
        "start_time": "2022-06-14T20:50:49.432Z"
      },
      {
        "duration": 37,
        "start_time": "2022-06-14T20:51:28.352Z"
      },
      {
        "duration": 13,
        "start_time": "2022-06-14T20:51:31.640Z"
      },
      {
        "duration": 16,
        "start_time": "2022-06-14T20:51:35.135Z"
      },
      {
        "duration": 7,
        "start_time": "2022-06-14T20:52:19.021Z"
      },
      {
        "duration": 38,
        "start_time": "2022-06-14T20:54:58.344Z"
      },
      {
        "duration": 13,
        "start_time": "2022-06-14T20:55:02.905Z"
      },
      {
        "duration": 16,
        "start_time": "2022-06-14T20:55:05.916Z"
      },
      {
        "duration": 3,
        "start_time": "2022-06-14T20:57:07.512Z"
      },
      {
        "duration": 443,
        "start_time": "2022-06-14T20:57:22.200Z"
      },
      {
        "duration": 96,
        "start_time": "2022-06-14T20:57:24.451Z"
      },
      {
        "duration": 18,
        "start_time": "2022-06-14T20:59:47.519Z"
      },
      {
        "duration": 444,
        "start_time": "2022-06-14T21:00:03.032Z"
      },
      {
        "duration": 85,
        "start_time": "2022-06-14T21:00:05.088Z"
      },
      {
        "duration": 21,
        "start_time": "2022-06-14T21:00:06.715Z"
      },
      {
        "duration": 18,
        "start_time": "2022-06-14T21:00:10.610Z"
      },
      {
        "duration": 10,
        "start_time": "2022-06-14T21:00:14.855Z"
      },
      {
        "duration": 4,
        "start_time": "2022-06-14T21:00:17.000Z"
      },
      {
        "duration": 212,
        "start_time": "2022-06-14T21:00:20.998Z"
      },
      {
        "duration": 112,
        "start_time": "2022-06-14T21:00:23.282Z"
      },
      {
        "duration": 107,
        "start_time": "2022-06-14T21:00:26.091Z"
      },
      {
        "duration": 149,
        "start_time": "2022-06-14T21:00:28.156Z"
      },
      {
        "duration": 6,
        "start_time": "2022-06-14T21:00:30.689Z"
      },
      {
        "duration": 7,
        "start_time": "2022-06-14T21:00:34.886Z"
      },
      {
        "duration": 14,
        "start_time": "2022-06-14T21:00:37.725Z"
      },
      {
        "duration": 5,
        "start_time": "2022-06-14T21:00:40.907Z"
      },
      {
        "duration": 4,
        "start_time": "2022-06-14T21:00:43.491Z"
      },
      {
        "duration": 14,
        "start_time": "2022-06-14T21:00:46.885Z"
      },
      {
        "duration": 11,
        "start_time": "2022-06-14T21:00:49.945Z"
      },
      {
        "duration": 14,
        "start_time": "2022-06-14T21:00:53.888Z"
      },
      {
        "duration": 4,
        "start_time": "2022-06-14T21:00:56.201Z"
      },
      {
        "duration": 13,
        "start_time": "2022-06-14T21:01:02.544Z"
      },
      {
        "duration": 7,
        "start_time": "2022-06-14T21:01:06.148Z"
      },
      {
        "duration": 17,
        "start_time": "2022-06-14T21:01:08.711Z"
      },
      {
        "duration": 14,
        "start_time": "2022-06-14T21:01:11.551Z"
      },
      {
        "duration": 7,
        "start_time": "2022-06-14T21:01:13.521Z"
      },
      {
        "duration": 9,
        "start_time": "2022-06-14T21:01:15.360Z"
      },
      {
        "duration": 10,
        "start_time": "2022-06-14T21:01:20.503Z"
      },
      {
        "duration": 28,
        "start_time": "2022-06-14T21:01:23.602Z"
      },
      {
        "duration": 22,
        "start_time": "2022-06-14T21:01:28.413Z"
      },
      {
        "duration": 13,
        "start_time": "2022-06-14T21:02:11.842Z"
      },
      {
        "duration": 13,
        "start_time": "2022-06-14T21:02:28.440Z"
      },
      {
        "duration": 7,
        "start_time": "2022-06-14T21:03:12.365Z"
      },
      {
        "duration": 19,
        "start_time": "2022-06-14T21:03:18.090Z"
      },
      {
        "duration": 13,
        "start_time": "2022-06-14T21:03:24.721Z"
      },
      {
        "duration": 15,
        "start_time": "2022-06-14T21:03:31.589Z"
      },
      {
        "duration": 12,
        "start_time": "2022-06-14T21:03:41.550Z"
      },
      {
        "duration": 26,
        "start_time": "2022-06-14T21:03:44.499Z"
      },
      {
        "duration": 6,
        "start_time": "2022-06-14T21:03:51.604Z"
      },
      {
        "duration": 7,
        "start_time": "2022-06-14T21:03:56.237Z"
      },
      {
        "duration": 24,
        "start_time": "2022-06-14T21:04:06.098Z"
      },
      {
        "duration": 56,
        "start_time": "2022-06-14T21:04:12.322Z"
      },
      {
        "duration": 17,
        "start_time": "2022-06-14T21:04:42.875Z"
      },
      {
        "duration": 7,
        "start_time": "2022-06-14T21:05:10.445Z"
      },
      {
        "duration": 11,
        "start_time": "2022-06-14T21:44:38.742Z"
      },
      {
        "duration": 18,
        "start_time": "2022-06-14T21:47:10.624Z"
      },
      {
        "duration": 22,
        "start_time": "2022-06-14T21:49:46.760Z"
      },
      {
        "duration": 27,
        "start_time": "2022-06-14T21:49:53.847Z"
      },
      {
        "duration": 20,
        "start_time": "2022-06-14T21:51:27.887Z"
      },
      {
        "duration": 18,
        "start_time": "2022-06-14T21:51:34.993Z"
      },
      {
        "duration": 393,
        "start_time": "2022-06-16T09:12:32.955Z"
      },
      {
        "duration": 280,
        "start_time": "2022-06-16T09:12:34.982Z"
      },
      {
        "duration": 19,
        "start_time": "2022-06-16T09:12:36.644Z"
      },
      {
        "duration": 15,
        "start_time": "2022-06-16T09:12:39.739Z"
      },
      {
        "duration": 14,
        "start_time": "2022-06-16T09:12:43.262Z"
      },
      {
        "duration": 4,
        "start_time": "2022-06-16T09:12:45.524Z"
      },
      {
        "duration": 348,
        "start_time": "2022-06-16T09:12:48.059Z"
      },
      {
        "duration": 105,
        "start_time": "2022-06-16T09:12:50.379Z"
      },
      {
        "duration": 89,
        "start_time": "2022-06-16T09:12:52.707Z"
      },
      {
        "duration": 126,
        "start_time": "2022-06-16T09:12:54.944Z"
      },
      {
        "duration": 5,
        "start_time": "2022-06-16T09:12:57.461Z"
      },
      {
        "duration": 7,
        "start_time": "2022-06-16T09:12:59.791Z"
      },
      {
        "duration": 15,
        "start_time": "2022-06-16T09:13:01.880Z"
      },
      {
        "duration": 4,
        "start_time": "2022-06-16T09:13:04.481Z"
      },
      {
        "duration": 5,
        "start_time": "2022-06-16T09:13:06.605Z"
      },
      {
        "duration": 14,
        "start_time": "2022-06-16T09:13:08.689Z"
      },
      {
        "duration": 15,
        "start_time": "2022-06-16T09:13:11.010Z"
      },
      {
        "duration": 15,
        "start_time": "2022-06-16T09:13:13.576Z"
      },
      {
        "duration": 4,
        "start_time": "2022-06-16T09:13:15.825Z"
      },
      {
        "duration": 8,
        "start_time": "2022-06-16T09:13:18.162Z"
      },
      {
        "duration": 18,
        "start_time": "2022-06-16T09:13:20.616Z"
      },
      {
        "duration": 9,
        "start_time": "2022-06-16T09:13:22.899Z"
      },
      {
        "duration": 6,
        "start_time": "2022-06-16T09:13:25.170Z"
      },
      {
        "duration": 6,
        "start_time": "2022-06-16T09:13:26.832Z"
      },
      {
        "duration": 9,
        "start_time": "2022-06-16T09:13:29.449Z"
      },
      {
        "duration": 18,
        "start_time": "2022-06-16T09:13:32.784Z"
      },
      {
        "duration": 17,
        "start_time": "2022-06-16T09:13:39.077Z"
      },
      {
        "duration": 15,
        "start_time": "2022-06-16T09:13:42.584Z"
      },
      {
        "duration": 12,
        "start_time": "2022-06-16T09:13:46.794Z"
      },
      {
        "duration": 11,
        "start_time": "2022-06-16T09:13:55.983Z"
      },
      {
        "duration": 8,
        "start_time": "2022-06-16T09:13:59.518Z"
      },
      {
        "duration": 21,
        "start_time": "2022-06-16T09:14:02.012Z"
      },
      {
        "duration": 12,
        "start_time": "2022-06-16T09:14:08.629Z"
      },
      {
        "duration": 15,
        "start_time": "2022-06-16T09:14:11.792Z"
      },
      {
        "duration": 9,
        "start_time": "2022-06-16T09:14:13.693Z"
      },
      {
        "duration": 19,
        "start_time": "2022-06-16T09:14:16.315Z"
      },
      {
        "duration": 21,
        "start_time": "2022-06-16T09:14:18.119Z"
      },
      {
        "duration": 17,
        "start_time": "2022-06-16T09:14:20.664Z"
      },
      {
        "duration": 80,
        "start_time": "2022-06-16T09:37:28.976Z"
      },
      {
        "duration": 8,
        "start_time": "2022-06-16T09:37:50.779Z"
      },
      {
        "duration": 12,
        "start_time": "2022-06-16T09:38:18.399Z"
      },
      {
        "duration": 456,
        "start_time": "2022-06-16T09:47:58.755Z"
      },
      {
        "duration": 11,
        "start_time": "2022-06-16T09:49:09.011Z"
      },
      {
        "duration": 11,
        "start_time": "2022-06-16T09:55:29.525Z"
      },
      {
        "duration": 7,
        "start_time": "2022-06-16T09:55:42.055Z"
      },
      {
        "duration": 6,
        "start_time": "2022-06-16T09:55:51.908Z"
      },
      {
        "duration": 8,
        "start_time": "2022-06-16T09:55:57.940Z"
      },
      {
        "duration": 9,
        "start_time": "2022-06-16T09:56:01.587Z"
      },
      {
        "duration": 13,
        "start_time": "2022-06-16T09:59:55.911Z"
      },
      {
        "duration": 12,
        "start_time": "2022-06-16T10:01:36.766Z"
      },
      {
        "duration": 12,
        "start_time": "2022-06-16T10:01:38.652Z"
      },
      {
        "duration": 11,
        "start_time": "2022-06-16T10:01:40.893Z"
      },
      {
        "duration": 8,
        "start_time": "2022-06-16T10:01:43.220Z"
      },
      {
        "duration": 17,
        "start_time": "2022-06-16T10:01:45.331Z"
      },
      {
        "duration": 13,
        "start_time": "2022-06-16T10:01:47.867Z"
      },
      {
        "duration": 2,
        "start_time": "2022-06-16T10:02:50.480Z"
      },
      {
        "duration": 462,
        "start_time": "2022-06-16T10:03:01.594Z"
      },
      {
        "duration": 87,
        "start_time": "2022-06-16T10:03:04.033Z"
      },
      {
        "duration": 19,
        "start_time": "2022-06-16T10:03:06.220Z"
      },
      {
        "duration": 16,
        "start_time": "2022-06-16T10:03:09.079Z"
      },
      {
        "duration": 13,
        "start_time": "2022-06-16T10:03:12.720Z"
      },
      {
        "duration": 4,
        "start_time": "2022-06-16T10:03:15.078Z"
      },
      {
        "duration": 219,
        "start_time": "2022-06-16T10:03:17.780Z"
      },
      {
        "duration": 113,
        "start_time": "2022-06-16T10:03:19.930Z"
      },
      {
        "duration": 91,
        "start_time": "2022-06-16T10:03:22.403Z"
      },
      {
        "duration": 134,
        "start_time": "2022-06-16T10:03:25.111Z"
      },
      {
        "duration": 5,
        "start_time": "2022-06-16T10:03:27.759Z"
      },
      {
        "duration": 7,
        "start_time": "2022-06-16T10:03:30.427Z"
      },
      {
        "duration": 14,
        "start_time": "2022-06-16T10:03:32.115Z"
      },
      {
        "duration": 4,
        "start_time": "2022-06-16T10:03:34.980Z"
      },
      {
        "duration": 7,
        "start_time": "2022-06-16T10:03:37.599Z"
      },
      {
        "duration": 20,
        "start_time": "2022-06-16T10:03:39.279Z"
      },
      {
        "duration": 10,
        "start_time": "2022-06-16T10:03:42.945Z"
      },
      {
        "duration": 13,
        "start_time": "2022-06-16T10:03:45.807Z"
      },
      {
        "duration": 3,
        "start_time": "2022-06-16T10:03:49.406Z"
      },
      {
        "duration": 7,
        "start_time": "2022-06-16T10:03:51.752Z"
      },
      {
        "duration": 17,
        "start_time": "2022-06-16T10:03:54.263Z"
      },
      {
        "duration": 9,
        "start_time": "2022-06-16T10:03:56.725Z"
      },
      {
        "duration": 6,
        "start_time": "2022-06-16T10:03:59.411Z"
      },
      {
        "duration": 7,
        "start_time": "2022-06-16T10:04:01.564Z"
      },
      {
        "duration": 6,
        "start_time": "2022-06-16T10:04:04.461Z"
      },
      {
        "duration": 17,
        "start_time": "2022-06-16T10:04:07.783Z"
      },
      {
        "duration": 14,
        "start_time": "2022-06-16T10:04:15.859Z"
      },
      {
        "duration": 15,
        "start_time": "2022-06-16T10:04:18.452Z"
      },
      {
        "duration": 12,
        "start_time": "2022-06-16T10:04:20.691Z"
      },
      {
        "duration": 8,
        "start_time": "2022-06-16T10:06:03.871Z"
      },
      {
        "duration": 20,
        "start_time": "2022-06-16T10:06:07.530Z"
      },
      {
        "duration": 12,
        "start_time": "2022-06-16T10:06:10.159Z"
      },
      {
        "duration": 16,
        "start_time": "2022-06-16T10:06:16.310Z"
      },
      {
        "duration": 7,
        "start_time": "2022-06-16T10:06:18.091Z"
      },
      {
        "duration": 19,
        "start_time": "2022-06-16T10:06:21.772Z"
      },
      {
        "duration": 21,
        "start_time": "2022-06-16T10:06:23.802Z"
      },
      {
        "duration": 18,
        "start_time": "2022-06-16T10:06:26.603Z"
      },
      {
        "duration": 5,
        "start_time": "2022-06-16T10:06:30.491Z"
      },
      {
        "duration": 8,
        "start_time": "2022-06-16T10:06:31.974Z"
      },
      {
        "duration": 8,
        "start_time": "2022-06-16T10:06:34.063Z"
      },
      {
        "duration": 45,
        "start_time": "2022-06-16T12:47:28.790Z"
      },
      {
        "duration": 438,
        "start_time": "2022-06-16T12:47:47.293Z"
      },
      {
        "duration": 415,
        "start_time": "2022-06-16T12:48:01.687Z"
      },
      {
        "duration": 258,
        "start_time": "2022-06-16T12:48:03.411Z"
      },
      {
        "duration": 21,
        "start_time": "2022-06-16T12:48:05.093Z"
      },
      {
        "duration": 14,
        "start_time": "2022-06-16T12:48:10.383Z"
      },
      {
        "duration": 15,
        "start_time": "2022-06-16T12:48:11.212Z"
      },
      {
        "duration": 9,
        "start_time": "2022-06-16T12:48:12.867Z"
      },
      {
        "duration": 4,
        "start_time": "2022-06-16T12:48:13.875Z"
      },
      {
        "duration": 356,
        "start_time": "2022-06-16T12:48:15.706Z"
      },
      {
        "duration": 110,
        "start_time": "2022-06-16T12:48:16.064Z"
      },
      {
        "duration": 89,
        "start_time": "2022-06-16T12:48:16.321Z"
      },
      {
        "duration": 131,
        "start_time": "2022-06-16T12:48:16.651Z"
      },
      {
        "duration": 5,
        "start_time": "2022-06-16T12:48:16.952Z"
      },
      {
        "duration": 7,
        "start_time": "2022-06-16T12:48:17.478Z"
      },
      {
        "duration": 13,
        "start_time": "2022-06-16T12:48:17.695Z"
      },
      {
        "duration": 4,
        "start_time": "2022-06-16T12:48:19.189Z"
      },
      {
        "duration": 4,
        "start_time": "2022-06-16T12:48:20.155Z"
      },
      {
        "duration": 16,
        "start_time": "2022-06-16T12:48:20.611Z"
      },
      {
        "duration": 11,
        "start_time": "2022-06-16T12:48:20.983Z"
      },
      {
        "duration": 13,
        "start_time": "2022-06-16T12:48:22.884Z"
      },
      {
        "duration": 4,
        "start_time": "2022-06-16T12:48:23.771Z"
      },
      {
        "duration": 7,
        "start_time": "2022-06-16T12:48:25.655Z"
      },
      {
        "duration": 12,
        "start_time": "2022-06-16T12:48:26.159Z"
      },
      {
        "duration": 9,
        "start_time": "2022-06-16T12:48:26.575Z"
      },
      {
        "duration": 6,
        "start_time": "2022-06-16T12:48:27.047Z"
      },
      {
        "duration": 7,
        "start_time": "2022-06-16T12:48:27.467Z"
      },
      {
        "duration": 7,
        "start_time": "2022-06-16T12:48:27.892Z"
      },
      {
        "duration": 18,
        "start_time": "2022-06-16T12:48:29.405Z"
      },
      {
        "duration": 13,
        "start_time": "2022-06-16T12:48:31.343Z"
      },
      {
        "duration": 16,
        "start_time": "2022-06-16T12:48:31.918Z"
      },
      {
        "duration": 13,
        "start_time": "2022-06-16T12:48:32.807Z"
      },
      {
        "duration": 8,
        "start_time": "2022-06-16T12:48:33.867Z"
      },
      {
        "duration": 19,
        "start_time": "2022-06-16T12:48:35.312Z"
      },
      {
        "duration": 11,
        "start_time": "2022-06-16T12:48:36.191Z"
      },
      {
        "duration": 15,
        "start_time": "2022-06-16T12:48:37.080Z"
      },
      {
        "duration": 6,
        "start_time": "2022-06-16T12:48:39.347Z"
      },
      {
        "duration": 24,
        "start_time": "2022-06-16T12:48:40.159Z"
      },
      {
        "duration": 23,
        "start_time": "2022-06-16T12:48:40.784Z"
      },
      {
        "duration": 18,
        "start_time": "2022-06-16T12:48:41.363Z"
      },
      {
        "duration": 5,
        "start_time": "2022-06-16T12:48:44.255Z"
      },
      {
        "duration": 7,
        "start_time": "2022-06-16T12:48:44.847Z"
      },
      {
        "duration": 7,
        "start_time": "2022-06-16T12:48:45.505Z"
      },
      {
        "duration": 5,
        "start_time": "2022-06-16T12:48:46.316Z"
      },
      {
        "duration": 10,
        "start_time": "2022-06-16T12:48:52.967Z"
      },
      {
        "duration": 3,
        "start_time": "2022-06-16T13:37:11.913Z"
      },
      {
        "duration": 47,
        "start_time": "2022-06-16T13:37:53.164Z"
      },
      {
        "duration": 436,
        "start_time": "2022-06-16T13:38:33.887Z"
      },
      {
        "duration": 71,
        "start_time": "2022-06-16T13:38:34.509Z"
      },
      {
        "duration": 19,
        "start_time": "2022-06-16T13:38:35.112Z"
      },
      {
        "duration": 361,
        "start_time": "2022-06-16T13:38:45.483Z"
      },
      {
        "duration": 78,
        "start_time": "2022-06-16T13:38:46.182Z"
      },
      {
        "duration": 20,
        "start_time": "2022-06-16T13:38:46.982Z"
      },
      {
        "duration": 16,
        "start_time": "2022-06-16T13:38:47.742Z"
      },
      {
        "duration": 9,
        "start_time": "2022-06-16T13:38:49.770Z"
      },
      {
        "duration": 4,
        "start_time": "2022-06-16T13:38:51.092Z"
      },
      {
        "duration": 189,
        "start_time": "2022-06-16T13:38:54.025Z"
      },
      {
        "duration": 104,
        "start_time": "2022-06-16T13:38:54.993Z"
      },
      {
        "duration": 91,
        "start_time": "2022-06-16T13:38:56.525Z"
      },
      {
        "duration": 124,
        "start_time": "2022-06-16T13:38:57.791Z"
      },
      {
        "duration": 5,
        "start_time": "2022-06-16T13:38:59.209Z"
      },
      {
        "duration": 6,
        "start_time": "2022-06-16T13:39:01.441Z"
      },
      {
        "duration": 13,
        "start_time": "2022-06-16T13:39:02.287Z"
      },
      {
        "duration": 3,
        "start_time": "2022-06-16T13:39:04.008Z"
      },
      {
        "duration": 5,
        "start_time": "2022-06-16T13:39:05.423Z"
      },
      {
        "duration": 12,
        "start_time": "2022-06-16T13:39:06.085Z"
      },
      {
        "duration": 14,
        "start_time": "2022-06-16T13:39:07.186Z"
      },
      {
        "duration": 13,
        "start_time": "2022-06-16T13:39:10.524Z"
      },
      {
        "duration": 4,
        "start_time": "2022-06-16T13:39:11.992Z"
      },
      {
        "duration": 7,
        "start_time": "2022-06-16T13:39:15.803Z"
      },
      {
        "duration": 11,
        "start_time": "2022-06-16T13:39:20.109Z"
      },
      {
        "duration": 9,
        "start_time": "2022-06-16T13:39:21.058Z"
      },
      {
        "duration": 6,
        "start_time": "2022-06-16T13:39:23.743Z"
      },
      {
        "duration": 7,
        "start_time": "2022-06-16T13:39:25.449Z"
      },
      {
        "duration": 7,
        "start_time": "2022-06-16T13:39:27.810Z"
      },
      {
        "duration": 2,
        "start_time": "2022-06-16T13:39:34.986Z"
      },
      {
        "duration": 20,
        "start_time": "2022-06-16T13:39:35.789Z"
      },
      {
        "duration": 23,
        "start_time": "2022-06-16T13:39:38.642Z"
      },
      {
        "duration": 19,
        "start_time": "2022-06-16T13:39:39.624Z"
      },
      {
        "duration": 6,
        "start_time": "2022-06-16T13:57:03.154Z"
      },
      {
        "duration": 7,
        "start_time": "2022-06-16T13:57:04.942Z"
      },
      {
        "duration": 7,
        "start_time": "2022-06-16T13:57:06.772Z"
      },
      {
        "duration": 5,
        "start_time": "2022-06-16T13:57:09.372Z"
      },
      {
        "duration": 10,
        "start_time": "2022-06-16T13:57:15.066Z"
      },
      {
        "duration": 71,
        "start_time": "2022-06-16T21:02:46.295Z"
      },
      {
        "duration": 12,
        "start_time": "2022-06-16T21:03:04.624Z"
      },
      {
        "duration": 478,
        "start_time": "2022-06-16T21:03:30.311Z"
      },
      {
        "duration": 669,
        "start_time": "2022-06-16T21:03:31.048Z"
      },
      {
        "duration": 30,
        "start_time": "2022-06-16T21:03:31.720Z"
      },
      {
        "duration": 23,
        "start_time": "2022-06-16T21:03:32.505Z"
      },
      {
        "duration": 14,
        "start_time": "2022-06-16T21:03:34.551Z"
      },
      {
        "duration": 4,
        "start_time": "2022-06-16T21:03:36.053Z"
      },
      {
        "duration": 354,
        "start_time": "2022-06-16T21:03:38.711Z"
      },
      {
        "duration": 107,
        "start_time": "2022-06-16T21:03:39.269Z"
      },
      {
        "duration": 112,
        "start_time": "2022-06-16T21:03:40.756Z"
      },
      {
        "duration": 155,
        "start_time": "2022-06-16T21:03:41.724Z"
      },
      {
        "duration": 6,
        "start_time": "2022-06-16T21:03:42.859Z"
      },
      {
        "duration": 7,
        "start_time": "2022-06-16T21:03:44.592Z"
      },
      {
        "duration": 13,
        "start_time": "2022-06-16T21:03:45.138Z"
      },
      {
        "duration": 4,
        "start_time": "2022-06-16T21:03:46.157Z"
      },
      {
        "duration": 5,
        "start_time": "2022-06-16T21:03:47.204Z"
      },
      {
        "duration": 15,
        "start_time": "2022-06-16T21:03:47.826Z"
      },
      {
        "duration": 11,
        "start_time": "2022-06-16T21:03:48.547Z"
      },
      {
        "duration": 14,
        "start_time": "2022-06-16T21:03:51.647Z"
      },
      {
        "duration": 4,
        "start_time": "2022-06-16T21:03:53.955Z"
      },
      {
        "duration": 10,
        "start_time": "2022-06-16T21:03:57.095Z"
      },
      {
        "duration": 17,
        "start_time": "2022-06-16T21:03:57.743Z"
      },
      {
        "duration": 14,
        "start_time": "2022-06-16T21:03:58.451Z"
      },
      {
        "duration": 6,
        "start_time": "2022-06-16T21:03:59.148Z"
      },
      {
        "duration": 7,
        "start_time": "2022-06-16T21:03:59.761Z"
      },
      {
        "duration": 10,
        "start_time": "2022-06-16T21:04:00.546Z"
      },
      {
        "duration": 30,
        "start_time": "2022-06-16T21:04:01.237Z"
      },
      {
        "duration": 33,
        "start_time": "2022-06-16T21:04:02.016Z"
      },
      {
        "duration": 19,
        "start_time": "2022-06-16T21:04:02.744Z"
      },
      {
        "duration": 5,
        "start_time": "2022-06-16T21:04:04.969Z"
      },
      {
        "duration": 8,
        "start_time": "2022-06-16T21:04:05.951Z"
      },
      {
        "duration": 8,
        "start_time": "2022-06-16T21:04:06.612Z"
      },
      {
        "duration": 6,
        "start_time": "2022-06-16T21:04:07.419Z"
      },
      {
        "duration": 15,
        "start_time": "2022-06-16T21:04:08.344Z"
      },
      {
        "duration": 81,
        "start_time": "2022-06-16T21:04:10.356Z"
      },
      {
        "duration": 13,
        "start_time": "2022-06-16T21:05:47.703Z"
      },
      {
        "duration": 9,
        "start_time": "2022-06-16T21:06:40.457Z"
      },
      {
        "duration": 10,
        "start_time": "2022-06-16T21:06:55.130Z"
      },
      {
        "duration": 9,
        "start_time": "2022-06-16T21:07:02.461Z"
      },
      {
        "duration": 8,
        "start_time": "2022-06-16T21:07:12.433Z"
      },
      {
        "duration": 17,
        "start_time": "2022-06-16T21:07:38.158Z"
      },
      {
        "duration": 10,
        "start_time": "2022-06-16T21:07:58.497Z"
      },
      {
        "duration": 10,
        "start_time": "2022-06-16T21:08:50.895Z"
      },
      {
        "duration": 9,
        "start_time": "2022-06-16T21:09:05.199Z"
      },
      {
        "duration": 7,
        "start_time": "2022-06-16T21:18:27.912Z"
      },
      {
        "duration": 3,
        "start_time": "2022-06-16T21:18:37.443Z"
      },
      {
        "duration": 5,
        "start_time": "2022-06-16T21:18:47.851Z"
      },
      {
        "duration": 6,
        "start_time": "2022-06-16T21:19:10.886Z"
      },
      {
        "duration": 187,
        "start_time": "2022-06-16T21:21:36.175Z"
      },
      {
        "duration": 166,
        "start_time": "2022-06-16T21:22:08.243Z"
      },
      {
        "duration": 171,
        "start_time": "2022-06-16T21:22:17.415Z"
      },
      {
        "duration": 173,
        "start_time": "2022-06-16T21:22:26.876Z"
      },
      {
        "duration": 185,
        "start_time": "2022-06-16T21:22:34.611Z"
      },
      {
        "duration": 161,
        "start_time": "2022-06-16T21:24:48.774Z"
      },
      {
        "duration": 152,
        "start_time": "2022-06-16T21:25:23.610Z"
      },
      {
        "duration": 145,
        "start_time": "2022-06-16T21:25:28.416Z"
      },
      {
        "duration": 142,
        "start_time": "2022-06-16T21:26:25.700Z"
      },
      {
        "duration": 131,
        "start_time": "2022-06-16T21:26:39.445Z"
      },
      {
        "duration": 137,
        "start_time": "2022-06-16T21:26:53.482Z"
      },
      {
        "duration": 168,
        "start_time": "2022-06-16T21:27:01.153Z"
      },
      {
        "duration": 5,
        "start_time": "2022-06-16T21:27:28.182Z"
      },
      {
        "duration": 135,
        "start_time": "2022-06-16T21:27:38.043Z"
      },
      {
        "duration": 160,
        "start_time": "2022-06-16T21:27:48.525Z"
      },
      {
        "duration": 141,
        "start_time": "2022-06-16T21:28:28.180Z"
      },
      {
        "duration": 6,
        "start_time": "2022-06-16T21:28:47.583Z"
      },
      {
        "duration": 8,
        "start_time": "2022-06-16T21:37:01.746Z"
      },
      {
        "duration": 14,
        "start_time": "2022-06-16T21:50:07.354Z"
      },
      {
        "duration": 14,
        "start_time": "2022-06-16T21:50:51.756Z"
      },
      {
        "duration": 28,
        "start_time": "2022-06-16T21:50:58.457Z"
      },
      {
        "duration": 5,
        "start_time": "2022-06-16T21:51:27.418Z"
      },
      {
        "duration": 7,
        "start_time": "2022-06-16T21:52:06.505Z"
      },
      {
        "duration": 7,
        "start_time": "2022-06-16T21:52:22.099Z"
      },
      {
        "duration": 43,
        "start_time": "2022-06-16T21:54:06.008Z"
      },
      {
        "duration": 6,
        "start_time": "2022-06-16T21:54:10.254Z"
      },
      {
        "duration": 6,
        "start_time": "2022-06-16T21:54:54.147Z"
      },
      {
        "duration": 6,
        "start_time": "2022-06-16T21:56:16.917Z"
      },
      {
        "duration": 6,
        "start_time": "2022-06-16T21:56:24.387Z"
      },
      {
        "duration": 6,
        "start_time": "2022-06-16T21:56:34.480Z"
      },
      {
        "duration": 6,
        "start_time": "2022-06-16T21:56:44.275Z"
      },
      {
        "duration": 6,
        "start_time": "2022-06-16T21:57:55.823Z"
      },
      {
        "duration": 8,
        "start_time": "2022-06-16T21:58:05.751Z"
      },
      {
        "duration": 8,
        "start_time": "2022-06-16T21:59:18.880Z"
      },
      {
        "duration": 9,
        "start_time": "2022-06-16T21:59:52.694Z"
      },
      {
        "duration": 209,
        "start_time": "2022-06-16T22:02:36.426Z"
      },
      {
        "duration": 10,
        "start_time": "2022-06-16T22:02:56.238Z"
      },
      {
        "duration": 17,
        "start_time": "2022-06-16T22:06:42.004Z"
      },
      {
        "duration": 3,
        "start_time": "2022-06-16T22:14:22.395Z"
      },
      {
        "duration": 197,
        "start_time": "2022-06-16T22:17:50.734Z"
      },
      {
        "duration": 225,
        "start_time": "2022-06-16T22:19:44.809Z"
      },
      {
        "duration": 164,
        "start_time": "2022-06-16T22:20:17.782Z"
      },
      {
        "duration": 161,
        "start_time": "2022-06-16T22:23:01.077Z"
      },
      {
        "duration": 432,
        "start_time": "2022-06-17T19:25:34.485Z"
      },
      {
        "duration": 692,
        "start_time": "2022-06-17T19:25:35.144Z"
      },
      {
        "duration": 19,
        "start_time": "2022-06-17T19:25:35.838Z"
      },
      {
        "duration": 15,
        "start_time": "2022-06-17T19:25:36.499Z"
      },
      {
        "duration": 9,
        "start_time": "2022-06-17T19:25:39.038Z"
      },
      {
        "duration": 4,
        "start_time": "2022-06-17T19:25:40.364Z"
      },
      {
        "duration": 334,
        "start_time": "2022-06-17T19:25:41.117Z"
      },
      {
        "duration": 126,
        "start_time": "2022-06-17T19:25:41.453Z"
      },
      {
        "duration": 100,
        "start_time": "2022-06-17T19:25:41.654Z"
      },
      {
        "duration": 118,
        "start_time": "2022-06-17T19:25:42.037Z"
      },
      {
        "duration": 5,
        "start_time": "2022-06-17T19:25:42.376Z"
      },
      {
        "duration": 6,
        "start_time": "2022-06-17T19:25:42.919Z"
      },
      {
        "duration": 18,
        "start_time": "2022-06-17T19:25:43.113Z"
      },
      {
        "duration": 4,
        "start_time": "2022-06-17T19:25:43.496Z"
      },
      {
        "duration": 5,
        "start_time": "2022-06-17T19:25:43.840Z"
      },
      {
        "duration": 21,
        "start_time": "2022-06-17T19:25:44.022Z"
      },
      {
        "duration": 15,
        "start_time": "2022-06-17T19:25:44.201Z"
      },
      {
        "duration": 18,
        "start_time": "2022-06-17T19:25:44.906Z"
      },
      {
        "duration": 3,
        "start_time": "2022-06-17T19:25:45.271Z"
      },
      {
        "duration": 7,
        "start_time": "2022-06-17T19:25:45.996Z"
      },
      {
        "duration": 15,
        "start_time": "2022-06-17T19:25:46.176Z"
      },
      {
        "duration": 12,
        "start_time": "2022-06-17T19:25:46.357Z"
      },
      {
        "duration": 9,
        "start_time": "2022-06-17T19:25:46.539Z"
      },
      {
        "duration": 5,
        "start_time": "2022-06-17T19:25:46.719Z"
      },
      {
        "duration": 6,
        "start_time": "2022-06-17T19:25:46.908Z"
      },
      {
        "duration": 21,
        "start_time": "2022-06-17T19:25:47.096Z"
      },
      {
        "duration": 26,
        "start_time": "2022-06-17T19:25:47.276Z"
      },
      {
        "duration": 17,
        "start_time": "2022-06-17T19:25:47.454Z"
      },
      {
        "duration": 5,
        "start_time": "2022-06-17T19:25:48.029Z"
      },
      {
        "duration": 7,
        "start_time": "2022-06-17T19:25:48.213Z"
      },
      {
        "duration": 6,
        "start_time": "2022-06-17T19:25:48.378Z"
      },
      {
        "duration": 6,
        "start_time": "2022-06-17T19:25:48.578Z"
      },
      {
        "duration": 12,
        "start_time": "2022-06-17T19:25:48.770Z"
      },
      {
        "duration": 5,
        "start_time": "2022-06-17T19:25:49.314Z"
      },
      {
        "duration": 135,
        "start_time": "2022-06-17T19:25:49.490Z"
      },
      {
        "duration": 6,
        "start_time": "2022-06-17T19:25:49.681Z"
      },
      {
        "duration": 6,
        "start_time": "2022-06-17T19:25:50.573Z"
      },
      {
        "duration": 6,
        "start_time": "2022-06-17T19:25:51.219Z"
      },
      {
        "duration": 147,
        "start_time": "2022-06-17T19:25:51.381Z"
      },
      {
        "duration": 7,
        "start_time": "2022-06-17T19:25:51.588Z"
      },
      {
        "duration": 5,
        "start_time": "2022-06-17T19:25:52.342Z"
      },
      {
        "duration": 5,
        "start_time": "2022-06-17T19:39:35.530Z"
      },
      {
        "duration": 5,
        "start_time": "2022-06-17T19:40:07.342Z"
      },
      {
        "duration": 68,
        "start_time": "2022-06-17T19:40:25.435Z"
      },
      {
        "duration": 6,
        "start_time": "2022-06-17T19:40:30.904Z"
      },
      {
        "duration": 5,
        "start_time": "2022-06-17T19:40:44.995Z"
      },
      {
        "duration": 18,
        "start_time": "2022-06-17T19:41:36.880Z"
      },
      {
        "duration": 19,
        "start_time": "2022-06-17T19:41:43.946Z"
      },
      {
        "duration": 14,
        "start_time": "2022-06-17T19:42:05.251Z"
      },
      {
        "duration": 5,
        "start_time": "2022-06-17T19:42:34.210Z"
      },
      {
        "duration": 14,
        "start_time": "2022-06-17T19:42:41.312Z"
      },
      {
        "duration": 4,
        "start_time": "2022-06-17T19:42:51.480Z"
      },
      {
        "duration": 5,
        "start_time": "2022-06-17T19:42:56.215Z"
      },
      {
        "duration": 3,
        "start_time": "2022-06-17T19:44:21.973Z"
      },
      {
        "duration": 11,
        "start_time": "2022-06-17T19:44:26.458Z"
      },
      {
        "duration": 29,
        "start_time": "2022-06-17T19:44:29.622Z"
      },
      {
        "duration": 18,
        "start_time": "2022-06-17T19:44:39.195Z"
      },
      {
        "duration": 5,
        "start_time": "2022-06-17T19:44:44.303Z"
      },
      {
        "duration": 8,
        "start_time": "2022-06-17T19:44:55.928Z"
      },
      {
        "duration": 8,
        "start_time": "2022-06-17T19:44:59.714Z"
      },
      {
        "duration": 8,
        "start_time": "2022-06-17T19:45:04.233Z"
      },
      {
        "duration": 20,
        "start_time": "2022-06-17T19:45:19.794Z"
      },
      {
        "duration": 374,
        "start_time": "2022-06-17T19:46:17.052Z"
      },
      {
        "duration": 75,
        "start_time": "2022-06-17T19:46:17.715Z"
      },
      {
        "duration": 20,
        "start_time": "2022-06-17T19:46:18.358Z"
      },
      {
        "duration": 16,
        "start_time": "2022-06-17T19:46:19.084Z"
      },
      {
        "duration": 10,
        "start_time": "2022-06-17T19:46:21.309Z"
      },
      {
        "duration": 4,
        "start_time": "2022-06-17T19:46:23.555Z"
      },
      {
        "duration": 176,
        "start_time": "2022-06-17T19:46:26.442Z"
      },
      {
        "duration": 103,
        "start_time": "2022-06-17T19:46:27.183Z"
      },
      {
        "duration": 87,
        "start_time": "2022-06-17T19:46:28.877Z"
      },
      {
        "duration": 128,
        "start_time": "2022-06-17T19:46:30.345Z"
      },
      {
        "duration": 6,
        "start_time": "2022-06-17T19:46:32.100Z"
      },
      {
        "duration": 6,
        "start_time": "2022-06-17T19:46:34.205Z"
      },
      {
        "duration": 12,
        "start_time": "2022-06-17T19:46:34.960Z"
      },
      {
        "duration": 4,
        "start_time": "2022-06-17T19:46:36.721Z"
      },
      {
        "duration": 5,
        "start_time": "2022-06-17T19:46:38.181Z"
      },
      {
        "duration": 12,
        "start_time": "2022-06-17T19:46:38.965Z"
      },
      {
        "duration": 9,
        "start_time": "2022-06-17T19:46:39.994Z"
      },
      {
        "duration": 12,
        "start_time": "2022-06-17T19:46:47.987Z"
      },
      {
        "duration": 3,
        "start_time": "2022-06-17T19:46:49.450Z"
      },
      {
        "duration": 7,
        "start_time": "2022-06-17T19:46:54.818Z"
      },
      {
        "duration": 11,
        "start_time": "2022-06-17T19:47:15.350Z"
      },
      {
        "duration": 9,
        "start_time": "2022-06-17T19:47:16.848Z"
      },
      {
        "duration": 6,
        "start_time": "2022-06-17T19:47:26.012Z"
      },
      {
        "duration": 7,
        "start_time": "2022-06-17T19:47:28.352Z"
      },
      {
        "duration": 6,
        "start_time": "2022-06-17T19:47:30.364Z"
      },
      {
        "duration": 19,
        "start_time": "2022-06-17T19:47:52.605Z"
      },
      {
        "duration": 6,
        "start_time": "2022-06-17T19:48:42.860Z"
      },
      {
        "duration": 5,
        "start_time": "2022-06-17T19:48:59.573Z"
      },
      {
        "duration": 67,
        "start_time": "2022-06-17T19:56:45.482Z"
      },
      {
        "duration": 10,
        "start_time": "2022-06-17T19:57:11.920Z"
      },
      {
        "duration": 6,
        "start_time": "2022-06-17T19:57:38.356Z"
      },
      {
        "duration": 14,
        "start_time": "2022-06-17T20:07:47.734Z"
      },
      {
        "duration": 6,
        "start_time": "2022-06-17T20:07:55.144Z"
      },
      {
        "duration": 5,
        "start_time": "2022-06-17T20:08:21.792Z"
      },
      {
        "duration": 5,
        "start_time": "2022-06-17T20:08:27.237Z"
      },
      {
        "duration": 6,
        "start_time": "2022-06-17T20:09:43.967Z"
      },
      {
        "duration": 7,
        "start_time": "2022-06-17T20:10:53.663Z"
      },
      {
        "duration": 7,
        "start_time": "2022-06-17T20:17:46.806Z"
      },
      {
        "duration": 14,
        "start_time": "2022-06-17T20:18:00.658Z"
      },
      {
        "duration": 11,
        "start_time": "2022-06-17T20:18:48.373Z"
      },
      {
        "duration": 6,
        "start_time": "2022-06-17T20:21:10.300Z"
      },
      {
        "duration": 18,
        "start_time": "2022-06-17T20:21:20.314Z"
      },
      {
        "duration": 19,
        "start_time": "2022-06-17T20:22:41.507Z"
      },
      {
        "duration": 20,
        "start_time": "2022-06-17T20:22:52.563Z"
      },
      {
        "duration": 5,
        "start_time": "2022-06-17T20:23:59.626Z"
      },
      {
        "duration": 7,
        "start_time": "2022-06-17T20:24:01.210Z"
      },
      {
        "duration": 6,
        "start_time": "2022-06-17T20:24:03.510Z"
      },
      {
        "duration": 5,
        "start_time": "2022-06-17T20:24:05.910Z"
      },
      {
        "duration": 11,
        "start_time": "2022-06-17T20:24:08.314Z"
      },
      {
        "duration": 5,
        "start_time": "2022-06-17T20:24:14.418Z"
      },
      {
        "duration": 137,
        "start_time": "2022-06-17T20:24:16.731Z"
      },
      {
        "duration": 6,
        "start_time": "2022-06-17T20:24:20.572Z"
      },
      {
        "duration": 7,
        "start_time": "2022-06-17T20:24:26.248Z"
      },
      {
        "duration": 7,
        "start_time": "2022-06-17T20:24:29.862Z"
      },
      {
        "duration": 141,
        "start_time": "2022-06-17T20:24:32.757Z"
      },
      {
        "duration": 6,
        "start_time": "2022-06-17T20:24:36.074Z"
      },
      {
        "duration": 421,
        "start_time": "2022-06-17T21:47:35.120Z"
      },
      {
        "duration": 71,
        "start_time": "2022-06-17T21:47:36.757Z"
      },
      {
        "duration": 23,
        "start_time": "2022-06-17T21:47:38.530Z"
      },
      {
        "duration": 12,
        "start_time": "2022-06-17T21:47:43.280Z"
      },
      {
        "duration": 11,
        "start_time": "2022-06-17T21:47:47.086Z"
      },
      {
        "duration": 13,
        "start_time": "2022-06-17T21:47:50.573Z"
      },
      {
        "duration": 15,
        "start_time": "2022-06-17T21:47:53.694Z"
      },
      {
        "duration": 25,
        "start_time": "2022-06-17T21:48:58.166Z"
      },
      {
        "duration": 42,
        "start_time": "2022-06-17T21:51:32.225Z"
      },
      {
        "duration": 6,
        "start_time": "2022-06-17T21:55:27.146Z"
      },
      {
        "duration": 18,
        "start_time": "2022-06-17T21:55:29.189Z"
      },
      {
        "duration": 34,
        "start_time": "2022-06-17T21:55:36.673Z"
      },
      {
        "duration": 6,
        "start_time": "2022-06-17T21:58:18.562Z"
      },
      {
        "duration": 8,
        "start_time": "2022-06-17T21:58:34.765Z"
      },
      {
        "duration": 81,
        "start_time": "2022-06-17T21:59:51.044Z"
      },
      {
        "duration": 3,
        "start_time": "2022-06-17T22:00:01.067Z"
      },
      {
        "duration": 7,
        "start_time": "2022-06-17T22:00:15.044Z"
      },
      {
        "duration": 4,
        "start_time": "2022-06-17T22:25:26.083Z"
      },
      {
        "duration": 4,
        "start_time": "2022-06-17T22:25:41.600Z"
      },
      {
        "duration": 4,
        "start_time": "2022-06-17T22:28:50.843Z"
      },
      {
        "duration": 4,
        "start_time": "2022-06-17T22:29:09.414Z"
      },
      {
        "duration": 5,
        "start_time": "2022-06-17T22:29:10.861Z"
      },
      {
        "duration": 4,
        "start_time": "2022-06-17T22:29:12.672Z"
      },
      {
        "duration": 10,
        "start_time": "2022-06-17T22:30:46.816Z"
      },
      {
        "duration": 421,
        "start_time": "2022-06-18T11:40:28.250Z"
      },
      {
        "duration": 312,
        "start_time": "2022-06-18T11:40:30.164Z"
      },
      {
        "duration": 18,
        "start_time": "2022-06-18T11:40:32.092Z"
      },
      {
        "duration": 14,
        "start_time": "2022-06-18T11:40:34.590Z"
      },
      {
        "duration": 11,
        "start_time": "2022-06-18T11:40:38.006Z"
      },
      {
        "duration": 46,
        "start_time": "2022-06-18T11:40:41.425Z"
      },
      {
        "duration": 7,
        "start_time": "2022-06-18T11:40:44.132Z"
      },
      {
        "duration": 42,
        "start_time": "2022-06-18T11:40:46.326Z"
      },
      {
        "duration": 4,
        "start_time": "2022-06-18T11:40:49.125Z"
      },
      {
        "duration": 3,
        "start_time": "2022-06-18T11:40:50.817Z"
      },
      {
        "duration": 4,
        "start_time": "2022-06-18T11:40:52.525Z"
      },
      {
        "duration": 141,
        "start_time": "2022-06-18T11:44:51.524Z"
      },
      {
        "duration": 5,
        "start_time": "2022-06-18T11:49:32.947Z"
      },
      {
        "duration": 6,
        "start_time": "2022-06-18T11:49:56.839Z"
      },
      {
        "duration": 5,
        "start_time": "2022-06-18T11:50:10.792Z"
      },
      {
        "duration": 10,
        "start_time": "2022-06-18T11:59:24.205Z"
      },
      {
        "duration": 6,
        "start_time": "2022-06-18T12:00:07.005Z"
      },
      {
        "duration": 6,
        "start_time": "2022-06-18T12:00:39.104Z"
      },
      {
        "duration": 6,
        "start_time": "2022-06-18T12:00:54.394Z"
      },
      {
        "duration": 5,
        "start_time": "2022-06-18T12:03:01.406Z"
      },
      {
        "duration": 6,
        "start_time": "2022-06-18T12:03:05.512Z"
      },
      {
        "duration": 7,
        "start_time": "2022-06-18T12:03:25.240Z"
      },
      {
        "duration": 7,
        "start_time": "2022-06-18T12:03:36.289Z"
      },
      {
        "duration": 13,
        "start_time": "2022-06-18T12:12:17.502Z"
      },
      {
        "duration": 4,
        "start_time": "2022-06-18T12:12:43.322Z"
      },
      {
        "duration": 4,
        "start_time": "2022-06-18T12:13:18.543Z"
      },
      {
        "duration": 5,
        "start_time": "2022-06-18T12:13:25.091Z"
      },
      {
        "duration": 4,
        "start_time": "2022-06-18T12:13:26.582Z"
      },
      {
        "duration": 5,
        "start_time": "2022-06-18T12:21:26.680Z"
      },
      {
        "duration": 6,
        "start_time": "2022-06-18T12:21:40.572Z"
      },
      {
        "duration": 6,
        "start_time": "2022-06-18T12:21:45.181Z"
      },
      {
        "duration": 3,
        "start_time": "2022-06-18T12:22:05.402Z"
      },
      {
        "duration": 384,
        "start_time": "2022-06-18T12:22:14.378Z"
      },
      {
        "duration": 94,
        "start_time": "2022-06-18T12:22:16.143Z"
      },
      {
        "duration": 9,
        "start_time": "2022-06-18T12:22:25.783Z"
      },
      {
        "duration": 366,
        "start_time": "2022-06-18T12:22:37.226Z"
      },
      {
        "duration": 92,
        "start_time": "2022-06-18T12:22:39.642Z"
      },
      {
        "duration": 18,
        "start_time": "2022-06-18T12:22:41.126Z"
      },
      {
        "duration": 19,
        "start_time": "2022-06-18T12:22:43.170Z"
      },
      {
        "duration": 12,
        "start_time": "2022-06-18T12:22:46.305Z"
      },
      {
        "duration": 46,
        "start_time": "2022-06-18T12:22:48.832Z"
      },
      {
        "duration": 8,
        "start_time": "2022-06-18T12:22:52.499Z"
      },
      {
        "duration": 34,
        "start_time": "2022-06-18T12:22:54.908Z"
      },
      {
        "duration": 4,
        "start_time": "2022-06-18T12:22:57.076Z"
      },
      {
        "duration": 4,
        "start_time": "2022-06-18T12:22:58.620Z"
      },
      {
        "duration": 3,
        "start_time": "2022-06-18T12:23:00.326Z"
      },
      {
        "duration": 5,
        "start_time": "2022-06-18T12:23:03.206Z"
      },
      {
        "duration": 4,
        "start_time": "2022-06-18T12:24:54.193Z"
      },
      {
        "duration": 12,
        "start_time": "2022-06-18T12:25:06.827Z"
      },
      {
        "duration": 17,
        "start_time": "2022-06-18T12:25:11.507Z"
      },
      {
        "duration": 6,
        "start_time": "2022-06-18T12:29:42.158Z"
      },
      {
        "duration": 40,
        "start_time": "2022-06-18T12:29:45.348Z"
      },
      {
        "duration": 5,
        "start_time": "2022-06-18T12:30:12.884Z"
      },
      {
        "duration": 4,
        "start_time": "2022-06-18T12:30:37.146Z"
      },
      {
        "duration": 14,
        "start_time": "2022-06-18T12:31:03.507Z"
      },
      {
        "duration": 4,
        "start_time": "2022-06-18T12:31:08.391Z"
      },
      {
        "duration": 10,
        "start_time": "2022-06-18T12:31:17.923Z"
      },
      {
        "duration": 22,
        "start_time": "2022-06-18T12:31:21.075Z"
      },
      {
        "duration": 11,
        "start_time": "2022-06-18T12:31:23.679Z"
      },
      {
        "duration": 10,
        "start_time": "2022-06-18T12:31:25.878Z"
      },
      {
        "duration": 17,
        "start_time": "2022-06-18T12:31:28.766Z"
      },
      {
        "duration": 8,
        "start_time": "2022-06-18T12:31:33.722Z"
      },
      {
        "duration": 21,
        "start_time": "2022-06-18T12:31:36.828Z"
      },
      {
        "duration": 6,
        "start_time": "2022-06-18T12:31:38.827Z"
      },
      {
        "duration": 14,
        "start_time": "2022-06-18T12:31:42.982Z"
      },
      {
        "duration": 6,
        "start_time": "2022-06-18T12:31:44.990Z"
      },
      {
        "duration": 7,
        "start_time": "2022-06-18T12:32:00.726Z"
      },
      {
        "duration": 7,
        "start_time": "2022-06-18T12:32:08.384Z"
      },
      {
        "duration": 6,
        "start_time": "2022-06-18T12:32:12.095Z"
      },
      {
        "duration": 6,
        "start_time": "2022-06-18T12:32:14.827Z"
      },
      {
        "duration": 29,
        "start_time": "2022-06-18T12:32:17.957Z"
      },
      {
        "duration": 12,
        "start_time": "2022-06-18T12:34:59.607Z"
      },
      {
        "duration": 12,
        "start_time": "2022-06-18T12:36:51.087Z"
      },
      {
        "duration": 405,
        "start_time": "2022-06-18T12:43:48.633Z"
      },
      {
        "duration": 106,
        "start_time": "2022-06-18T12:43:49.230Z"
      },
      {
        "duration": 32,
        "start_time": "2022-06-18T12:43:49.782Z"
      },
      {
        "duration": 26,
        "start_time": "2022-06-18T12:43:50.672Z"
      },
      {
        "duration": 23,
        "start_time": "2022-06-18T12:43:53.212Z"
      },
      {
        "duration": 34,
        "start_time": "2022-06-18T12:43:55.716Z"
      },
      {
        "duration": 6,
        "start_time": "2022-06-18T12:43:57.370Z"
      },
      {
        "duration": 34,
        "start_time": "2022-06-18T12:43:58.608Z"
      },
      {
        "duration": 7,
        "start_time": "2022-06-18T12:43:59.920Z"
      },
      {
        "duration": 6,
        "start_time": "2022-06-18T12:44:00.512Z"
      },
      {
        "duration": 5,
        "start_time": "2022-06-18T12:44:00.988Z"
      },
      {
        "duration": 4,
        "start_time": "2022-06-18T12:44:02.226Z"
      },
      {
        "duration": 17,
        "start_time": "2022-06-18T12:44:02.944Z"
      },
      {
        "duration": 8,
        "start_time": "2022-06-18T12:44:04.458Z"
      },
      {
        "duration": 24,
        "start_time": "2022-06-18T12:44:05.543Z"
      },
      {
        "duration": 5,
        "start_time": "2022-06-18T12:44:06.320Z"
      },
      {
        "duration": 20,
        "start_time": "2022-06-18T12:44:09.513Z"
      },
      {
        "duration": 5,
        "start_time": "2022-06-18T12:44:11.020Z"
      },
      {
        "duration": 10,
        "start_time": "2022-06-18T12:44:15.282Z"
      },
      {
        "duration": 11,
        "start_time": "2022-06-18T12:44:21.968Z"
      },
      {
        "duration": 10,
        "start_time": "2022-06-18T12:44:31.919Z"
      },
      {
        "duration": 7,
        "start_time": "2022-06-18T12:45:17.031Z"
      },
      {
        "duration": 10,
        "start_time": "2022-06-18T12:46:02.527Z"
      },
      {
        "duration": 11,
        "start_time": "2022-06-18T12:47:09.478Z"
      },
      {
        "duration": 11,
        "start_time": "2022-06-18T12:47:59.686Z"
      },
      {
        "duration": 5,
        "start_time": "2022-06-18T12:49:08.998Z"
      },
      {
        "duration": 5,
        "start_time": "2022-06-18T12:50:32.226Z"
      },
      {
        "duration": 9,
        "start_time": "2022-06-18T12:50:34.286Z"
      },
      {
        "duration": 8,
        "start_time": "2022-06-18T12:51:05.907Z"
      },
      {
        "duration": 11,
        "start_time": "2022-06-18T12:51:29.386Z"
      },
      {
        "duration": 35,
        "start_time": "2022-06-18T12:51:35.126Z"
      },
      {
        "duration": 25,
        "start_time": "2022-06-18T12:52:40.976Z"
      },
      {
        "duration": 21,
        "start_time": "2022-06-18T12:52:43.406Z"
      },
      {
        "duration": 9,
        "start_time": "2022-06-18T12:55:15.803Z"
      },
      {
        "duration": 165,
        "start_time": "2022-06-18T12:55:18.693Z"
      },
      {
        "duration": 6,
        "start_time": "2022-06-18T12:55:26.787Z"
      },
      {
        "duration": 8,
        "start_time": "2022-06-18T12:55:35.434Z"
      },
      {
        "duration": 13,
        "start_time": "2022-06-18T12:55:39.780Z"
      },
      {
        "duration": 179,
        "start_time": "2022-06-18T12:55:43.426Z"
      },
      {
        "duration": 8,
        "start_time": "2022-06-18T12:55:55.399Z"
      },
      {
        "duration": 26,
        "start_time": "2022-06-18T13:06:47.542Z"
      },
      {
        "duration": 21,
        "start_time": "2022-06-18T13:18:10.222Z"
      },
      {
        "duration": 5,
        "start_time": "2022-06-18T13:33:21.806Z"
      },
      {
        "duration": 157,
        "start_time": "2022-06-18T13:34:40.750Z"
      },
      {
        "duration": 17,
        "start_time": "2022-06-18T13:34:45.482Z"
      },
      {
        "duration": 46,
        "start_time": "2022-06-18T13:34:50.076Z"
      },
      {
        "duration": 5,
        "start_time": "2022-06-18T13:35:31.337Z"
      },
      {
        "duration": 64,
        "start_time": "2022-06-18T13:35:32.776Z"
      },
      {
        "duration": 2,
        "start_time": "2022-06-18T13:52:57.201Z"
      },
      {
        "duration": 9,
        "start_time": "2022-06-18T13:55:39.304Z"
      },
      {
        "duration": 11,
        "start_time": "2022-06-18T13:56:40.825Z"
      },
      {
        "duration": 12,
        "start_time": "2022-06-18T13:56:50.011Z"
      },
      {
        "duration": 11,
        "start_time": "2022-06-18T13:57:27.404Z"
      },
      {
        "duration": 393,
        "start_time": "2022-06-18T13:57:51.590Z"
      },
      {
        "duration": 214,
        "start_time": "2022-06-18T13:57:51.985Z"
      },
      {
        "duration": 20,
        "start_time": "2022-06-18T13:57:52.201Z"
      },
      {
        "duration": 22,
        "start_time": "2022-06-18T13:57:52.223Z"
      },
      {
        "duration": 28,
        "start_time": "2022-06-18T13:57:52.247Z"
      },
      {
        "duration": 39,
        "start_time": "2022-06-18T13:57:52.277Z"
      },
      {
        "duration": 6,
        "start_time": "2022-06-18T13:57:52.318Z"
      },
      {
        "duration": 51,
        "start_time": "2022-06-18T13:57:52.326Z"
      },
      {
        "duration": 4,
        "start_time": "2022-06-18T13:57:52.379Z"
      },
      {
        "duration": 8,
        "start_time": "2022-06-18T13:57:52.386Z"
      },
      {
        "duration": 11,
        "start_time": "2022-06-18T13:57:52.396Z"
      },
      {
        "duration": 10,
        "start_time": "2022-06-18T13:57:52.409Z"
      },
      {
        "duration": 36,
        "start_time": "2022-06-18T13:57:52.421Z"
      },
      {
        "duration": 20,
        "start_time": "2022-06-18T13:57:52.462Z"
      },
      {
        "duration": 26,
        "start_time": "2022-06-18T13:57:52.483Z"
      },
      {
        "duration": 18,
        "start_time": "2022-06-18T13:57:52.511Z"
      },
      {
        "duration": 37,
        "start_time": "2022-06-18T13:57:52.532Z"
      },
      {
        "duration": 18,
        "start_time": "2022-06-18T13:57:52.572Z"
      },
      {
        "duration": 33,
        "start_time": "2022-06-18T13:57:52.593Z"
      },
      {
        "duration": 15,
        "start_time": "2022-06-18T13:57:52.628Z"
      },
      {
        "duration": 28,
        "start_time": "2022-06-18T13:57:52.646Z"
      },
      {
        "duration": 21,
        "start_time": "2022-06-18T13:57:52.676Z"
      },
      {
        "duration": 22,
        "start_time": "2022-06-18T13:57:52.700Z"
      },
      {
        "duration": 15,
        "start_time": "2022-06-18T13:57:52.724Z"
      },
      {
        "duration": 21,
        "start_time": "2022-06-18T13:57:52.741Z"
      },
      {
        "duration": 19,
        "start_time": "2022-06-18T13:57:52.765Z"
      },
      {
        "duration": 8,
        "start_time": "2022-06-18T13:57:52.786Z"
      },
      {
        "duration": 14,
        "start_time": "2022-06-18T13:57:52.801Z"
      },
      {
        "duration": 19,
        "start_time": "2022-06-18T13:57:52.818Z"
      },
      {
        "duration": 17,
        "start_time": "2022-06-18T13:57:52.839Z"
      },
      {
        "duration": 38,
        "start_time": "2022-06-18T13:57:52.858Z"
      },
      {
        "duration": 19,
        "start_time": "2022-06-18T13:57:52.898Z"
      },
      {
        "duration": 20,
        "start_time": "2022-06-18T13:57:52.920Z"
      },
      {
        "duration": 29,
        "start_time": "2022-06-18T13:57:52.942Z"
      },
      {
        "duration": 172,
        "start_time": "2022-06-18T13:57:52.973Z"
      },
      {
        "duration": 10,
        "start_time": "2022-06-18T13:57:53.148Z"
      },
      {
        "duration": 35,
        "start_time": "2022-06-18T13:57:53.163Z"
      },
      {
        "duration": 9,
        "start_time": "2022-06-18T13:57:53.200Z"
      },
      {
        "duration": 192,
        "start_time": "2022-06-18T13:57:53.211Z"
      },
      {
        "duration": 7,
        "start_time": "2022-06-18T13:57:53.404Z"
      },
      {
        "duration": 10,
        "start_time": "2022-06-18T13:57:53.413Z"
      },
      {
        "duration": 121,
        "start_time": "2022-06-18T13:57:53.424Z"
      },
      {
        "duration": 9,
        "start_time": "2022-06-18T14:03:51.430Z"
      },
      {
        "duration": 19,
        "start_time": "2022-06-18T14:05:45.850Z"
      },
      {
        "duration": 19,
        "start_time": "2022-06-18T14:06:36.697Z"
      },
      {
        "duration": 1066,
        "start_time": "2022-06-18T14:15:50.229Z"
      },
      {
        "duration": 58,
        "start_time": "2022-06-18T14:17:00.322Z"
      },
      {
        "duration": 22,
        "start_time": "2022-06-18T14:17:10.549Z"
      },
      {
        "duration": 18,
        "start_time": "2022-06-18T14:17:17.042Z"
      },
      {
        "duration": 14,
        "start_time": "2022-06-18T14:18:32.522Z"
      },
      {
        "duration": 4,
        "start_time": "2022-06-18T14:20:27.044Z"
      },
      {
        "duration": 416,
        "start_time": "2022-06-18T14:23:04.092Z"
      },
      {
        "duration": 136,
        "start_time": "2022-06-18T14:23:38.210Z"
      },
      {
        "duration": 20,
        "start_time": "2022-06-18T14:24:08.002Z"
      },
      {
        "duration": 17,
        "start_time": "2022-06-18T14:24:18.970Z"
      },
      {
        "duration": 133,
        "start_time": "2022-06-18T14:24:38.282Z"
      },
      {
        "duration": 348,
        "start_time": "2022-06-18T14:30:21.972Z"
      },
      {
        "duration": 492,
        "start_time": "2022-06-18T14:30:40.632Z"
      },
      {
        "duration": 361,
        "start_time": "2022-06-18T14:32:15.736Z"
      },
      {
        "duration": 19,
        "start_time": "2022-06-18T14:32:34.270Z"
      },
      {
        "duration": 21,
        "start_time": "2022-06-18T14:36:52.151Z"
      },
      {
        "duration": 22,
        "start_time": "2022-06-18T14:38:40.411Z"
      },
      {
        "duration": 21,
        "start_time": "2022-06-18T14:44:06.344Z"
      },
      {
        "duration": 35,
        "start_time": "2022-06-18T14:56:00.547Z"
      },
      {
        "duration": 14,
        "start_time": "2022-06-18T14:56:12.113Z"
      },
      {
        "duration": 23,
        "start_time": "2022-06-18T14:58:27.843Z"
      },
      {
        "duration": 460,
        "start_time": "2022-06-18T15:05:03.200Z"
      },
      {
        "duration": 106,
        "start_time": "2022-06-18T15:05:03.662Z"
      },
      {
        "duration": 26,
        "start_time": "2022-06-18T15:05:03.770Z"
      },
      {
        "duration": 32,
        "start_time": "2022-06-18T15:05:03.798Z"
      },
      {
        "duration": 25,
        "start_time": "2022-06-18T15:05:03.832Z"
      },
      {
        "duration": 59,
        "start_time": "2022-06-18T15:05:03.864Z"
      },
      {
        "duration": 7,
        "start_time": "2022-06-18T15:05:03.925Z"
      },
      {
        "duration": 52,
        "start_time": "2022-06-18T15:05:03.934Z"
      },
      {
        "duration": 4,
        "start_time": "2022-06-18T15:05:03.989Z"
      },
      {
        "duration": 25,
        "start_time": "2022-06-18T15:05:03.995Z"
      },
      {
        "duration": 9,
        "start_time": "2022-06-18T15:05:04.022Z"
      },
      {
        "duration": 12,
        "start_time": "2022-06-18T15:05:04.033Z"
      },
      {
        "duration": 51,
        "start_time": "2022-06-18T15:05:04.047Z"
      },
      {
        "duration": 12,
        "start_time": "2022-06-18T15:05:04.102Z"
      },
      {
        "duration": 34,
        "start_time": "2022-06-18T15:05:04.116Z"
      },
      {
        "duration": 46,
        "start_time": "2022-06-18T15:05:04.154Z"
      },
      {
        "duration": 21,
        "start_time": "2022-06-18T15:05:04.202Z"
      },
      {
        "duration": 6,
        "start_time": "2022-06-18T15:05:04.227Z"
      },
      {
        "duration": 29,
        "start_time": "2022-06-18T15:05:04.237Z"
      },
      {
        "duration": 37,
        "start_time": "2022-06-18T15:05:04.274Z"
      },
      {
        "duration": 28,
        "start_time": "2022-06-18T15:05:04.313Z"
      },
      {
        "duration": 16,
        "start_time": "2022-06-18T15:05:04.343Z"
      },
      {
        "duration": 33,
        "start_time": "2022-06-18T15:05:04.361Z"
      },
      {
        "duration": 23,
        "start_time": "2022-06-18T15:05:04.408Z"
      },
      {
        "duration": 21,
        "start_time": "2022-06-18T15:05:04.433Z"
      },
      {
        "duration": 16,
        "start_time": "2022-06-18T15:05:04.457Z"
      },
      {
        "duration": 19,
        "start_time": "2022-06-18T15:05:04.477Z"
      },
      {
        "duration": 14,
        "start_time": "2022-06-18T15:05:04.499Z"
      },
      {
        "duration": 20,
        "start_time": "2022-06-18T15:05:04.515Z"
      },
      {
        "duration": 12,
        "start_time": "2022-06-18T15:05:04.537Z"
      },
      {
        "duration": 45,
        "start_time": "2022-06-18T15:05:04.551Z"
      },
      {
        "duration": 30,
        "start_time": "2022-06-18T15:05:04.598Z"
      },
      {
        "duration": 30,
        "start_time": "2022-06-18T15:05:04.631Z"
      },
      {
        "duration": 10,
        "start_time": "2022-06-18T15:05:04.671Z"
      },
      {
        "duration": 241,
        "start_time": "2022-06-18T15:05:04.685Z"
      },
      {
        "duration": 8,
        "start_time": "2022-06-18T15:05:04.928Z"
      },
      {
        "duration": 63,
        "start_time": "2022-06-18T15:05:04.938Z"
      },
      {
        "duration": 40,
        "start_time": "2022-06-18T15:05:05.003Z"
      },
      {
        "duration": 272,
        "start_time": "2022-06-18T15:05:05.046Z"
      },
      {
        "duration": 9,
        "start_time": "2022-06-18T15:05:05.320Z"
      },
      {
        "duration": 72,
        "start_time": "2022-06-18T15:05:05.334Z"
      },
      {
        "duration": 35,
        "start_time": "2022-06-18T15:05:05.408Z"
      },
      {
        "duration": 68,
        "start_time": "2022-06-18T15:05:05.445Z"
      },
      {
        "duration": 55,
        "start_time": "2022-06-18T15:05:05.515Z"
      },
      {
        "duration": 28,
        "start_time": "2022-06-19T10:35:26.549Z"
      },
      {
        "duration": 53,
        "start_time": "2022-06-19T10:37:27.817Z"
      },
      {
        "duration": 67,
        "start_time": "2022-06-19T10:40:59.219Z"
      },
      {
        "duration": 5037,
        "start_time": "2022-06-19T10:43:34.887Z"
      },
      {
        "duration": 375,
        "start_time": "2022-06-20T19:32:48.158Z"
      },
      {
        "duration": 316,
        "start_time": "2022-06-20T19:32:50.485Z"
      },
      {
        "duration": 18,
        "start_time": "2022-06-20T19:32:52.344Z"
      },
      {
        "duration": 15,
        "start_time": "2022-06-20T19:32:54.879Z"
      },
      {
        "duration": 47,
        "start_time": "2022-06-20T19:33:17.566Z"
      },
      {
        "duration": 49,
        "start_time": "2022-06-20T19:33:21.857Z"
      },
      {
        "duration": 10,
        "start_time": "2022-06-20T19:33:26.932Z"
      },
      {
        "duration": 12,
        "start_time": "2022-06-20T19:33:40.400Z"
      },
      {
        "duration": 13,
        "start_time": "2022-06-20T19:33:58.609Z"
      },
      {
        "duration": 37,
        "start_time": "2022-06-20T19:44:00.151Z"
      },
      {
        "duration": 6,
        "start_time": "2022-06-20T19:44:05.156Z"
      },
      {
        "duration": 31,
        "start_time": "2022-06-20T19:44:07.798Z"
      },
      {
        "duration": 5,
        "start_time": "2022-06-20T19:44:10.211Z"
      },
      {
        "duration": 10,
        "start_time": "2022-06-20T19:44:11.767Z"
      },
      {
        "duration": 3,
        "start_time": "2022-06-20T19:44:13.941Z"
      },
      {
        "duration": 4,
        "start_time": "2022-06-20T19:44:18.082Z"
      },
      {
        "duration": 12,
        "start_time": "2022-06-20T19:44:19.590Z"
      },
      {
        "duration": 11,
        "start_time": "2022-06-20T20:18:16.526Z"
      },
      {
        "duration": 13,
        "start_time": "2022-06-20T20:18:25.110Z"
      },
      {
        "duration": 5,
        "start_time": "2022-06-20T20:18:42.922Z"
      },
      {
        "duration": 75,
        "start_time": "2022-06-20T20:22:32.118Z"
      },
      {
        "duration": 13,
        "start_time": "2022-06-20T20:22:57.389Z"
      },
      {
        "duration": 5,
        "start_time": "2022-06-20T20:25:23.740Z"
      },
      {
        "duration": 12,
        "start_time": "2022-06-20T20:25:44.241Z"
      },
      {
        "duration": 12,
        "start_time": "2022-06-20T20:26:22.956Z"
      },
      {
        "duration": 4,
        "start_time": "2022-06-20T20:27:04.965Z"
      },
      {
        "duration": 4,
        "start_time": "2022-06-20T20:28:22.845Z"
      },
      {
        "duration": 10,
        "start_time": "2022-06-20T20:28:42.662Z"
      },
      {
        "duration": 13,
        "start_time": "2022-06-20T20:28:43.582Z"
      },
      {
        "duration": 8,
        "start_time": "2022-06-20T20:28:44.317Z"
      },
      {
        "duration": 6,
        "start_time": "2022-06-20T20:29:02.406Z"
      },
      {
        "duration": 7,
        "start_time": "2022-06-20T20:29:06.176Z"
      },
      {
        "duration": 9,
        "start_time": "2022-06-20T20:29:08.091Z"
      },
      {
        "duration": 6,
        "start_time": "2022-06-20T20:29:13.483Z"
      },
      {
        "duration": 4,
        "start_time": "2022-06-20T20:29:15.444Z"
      },
      {
        "duration": 6,
        "start_time": "2022-06-20T20:30:33.213Z"
      },
      {
        "duration": 4,
        "start_time": "2022-06-20T20:30:35.263Z"
      },
      {
        "duration": 6,
        "start_time": "2022-06-20T20:43:58.748Z"
      },
      {
        "duration": 11,
        "start_time": "2022-06-20T20:44:03.022Z"
      },
      {
        "duration": 5,
        "start_time": "2022-06-20T20:44:44.751Z"
      },
      {
        "duration": 6,
        "start_time": "2022-06-20T20:44:46.285Z"
      },
      {
        "duration": 140,
        "start_time": "2022-06-20T21:01:39.874Z"
      },
      {
        "duration": 16,
        "start_time": "2022-06-20T21:02:06.912Z"
      },
      {
        "duration": 16,
        "start_time": "2022-06-20T21:04:57.422Z"
      },
      {
        "duration": 15,
        "start_time": "2022-06-20T21:05:18.261Z"
      },
      {
        "duration": 49,
        "start_time": "2022-06-20T21:05:29.681Z"
      },
      {
        "duration": 13,
        "start_time": "2022-06-20T21:05:33.961Z"
      },
      {
        "duration": 6,
        "start_time": "2022-06-20T21:05:51.249Z"
      },
      {
        "duration": 7,
        "start_time": "2022-06-20T21:05:53.308Z"
      },
      {
        "duration": 45,
        "start_time": "2022-06-20T21:10:21.229Z"
      },
      {
        "duration": 83,
        "start_time": "2022-06-20T21:10:35.627Z"
      },
      {
        "duration": 6,
        "start_time": "2022-06-20T21:10:41.948Z"
      },
      {
        "duration": 7,
        "start_time": "2022-06-20T21:10:50.129Z"
      },
      {
        "duration": 5,
        "start_time": "2022-06-20T21:12:40.780Z"
      },
      {
        "duration": 7,
        "start_time": "2022-06-20T21:12:45.045Z"
      },
      {
        "duration": 11,
        "start_time": "2022-06-20T21:12:46.741Z"
      },
      {
        "duration": 9,
        "start_time": "2022-06-20T21:13:31.635Z"
      },
      {
        "duration": 7,
        "start_time": "2022-06-20T21:13:43.202Z"
      },
      {
        "duration": 43,
        "start_time": "2022-06-20T21:13:59.795Z"
      },
      {
        "duration": 12,
        "start_time": "2022-06-20T21:14:35.417Z"
      },
      {
        "duration": 17,
        "start_time": "2022-06-20T21:17:55.904Z"
      },
      {
        "duration": 19,
        "start_time": "2022-06-20T21:17:57.836Z"
      },
      {
        "duration": 8,
        "start_time": "2022-06-20T21:35:10.273Z"
      },
      {
        "duration": 92,
        "start_time": "2022-06-20T21:38:15.961Z"
      },
      {
        "duration": 5,
        "start_time": "2022-06-20T21:39:35.162Z"
      },
      {
        "duration": 6,
        "start_time": "2022-06-20T21:39:43.927Z"
      },
      {
        "duration": 11,
        "start_time": "2022-06-20T21:40:43.406Z"
      },
      {
        "duration": 5,
        "start_time": "2022-06-20T21:41:23.133Z"
      },
      {
        "duration": 9,
        "start_time": "2022-06-20T21:41:28.061Z"
      },
      {
        "duration": 8,
        "start_time": "2022-06-20T21:43:14.502Z"
      },
      {
        "duration": 12,
        "start_time": "2022-06-20T21:43:19.587Z"
      },
      {
        "duration": 12,
        "start_time": "2022-06-20T21:43:35.713Z"
      },
      {
        "duration": 11,
        "start_time": "2022-06-20T21:43:39.173Z"
      },
      {
        "duration": 10,
        "start_time": "2022-06-20T21:43:59.539Z"
      },
      {
        "duration": 11,
        "start_time": "2022-06-20T21:44:19.658Z"
      },
      {
        "duration": 362,
        "start_time": "2022-06-20T22:02:27.767Z"
      },
      {
        "duration": 71,
        "start_time": "2022-06-20T22:02:28.130Z"
      },
      {
        "duration": 17,
        "start_time": "2022-06-20T22:02:28.203Z"
      },
      {
        "duration": 24,
        "start_time": "2022-06-20T22:02:28.222Z"
      },
      {
        "duration": 12,
        "start_time": "2022-06-20T22:02:28.249Z"
      },
      {
        "duration": 13,
        "start_time": "2022-06-20T22:02:28.262Z"
      },
      {
        "duration": 35,
        "start_time": "2022-06-20T22:02:28.276Z"
      },
      {
        "duration": 5,
        "start_time": "2022-06-20T22:02:28.313Z"
      },
      {
        "duration": 28,
        "start_time": "2022-06-20T22:02:28.326Z"
      },
      {
        "duration": 3,
        "start_time": "2022-06-20T22:02:28.356Z"
      },
      {
        "duration": 6,
        "start_time": "2022-06-20T22:02:28.361Z"
      },
      {
        "duration": 9,
        "start_time": "2022-06-20T22:02:28.369Z"
      },
      {
        "duration": 13,
        "start_time": "2022-06-20T22:02:28.379Z"
      },
      {
        "duration": 32,
        "start_time": "2022-06-20T22:02:28.395Z"
      },
      {
        "duration": 9,
        "start_time": "2022-06-20T22:02:28.429Z"
      },
      {
        "duration": 16,
        "start_time": "2022-06-20T22:02:28.440Z"
      },
      {
        "duration": 17,
        "start_time": "2022-06-20T22:02:28.457Z"
      },
      {
        "duration": 7,
        "start_time": "2022-06-20T22:02:28.476Z"
      },
      {
        "duration": 12,
        "start_time": "2022-06-20T22:02:28.484Z"
      },
      {
        "duration": 80,
        "start_time": "2022-06-20T22:02:28.497Z"
      },
      {
        "duration": 0,
        "start_time": "2022-06-20T22:02:28.580Z"
      },
      {
        "duration": 0,
        "start_time": "2022-06-20T22:02:28.581Z"
      },
      {
        "duration": 0,
        "start_time": "2022-06-20T22:02:28.582Z"
      },
      {
        "duration": 0,
        "start_time": "2022-06-20T22:02:28.583Z"
      },
      {
        "duration": 0,
        "start_time": "2022-06-20T22:02:28.584Z"
      },
      {
        "duration": 0,
        "start_time": "2022-06-20T22:02:28.584Z"
      },
      {
        "duration": 0,
        "start_time": "2022-06-20T22:02:28.586Z"
      },
      {
        "duration": 0,
        "start_time": "2022-06-20T22:02:28.586Z"
      },
      {
        "duration": 0,
        "start_time": "2022-06-20T22:02:28.587Z"
      },
      {
        "duration": 0,
        "start_time": "2022-06-20T22:02:28.588Z"
      },
      {
        "duration": 0,
        "start_time": "2022-06-20T22:02:28.589Z"
      },
      {
        "duration": 0,
        "start_time": "2022-06-20T22:02:28.589Z"
      },
      {
        "duration": 0,
        "start_time": "2022-06-20T22:02:28.590Z"
      },
      {
        "duration": 0,
        "start_time": "2022-06-20T22:02:28.591Z"
      },
      {
        "duration": 0,
        "start_time": "2022-06-20T22:02:28.592Z"
      },
      {
        "duration": 0,
        "start_time": "2022-06-20T22:02:28.593Z"
      },
      {
        "duration": 0,
        "start_time": "2022-06-20T22:02:28.594Z"
      },
      {
        "duration": 0,
        "start_time": "2022-06-20T22:02:28.595Z"
      },
      {
        "duration": 0,
        "start_time": "2022-06-20T22:02:28.596Z"
      },
      {
        "duration": 0,
        "start_time": "2022-06-20T22:02:28.597Z"
      },
      {
        "duration": 0,
        "start_time": "2022-06-20T22:02:28.627Z"
      },
      {
        "duration": 0,
        "start_time": "2022-06-20T22:02:28.628Z"
      },
      {
        "duration": 0,
        "start_time": "2022-06-20T22:02:28.630Z"
      },
      {
        "duration": 0,
        "start_time": "2022-06-20T22:02:28.631Z"
      },
      {
        "duration": 0,
        "start_time": "2022-06-20T22:02:28.632Z"
      },
      {
        "duration": 0,
        "start_time": "2022-06-20T22:02:28.633Z"
      },
      {
        "duration": 0,
        "start_time": "2022-06-20T22:02:28.634Z"
      },
      {
        "duration": 0,
        "start_time": "2022-06-20T22:02:28.635Z"
      },
      {
        "duration": 0,
        "start_time": "2022-06-20T22:02:28.636Z"
      },
      {
        "duration": 0,
        "start_time": "2022-06-20T22:02:28.638Z"
      },
      {
        "duration": 0,
        "start_time": "2022-06-20T22:02:28.639Z"
      },
      {
        "duration": 0,
        "start_time": "2022-06-20T22:02:28.640Z"
      },
      {
        "duration": 0,
        "start_time": "2022-06-20T22:02:28.641Z"
      },
      {
        "duration": 0,
        "start_time": "2022-06-20T22:02:28.642Z"
      },
      {
        "duration": 0,
        "start_time": "2022-06-20T22:02:28.643Z"
      },
      {
        "duration": 14,
        "start_time": "2022-06-20T22:04:09.357Z"
      },
      {
        "duration": 6,
        "start_time": "2022-06-20T22:06:00.552Z"
      },
      {
        "duration": 12,
        "start_time": "2022-06-20T22:06:02.094Z"
      },
      {
        "duration": 3,
        "start_time": "2022-06-20T22:06:14.311Z"
      },
      {
        "duration": 402,
        "start_time": "2022-06-20T22:07:27.017Z"
      },
      {
        "duration": 72,
        "start_time": "2022-06-20T22:07:27.420Z"
      },
      {
        "duration": 17,
        "start_time": "2022-06-20T22:07:27.493Z"
      },
      {
        "duration": 13,
        "start_time": "2022-06-20T22:07:27.512Z"
      },
      {
        "duration": 11,
        "start_time": "2022-06-20T22:07:27.526Z"
      },
      {
        "duration": 9,
        "start_time": "2022-06-20T22:07:27.539Z"
      },
      {
        "duration": 31,
        "start_time": "2022-06-20T22:07:27.550Z"
      },
      {
        "duration": 5,
        "start_time": "2022-06-20T22:07:27.583Z"
      },
      {
        "duration": 61,
        "start_time": "2022-06-20T22:07:27.589Z"
      },
      {
        "duration": 3,
        "start_time": "2022-06-20T22:07:27.653Z"
      },
      {
        "duration": 5,
        "start_time": "2022-06-20T22:07:27.657Z"
      },
      {
        "duration": 6,
        "start_time": "2022-06-20T22:07:27.664Z"
      },
      {
        "duration": 5,
        "start_time": "2022-06-20T22:07:27.671Z"
      },
      {
        "duration": 13,
        "start_time": "2022-06-20T22:07:27.678Z"
      },
      {
        "duration": 37,
        "start_time": "2022-06-20T22:07:27.693Z"
      },
      {
        "duration": 15,
        "start_time": "2022-06-20T22:07:27.731Z"
      },
      {
        "duration": 7,
        "start_time": "2022-06-20T22:07:27.748Z"
      },
      {
        "duration": 5,
        "start_time": "2022-06-20T22:07:27.757Z"
      },
      {
        "duration": 14,
        "start_time": "2022-06-20T22:07:27.764Z"
      },
      {
        "duration": 14,
        "start_time": "2022-06-20T22:07:27.780Z"
      },
      {
        "duration": 32,
        "start_time": "2022-06-20T22:07:27.796Z"
      },
      {
        "duration": 11,
        "start_time": "2022-06-20T22:07:27.830Z"
      },
      {
        "duration": 15,
        "start_time": "2022-06-20T22:07:27.842Z"
      },
      {
        "duration": 7,
        "start_time": "2022-06-20T22:07:27.859Z"
      },
      {
        "duration": 8,
        "start_time": "2022-06-20T22:07:27.868Z"
      },
      {
        "duration": 10,
        "start_time": "2022-06-20T22:07:27.877Z"
      },
      {
        "duration": 39,
        "start_time": "2022-06-20T22:07:27.888Z"
      },
      {
        "duration": 6,
        "start_time": "2022-06-20T22:07:27.930Z"
      },
      {
        "duration": 5,
        "start_time": "2022-06-20T22:07:27.937Z"
      },
      {
        "duration": 9,
        "start_time": "2022-06-20T22:07:27.943Z"
      },
      {
        "duration": 4,
        "start_time": "2022-06-20T22:07:27.954Z"
      },
      {
        "duration": 7,
        "start_time": "2022-06-20T22:07:27.960Z"
      },
      {
        "duration": 5,
        "start_time": "2022-06-20T22:07:27.969Z"
      },
      {
        "duration": 52,
        "start_time": "2022-06-20T22:07:27.976Z"
      },
      {
        "duration": 8,
        "start_time": "2022-06-20T22:07:28.030Z"
      },
      {
        "duration": 6,
        "start_time": "2022-06-20T22:07:28.040Z"
      },
      {
        "duration": 19,
        "start_time": "2022-06-20T22:07:28.047Z"
      },
      {
        "duration": 16,
        "start_time": "2022-06-20T22:07:28.068Z"
      },
      {
        "duration": 4,
        "start_time": "2022-06-20T22:07:28.085Z"
      },
      {
        "duration": 43,
        "start_time": "2022-06-20T22:07:28.090Z"
      },
      {
        "duration": 5,
        "start_time": "2022-06-20T22:07:28.134Z"
      },
      {
        "duration": 12,
        "start_time": "2022-06-20T22:07:28.140Z"
      },
      {
        "duration": 6,
        "start_time": "2022-06-20T22:07:28.154Z"
      },
      {
        "duration": 13,
        "start_time": "2022-06-20T22:07:28.161Z"
      },
      {
        "duration": 6,
        "start_time": "2022-06-20T22:07:28.175Z"
      },
      {
        "duration": 154,
        "start_time": "2022-06-20T22:07:28.183Z"
      },
      {
        "duration": 5,
        "start_time": "2022-06-20T22:07:28.339Z"
      },
      {
        "duration": 8,
        "start_time": "2022-06-20T22:07:28.346Z"
      },
      {
        "duration": 18,
        "start_time": "2022-06-20T22:07:28.356Z"
      },
      {
        "duration": 153,
        "start_time": "2022-06-20T22:07:28.376Z"
      },
      {
        "duration": 6,
        "start_time": "2022-06-20T22:07:28.531Z"
      },
      {
        "duration": 15,
        "start_time": "2022-06-20T22:07:28.538Z"
      },
      {
        "duration": 83,
        "start_time": "2022-06-20T22:07:28.555Z"
      },
      {
        "duration": 0,
        "start_time": "2022-06-20T22:07:28.640Z"
      },
      {
        "duration": 0,
        "start_time": "2022-06-20T22:07:28.641Z"
      },
      {
        "duration": 13,
        "start_time": "2022-06-20T22:08:50.192Z"
      },
      {
        "duration": 9,
        "start_time": "2022-06-20T22:12:29.364Z"
      },
      {
        "duration": 17,
        "start_time": "2022-06-20T22:13:48.562Z"
      },
      {
        "duration": 368,
        "start_time": "2022-06-20T22:14:23.201Z"
      },
      {
        "duration": 13,
        "start_time": "2022-06-20T22:14:29.048Z"
      },
      {
        "duration": 8,
        "start_time": "2022-06-20T22:14:41.513Z"
      },
      {
        "duration": 15,
        "start_time": "2022-06-20T22:14:53.440Z"
      },
      {
        "duration": 17,
        "start_time": "2022-06-20T22:15:03.061Z"
      },
      {
        "duration": 428,
        "start_time": "2022-06-21T18:58:51.960Z"
      },
      {
        "duration": 3,
        "start_time": "2022-06-21T18:58:54.692Z"
      },
      {
        "duration": 338,
        "start_time": "2022-06-21T18:58:55.263Z"
      },
      {
        "duration": 28,
        "start_time": "2022-06-21T18:58:55.735Z"
      },
      {
        "duration": 16,
        "start_time": "2022-06-21T18:58:59.704Z"
      },
      {
        "duration": 12,
        "start_time": "2022-06-21T18:59:02.109Z"
      },
      {
        "duration": 12,
        "start_time": "2022-06-21T18:59:02.993Z"
      },
      {
        "duration": 33,
        "start_time": "2022-06-21T18:59:07.032Z"
      },
      {
        "duration": 7,
        "start_time": "2022-06-21T18:59:09.160Z"
      },
      {
        "duration": 33,
        "start_time": "2022-06-21T18:59:09.899Z"
      },
      {
        "duration": 4,
        "start_time": "2022-06-21T18:59:10.219Z"
      },
      {
        "duration": 4,
        "start_time": "2022-06-21T18:59:10.402Z"
      },
      {
        "duration": 4,
        "start_time": "2022-06-21T18:59:10.534Z"
      },
      {
        "duration": 4,
        "start_time": "2022-06-21T18:59:10.854Z"
      },
      {
        "duration": 12,
        "start_time": "2022-06-21T18:59:11.021Z"
      },
      {
        "duration": 6,
        "start_time": "2022-06-21T18:59:11.609Z"
      },
      {
        "duration": 14,
        "start_time": "2022-06-21T18:59:13.500Z"
      },
      {
        "duration": 5,
        "start_time": "2022-06-21T18:59:14.761Z"
      },
      {
        "duration": 5,
        "start_time": "2022-06-21T18:59:17.185Z"
      },
      {
        "duration": 11,
        "start_time": "2022-06-21T18:59:17.829Z"
      },
      {
        "duration": 12,
        "start_time": "2022-06-21T18:59:18.500Z"
      },
      {
        "duration": 4,
        "start_time": "2022-06-21T18:59:19.837Z"
      },
      {
        "duration": 8,
        "start_time": "2022-06-21T18:59:26.459Z"
      },
      {
        "duration": 17,
        "start_time": "2022-06-21T18:59:27.156Z"
      },
      {
        "duration": 8,
        "start_time": "2022-06-21T18:59:27.820Z"
      },
      {
        "duration": 8,
        "start_time": "2022-06-21T18:59:29.127Z"
      },
      {
        "duration": 10,
        "start_time": "2022-06-21T18:59:30.497Z"
      },
      {
        "duration": 11,
        "start_time": "2022-06-21T18:59:31.639Z"
      },
      {
        "duration": 7,
        "start_time": "2022-06-21T18:59:33.857Z"
      },
      {
        "duration": 4,
        "start_time": "2022-06-21T18:59:35.346Z"
      },
      {
        "duration": 8,
        "start_time": "2022-06-21T18:59:36.699Z"
      },
      {
        "duration": 6,
        "start_time": "2022-06-21T18:59:37.297Z"
      },
      {
        "duration": 6,
        "start_time": "2022-06-21T18:59:40.095Z"
      },
      {
        "duration": 7,
        "start_time": "2022-06-21T18:59:41.399Z"
      },
      {
        "duration": 12,
        "start_time": "2022-06-21T18:59:42.013Z"
      },
      {
        "duration": 16,
        "start_time": "2022-06-21T18:59:43.661Z"
      },
      {
        "duration": 8,
        "start_time": "2022-06-21T18:59:44.299Z"
      },
      {
        "duration": 20,
        "start_time": "2022-06-21T18:59:47.486Z"
      },
      {
        "duration": 30,
        "start_time": "2022-06-21T18:59:48.207Z"
      },
      {
        "duration": 4,
        "start_time": "2022-06-21T18:59:55.800Z"
      },
      {
        "duration": 9,
        "start_time": "2022-06-21T18:59:57.214Z"
      },
      {
        "duration": 3,
        "start_time": "2022-06-21T19:00:35.328Z"
      },
      {
        "duration": 7,
        "start_time": "2022-06-21T19:00:37.886Z"
      },
      {
        "duration": 9,
        "start_time": "2022-06-21T19:00:55.833Z"
      },
      {
        "duration": 8,
        "start_time": "2022-06-21T19:01:37.680Z"
      },
      {
        "duration": 6,
        "start_time": "2022-06-21T19:02:01.758Z"
      },
      {
        "duration": 4,
        "start_time": "2022-06-21T19:02:14.710Z"
      },
      {
        "duration": 9,
        "start_time": "2022-06-21T19:02:18.608Z"
      },
      {
        "duration": 10,
        "start_time": "2022-06-21T19:02:48.396Z"
      },
      {
        "duration": 8,
        "start_time": "2022-06-21T19:03:06.921Z"
      },
      {
        "duration": 7,
        "start_time": "2022-06-21T19:03:42.513Z"
      },
      {
        "duration": 5,
        "start_time": "2022-06-21T19:03:59.008Z"
      },
      {
        "duration": 6,
        "start_time": "2022-06-21T19:04:09.656Z"
      },
      {
        "duration": 11,
        "start_time": "2022-06-21T19:04:12.626Z"
      },
      {
        "duration": 8,
        "start_time": "2022-06-21T19:05:58.431Z"
      },
      {
        "duration": 157,
        "start_time": "2022-06-21T19:06:01.367Z"
      },
      {
        "duration": 6,
        "start_time": "2022-06-21T19:06:07.891Z"
      },
      {
        "duration": 3,
        "start_time": "2022-06-21T19:07:47.701Z"
      },
      {
        "duration": 99,
        "start_time": "2022-06-21T19:07:57.158Z"
      },
      {
        "duration": 5,
        "start_time": "2022-06-21T19:08:26.453Z"
      },
      {
        "duration": 85,
        "start_time": "2022-06-21T19:08:50.006Z"
      },
      {
        "duration": 74,
        "start_time": "2022-06-21T19:09:01.958Z"
      },
      {
        "duration": 83,
        "start_time": "2022-06-21T19:09:09.111Z"
      },
      {
        "duration": 88,
        "start_time": "2022-06-21T19:09:59.659Z"
      },
      {
        "duration": 9,
        "start_time": "2022-06-21T19:10:12.716Z"
      },
      {
        "duration": 7,
        "start_time": "2022-06-21T19:10:17.091Z"
      },
      {
        "duration": 12,
        "start_time": "2022-06-21T19:10:41.330Z"
      },
      {
        "duration": 5,
        "start_time": "2022-06-21T19:10:56.816Z"
      },
      {
        "duration": 14,
        "start_time": "2022-06-21T19:12:54.191Z"
      },
      {
        "duration": 13,
        "start_time": "2022-06-21T19:14:08.649Z"
      },
      {
        "duration": 6,
        "start_time": "2022-06-21T19:14:12.994Z"
      },
      {
        "duration": 25,
        "start_time": "2022-06-21T19:14:47.402Z"
      },
      {
        "duration": 30,
        "start_time": "2022-06-21T19:15:03.643Z"
      }
    ],
    "kernelspec": {
      "display_name": "Python 3 (ipykernel)",
      "language": "python",
      "name": "python3"
    },
    "language_info": {
      "codemirror_mode": {
        "name": "ipython",
        "version": 3
      },
      "file_extension": ".py",
      "mimetype": "text/x-python",
      "name": "python",
      "nbconvert_exporter": "python",
      "pygments_lexer": "ipython3",
      "version": "3.9.5"
    },
    "toc": {
      "base_numbering": 1,
      "nav_menu": {
        "height": "287px",
        "width": "816px"
      },
      "number_sections": true,
      "sideBar": true,
      "skip_h1_title": true,
      "title_cell": "Table of Contents",
      "title_sidebar": "Contents",
      "toc_cell": false,
      "toc_position": {
        "height": "calc(100% - 180px)",
        "left": "10px",
        "top": "150px",
        "width": "165px"
      },
      "toc_section_display": true,
      "toc_window_display": true
    },
    "colab": {
      "name": "Project 2.ipynb",
      "provenance": [],
      "collapsed_sections": []
    }
  },
  "nbformat": 4,
  "nbformat_minor": 5
}